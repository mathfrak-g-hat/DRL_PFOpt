{
 "cells": [
  {
   "cell_type": "markdown",
   "id": "50ef8140-ad3f-40a6-918a-f9402ee65bc1",
   "metadata": {
    "id": "50ef8140-ad3f-40a6-918a-f9402ee65bc1"
   },
   "source": [
    "# Per-Step DDPG Agent\n",
    "#### 2023/05/19, AJ Zerouali\n",
    "\n",
    "Goals of this notebook:\n",
    "* Implement an abstract agent for custom portfolio optimization algorithms.\n",
    "* Consolidate B. Cheng's Per-step DDPG code with this class.\n",
    "\n",
    "\n",
    "#### **Note, comments, remarks:**\n",
    "\n",
    "* 23/05/15 - 19:52: Now that I think about these reshaping questions for tensors, I am wondering if flattening the state matrices coming from the environment are a good idea. I don't like how these states are reshaped row by row, because it mixes too many things together. Here are 2 possibilities: \n",
    "    * Maybe it would make much more sense to reshape the transpose of the state matrix.\n",
    "    * The other possibility is to have the input dimension of the policy exactly the same as the state shape. The question asked then is how you make the linear layers parameters and no. of neurons by layer.\n",
    "    I wonder how I should design these neural nets...\n",
    "\n",
    "* 23/05/15 - 20:03: Here is an easy way of testing the replay buffer:\n",
    "    * Create a *replayBuffer* object. Take the buffer size to be 512 for simplicity.\n",
    "    * Make a loop over the no. of periods in the environment.\n",
    "    * Generate a random vector and normalize its entries so they're portfolio weights.\n",
    "    * For each time you call *env.step(rand_wts)*, store in the buffer.\n"
   ]
  },
  {
   "cell_type": "code",
   "execution_count": 1,
   "id": "91870a89-f83d-42bd-90e7-548cfb36ae6a",
   "metadata": {
    "id": "91870a89-f83d-42bd-90e7-548cfb36ae6a"
   },
   "outputs": [],
   "source": [
    "# GLOBAL IMPORTS\n",
    "import pandas as pd\n",
    "import numpy as np\n",
    "import matplotlib.pyplot as plt\n",
    "%matplotlib inline\n",
    "import random\n",
    "from datetime import datetime, timedelta, date\n",
    "import gym\n",
    "#import sys\n",
    "import torch as th\n",
    "from torch import nn\n",
    "from torch import optim\n"
   ]
  },
  {
   "cell_type": "code",
   "execution_count": null,
   "id": "fe5ff192-b0dd-4b9b-ba21-5f7df555c7e5",
   "metadata": {
    "id": "fe5ff192-b0dd-4b9b-ba21-5f7df555c7e5"
   },
   "outputs": [],
   "source": []
  },
  {
   "cell_type": "markdown",
   "id": "8dae894a-42fc-4365-b8bd-d3c46a3bb380",
   "metadata": {
    "id": "8dae894a-42fc-4365-b8bd-d3c46a3bb380",
    "jp-MarkdownHeadingCollapsed": true,
    "tags": []
   },
   "source": [
    "## 0 - Reminders\n",
    "\n",
    "Before implementing the actual agent, it will be important to recall:\n",
    "1) How a pytorch neural net is trained, in particualr:\n",
    "    * How the gradient coputations are turned on or off\n",
    "    * The input of data as batches to a torch net\n",
    "    * How one flattens a numpy array to a torch tensor\n",
    "2) How a deep RL algorithm is written, that is:\n",
    "    * The loop structure over all episodes and over one episode.\n",
    "    * The rollout of transitions from the replay buffer.\n",
    "    * The composition of batches of transitions.\n",
    "    * The evalutation of the critic network over a batch of transitions.\n",
    "    * The policy weight update (gradient step).\n",
    "For a concrete example, we can look at the SB3 implementation of TD3:\n",
    "\n",
    "https://github.com/DLR-RM/stable-baselines3/blob/master/stable_baselines3/td3/td3.py\n"
   ]
  },
  {
   "cell_type": "markdown",
   "id": "5c5fba24-2a60-423f-97d0-95fc3b321758",
   "metadata": {
    "id": "5c5fba24-2a60-423f-97d0-95fc3b321758"
   },
   "source": [
    "### 1) Torch nets and dataloaders"
   ]
  },
  {
   "cell_type": "code",
   "execution_count": null,
   "id": "1552d3dc-000d-4be2-a7f6-e6f005cd503e",
   "metadata": {
    "id": "1552d3dc-000d-4be2-a7f6-e6f005cd503e"
   },
   "outputs": [],
   "source": []
  },
  {
   "cell_type": "code",
   "execution_count": null,
   "id": "29fb4774-4ae5-4020-b7ac-879731b694d2",
   "metadata": {
    "id": "29fb4774-4ae5-4020-b7ac-879731b694d2"
   },
   "outputs": [],
   "source": []
  },
  {
   "cell_type": "markdown",
   "id": "d3253c05-d63c-46bf-9a5d-377c55766474",
   "metadata": {
    "id": "d3253c05-d63c-46bf-9a5d-377c55766474"
   },
   "source": [
    "### 2) Training method of a deep RL algorithm"
   ]
  },
  {
   "cell_type": "markdown",
   "id": "ca1e67b3-68e6-4519-a0ed-6d422d5c8c0f",
   "metadata": {
    "id": "ca1e67b3-68e6-4519-a0ed-6d422d5c8c0f"
   },
   "source": [
    "As a study case, let's look at SB3's *train()* method for TD3:"
   ]
  },
  {
   "cell_type": "code",
   "execution_count": null,
   "id": "b0c31937-022f-4412-9d94-063f2c2cc220",
   "metadata": {
    "id": "b0c31937-022f-4412-9d94-063f2c2cc220"
   },
   "outputs": [],
   "source": [
    "def train(self, gradient_steps: int, batch_size: int = 100) -> None:\n",
    "        '''\n",
    "            Set training mode on. This is for torch's evaluation of gradients\n",
    "        '''\n",
    "        # Switch to train mode (this affects batch norm / dropout)\n",
    "        self.policy.set_training_mode(True)\n",
    "        \n",
    "        '''\n",
    "            Update the learning rate. I won't use it but nice to know.\n",
    "        '''\n",
    "        # Update learning rate according to lr schedule\n",
    "        self._update_learning_rate([self.actor.optimizer, self.critic.optimizer])\n",
    "\n",
    "        actor_losses, critic_losses = [], []\n",
    "        \n",
    "        '''\n",
    "            MAIN LOOP\n",
    "            SB3 loop over the total no. of training steps.\n",
    "        '''\n",
    "        for _ in range(gradient_steps):\n",
    "            self._n_updates += 1\n",
    "            \n",
    "            '''\n",
    "                Sample a batch of transitions from the replay buffer.\n",
    "            '''\n",
    "            # Sample replay buffer\n",
    "            replay_data = self.replay_buffer.sample(batch_size, env=self._vec_normalize_env)  # type: ignore[union-attr]\n",
    "\n",
    "            with th.no_grad():\n",
    "                # Select action according to policy and add clipped noise\n",
    "                noise = replay_data.actions.clone().data.normal_(0, self.target_policy_noise)\n",
    "                noise = noise.clamp(-self.target_noise_clip, self.target_noise_clip)\n",
    "                next_actions = (self.actor_target(replay_data.next_observations) + noise).clamp(-1, 1)\n",
    "\n",
    "                # Compute the next Q-values: min over all critics targets\n",
    "                next_q_values = th.cat(self.critic_target(replay_data.next_observations, next_actions), dim=1)\n",
    "                next_q_values, _ = th.min(next_q_values, dim=1, keepdim=True)\n",
    "                target_q_values = replay_data.rewards + (1 - replay_data.dones) * self.gamma * next_q_values\n",
    "\n",
    "            '''\n",
    "                POLICY EVALUATION STEP (CRITIC VALUE)\n",
    "                This instruction evaluates a batch of actions over a batch of states.\n",
    "                In simple terms: Here we're computing Q(s,a)\n",
    "            '''\n",
    "            # Get current Q-values estimates for each critic network\n",
    "            current_q_values = self.critic(replay_data.observations, replay_data.actions)\n",
    "            \n",
    "            '''\n",
    "                CRITIC LOSS COMPUTATION\n",
    "            '''\n",
    "            # Compute critic loss\n",
    "            critic_loss = sum(F.mse_loss(current_q, target_q_values) for current_q in current_q_values)\n",
    "            assert isinstance(critic_loss, th.Tensor)\n",
    "            critic_losses.append(critic_loss.item())\n",
    "            \n",
    "            '''\n",
    "                CRITIC GRADIENT STEP\n",
    "            '''\n",
    "            # Optimize the critics\n",
    "            self.critic.optimizer.zero_grad()\n",
    "            critic_loss.backward()\n",
    "            self.critic.optimizer.step()\n",
    "\n",
    "            # Delayed policy updates\n",
    "            if self._n_updates % self.policy_delay == 0:\n",
    "                '''\n",
    "                    ACTOR LOSS COMPUTATION\n",
    "                '''\n",
    "                # Compute actor loss\n",
    "                actor_loss = -self.critic.q1_forward(replay_data.observations, self.actor(replay_data.observations)).mean()\n",
    "                actor_losses.append(actor_loss.item())\n",
    "                \n",
    "                '''\n",
    "                    ACTOR GRADIENT STEP\n",
    "                '''\n",
    "                # Optimize the actor\n",
    "                self.actor.optimizer.zero_grad()\n",
    "                actor_loss.backward()\n",
    "                self.actor.optimizer.step()\n",
    "\n",
    "                polyak_update(self.critic.parameters(), self.critic_target.parameters(), self.tau)\n",
    "                polyak_update(self.actor.parameters(), self.actor_target.parameters(), self.tau)\n",
    "                # Copy running stats, see GH issue #996\n",
    "                polyak_update(self.critic_batch_norm_stats, self.critic_batch_norm_stats_target, 1.0)\n",
    "                polyak_update(self.actor_batch_norm_stats, self.actor_batch_norm_stats_target, 1.0)\n",
    "\n",
    "        '''\n",
    "            Book-keeping...\n",
    "        '''\n",
    "        self.logger.record(\"train/n_updates\", self._n_updates, exclude=\"tensorboard\")\n",
    "        if len(actor_losses) > 0:\n",
    "            self.logger.record(\"train/actor_loss\", np.mean(actor_losses))\n",
    "        self.logger.record(\"train/critic_loss\", np.mean(critic_losses))"
   ]
  },
  {
   "cell_type": "code",
   "execution_count": null,
   "id": "05a2e41a-7c4a-4113-a056-4af1a4cb1629",
   "metadata": {
    "id": "05a2e41a-7c4a-4113-a056-4af1a4cb1629"
   },
   "outputs": [],
   "source": []
  },
  {
   "cell_type": "code",
   "execution_count": null,
   "id": "5e983401-c39e-4680-98b8-eff3b35667ae",
   "metadata": {
    "id": "5e983401-c39e-4680-98b8-eff3b35667ae"
   },
   "outputs": [],
   "source": []
  },
  {
   "cell_type": "code",
   "execution_count": null,
   "id": "d06dc28a-7c30-4942-b45c-f7c7705d4643",
   "metadata": {
    "id": "d06dc28a-7c30-4942-b45c-f7c7705d4643"
   },
   "outputs": [],
   "source": []
  },
  {
   "cell_type": "markdown",
   "id": "2c5dcab1-577a-4598-9eda-1a7ccb558a8b",
   "metadata": {
    "id": "2c5dcab1-577a-4598-9eda-1a7ccb558a8b"
   },
   "source": [
    "## A - Per-step DDPG - External Implementation\n",
    "\n",
    "We'll do things in a simple way first: Implement the model (actor+\"critic\"), its training, and the running of backtest outside the agent class. This is to ensure that the torch modules are compatible with our environment class and the way we do our computations here.\n",
    "\n",
    "To this end, we'll go through the following subsections:\n",
    "\n",
    "1) Data loading, processing and splitting\n",
    "\n",
    "2) Model implementation\n",
    "\n",
    "3) Agent main functions implementation\n"
   ]
  },
  {
   "cell_type": "code",
   "execution_count": 1,
   "id": "00d5ae53-6407-42f8-9c38-9b20e6277624",
   "metadata": {
    "id": "00d5ae53-6407-42f8-9c38-9b20e6277624"
   },
   "outputs": [
    {
     "name": "stderr",
     "output_type": "stream",
     "text": [
      "/usr/local/lib/python3.9/dist-packages/pyfolio/pos.py:26: UserWarning: Module \"zipline.assets\" not found; mutltipliers will not be applied to position notionals.\n",
      "  warnings.warn(\n"
     ]
    }
   ],
   "source": [
    "# GLOBAL IMPORTS\n",
    "import pandas as pd\n",
    "import numpy as np\n",
    "import matplotlib.pyplot as plt\n",
    "%matplotlib inline\n",
    "from datetime import datetime, timedelta, date\n",
    "import gym\n",
    "# deque and random\n",
    "from collections import deque\n",
    "import random\n",
    "#import sys\n",
    "import torch as th\n",
    "from torch import nn\n",
    "from torch import optim\n",
    "from drl_pfopt import (PortfolioOptEnv, FeatureEngineer, data_split, AlpacaDownloader, YahooDownloader)\n",
    "from dual_timeframe_XP import (PFOptDualTFEnv, FeatureEngDualTF, data_dict_split)\n"
   ]
  },
  {
   "cell_type": "markdown",
   "id": "e2f38c49-7ed3-4b8d-9b33-536dc250296a",
   "metadata": {
    "id": "e2f38c49-7ed3-4b8d-9b33-536dc250296a"
   },
   "source": [
    "### (1) Data loading, processing and splitting\n",
    "\n",
    "The usual..."
   ]
  },
  {
   "cell_type": "code",
   "execution_count": 2,
   "id": "93b4aed5-ada7-4a44-980a-fe5d46e094b2",
   "metadata": {
    "id": "93b4aed5-ada7-4a44-980a-fe5d46e094b2"
   },
   "outputs": [],
   "source": [
    "# Load DJIA file \n",
    "df_Alpaca_15min = pd.read_csv(filepath_or_buffer=\"datasets/Alpaca_DJIA_15min_2208-2211.csv\",\n",
    "                           usecols = ['date', 'open', 'high', 'low', 'close', 'volume', 'tic'])\n",
    "TICKER_LIST = ['AXP', 'BA', 'CVX', 'JNJ', 'KO']\n",
    "\n",
    "\n",
    "# Reduce to 10 stocks\n",
    "df_file = df_Alpaca_15min[df_Alpaca_15min.tic.isin(TICKER_LIST)].copy()\n",
    "del df_Alpaca_15min"
   ]
  },
  {
   "cell_type": "code",
   "execution_count": 3,
   "id": "f3c93dae-1ca7-4f42-b21e-647ee6fb144d",
   "metadata": {
    "colab": {
     "base_uri": "https://localhost:8080/"
    },
    "id": "f3c93dae-1ca7-4f42-b21e-647ee6fb144d",
    "outputId": "37ed3121-b855-4440-9c04-881515764ea7"
   },
   "outputs": [
    {
     "name": "stdout",
     "output_type": "stream",
     "text": [
      "Chosen data source is Alapaca API. Use set_Alpaca_parameters()\n",
      "to provide the following parameters:\n",
      "api_key (str), api_secret (str).\n",
      "Successfully computed asset returns and their covariances\n",
      "Successfully added technical indicators\n",
      "Successfully added turbulence index\n"
     ]
    }
   ],
   "source": [
    "# Feature Engineer params\n",
    "trade_timeframe = \"Hour\"\n",
    "trade_ext_hours = True\n",
    "N_lookback_trade_prds = 15\n",
    "tech_ind_list = [\"turbulence\"]\n",
    "use_return_covs = True\n",
    "\n",
    "# Instantiate feature eng. object\n",
    "processor = FeatureEngDualTF(tech_indicator_list = tech_ind_list,\n",
    "                             use_return_covs = use_return_covs,\n",
    "                             data_source = \"Alpaca\")\n",
    "\n",
    "\n",
    "# Preprocess data\n",
    "data_dict = processor.preprocess_data(df_X = df_file,\n",
    "                                      trade_timeframe = trade_timeframe,\n",
    "                                      trade_ext_hours = trade_ext_hours,\n",
    "                                      N_lookback_trade_prds = N_lookback_trade_prds,)"
   ]
  },
  {
   "cell_type": "code",
   "execution_count": 4,
   "id": "5ee04bd3-b50b-45a5-b13a-db4eaf2c331b",
   "metadata": {
    "id": "5ee04bd3-b50b-45a5-b13a-db4eaf2c331b"
   },
   "outputs": [],
   "source": [
    "# Data split\n",
    "split_date = \"2022-10-18\"\n",
    "data_dict_train, data_dict_test = data_dict_split(data_dict, split_date)"
   ]
  },
  {
   "cell_type": "markdown",
   "id": "9aa670c8-4a22-4f33-b996-d730f2b91796",
   "metadata": {
    "id": "9aa670c8-4a22-4f33-b996-d730f2b91796"
   },
   "source": [
    "Now we create the environments corresponding to these datasets:"
   ]
  },
  {
   "cell_type": "code",
   "execution_count": 5,
   "id": "79af6b7f-248e-4aad-b6df-7c44bf9e3621",
   "metadata": {
    "id": "79af6b7f-248e-4aad-b6df-7c44bf9e3621"
   },
   "outputs": [
    {
     "name": "stdout",
     "output_type": "stream",
     "text": [
      "obs_space_shape = (65, 5)\n"
     ]
    }
   ],
   "source": [
    "# Env parameters\n",
    "#state_struct_list = [\"volume\", \"close_returns\", \"returns_cov\", \"weights\"]\n",
    "state_struct_list = [\"close_returns\", \"weights\"]\n",
    "weight_normalization = \"identity\"#\"softmax\"#\"relu\"\n",
    "transaction_cost_pct = 0.0\n",
    "reward_type = \"portfolio_return\"\n",
    "pf_value_ini = 100000.0\n",
    "plot_prds_end_episode=40\n",
    "\n",
    "# Training environment\n",
    "env_train = PFOptDualTFEnv(data_dict = data_dict_train,\n",
    "                     pf_value_ini = pf_value_ini,\n",
    "                     reward_type = reward_type,\n",
    "                     state_struct_list = state_struct_list,\n",
    "                     tech_ind_list = tech_ind_list,\n",
    "                     transaction_cost_pct = transaction_cost_pct,\n",
    "                     weight_normalization = weight_normalization,\n",
    "                     plot_prds_end_episode=plot_prds_end_episode,)\n",
    "\n",
    "# Testing environment\n",
    "env_test = PFOptDualTFEnv(data_dict = data_dict_test,\n",
    "                     pf_value_ini = pf_value_ini,\n",
    "                     reward_type = reward_type,\n",
    "                     state_struct_list = state_struct_list,\n",
    "                     tech_ind_list = tech_ind_list,\n",
    "                     transaction_cost_pct = transaction_cost_pct,\n",
    "                     weight_normalization = weight_normalization,\n",
    "                     plot_prds_end_episode=plot_prds_end_episode,)\n",
    "\n",
    "print(f\"obs_space_shape = {env_train.obs_space_shape}\")"
   ]
  },
  {
   "cell_type": "code",
   "execution_count": null,
   "id": "57781a14-1160-4f0d-8e15-29f0f61f454f",
   "metadata": {
    "id": "57781a14-1160-4f0d-8e15-29f0f61f454f"
   },
   "outputs": [],
   "source": []
  },
  {
   "cell_type": "code",
   "execution_count": null,
   "id": "7702fdcc-48a5-492d-afd9-f99457483c2f",
   "metadata": {
    "id": "7702fdcc-48a5-492d-afd9-f99457483c2f"
   },
   "outputs": [],
   "source": []
  },
  {
   "cell_type": "markdown",
   "id": "d2de71c1-f609-4c1e-ab92-a831e1607f03",
   "metadata": {
    "id": "d2de71c1-f609-4c1e-ab92-a831e1607f03"
   },
   "source": [
    "### (2) Model implementation\n",
    "\n",
    "In this part we will implement our actor, pseudo-critic and our replay buffer"
   ]
  },
  {
   "cell_type": "markdown",
   "id": "2b323115-0ac3-4b7f-8ca4-077092928046",
   "metadata": {
    "id": "2b323115-0ac3-4b7f-8ca4-077092928046"
   },
   "source": [
    "#### 2.a - Actor implementation\n",
    "\n",
    "The torch module we implement here predicts the optimal portfolio weights. I doubt that this is the correct approach..."
   ]
  },
  {
   "cell_type": "code",
   "execution_count": 6,
   "id": "9a9efe93-b58c-4e1d-a404-46e8562edf10",
   "metadata": {
    "id": "9a9efe93-b58c-4e1d-a404-46e8562edf10",
    "jupyter": {
     "source_hidden": true
    },
    "tags": []
   },
   "outputs": [],
   "source": [
    "'''\n",
    "        ###############################\n",
    "        ##### ACTOR NETWORK CLASS #####\n",
    "        ###############################\n",
    "        ## VERSION 0.0\n",
    "        \n",
    "'''\n",
    "class Actor(nn.Module): \n",
    "    def __init__(self, state_dim, action_dim, h1, h2,  weight_normalization, init_w=0.003):\n",
    "        \n",
    "        super(Actor, self).__init__()        \n",
    "        self.linear1 = nn.Linear(state_dim, h1)\n",
    "        self.linear1.weight.data = fanin_(self.linear1.weight.data.size())\n",
    "        \n",
    "        \n",
    "        self.linear2 = nn.Linear(h1, h2)\n",
    "        self.linear2.weight.data = fanin_(self.linear2.weight.data.size())\n",
    "                \n",
    "        self.linear3 = nn.Linear(h2, action_dim)\n",
    "        self.linear3.weight.data.uniform_(-init_w, init_w)\n",
    "\n",
    "        self.relu = nn.ReLU()\n",
    "        self.tanh = nn.Tanh()\n",
    "        self.softmax = nn.Softmax(dim=1) ## dim = 1, across output dimension, not batch dimension shall be normalized\n",
    "        \n",
    "        # Weight computation/normalization function\n",
    "        if weight_normalization == \"softmax\":\n",
    "            self.compute_weights = self.softmax_normalization\n",
    "        elif weight_normalization == \"relu\":\n",
    "            self.compute_weights = self.relu_normalization\n",
    "        \n",
    "        # Device\n",
    "        self.device = th.device(\"cuda\" if th.cuda.is_available() else \"cpu\")\n",
    "        self.to(self.device)\n",
    "        \n",
    "    def forward(self, state):\n",
    "        \n",
    "        x = self.linear1(state)\n",
    "        x = self.relu(x)\n",
    "        x = self.linear2(x)\n",
    "        x = self.relu(x)\n",
    "        x = self.linear3(x)\n",
    "        \n",
    "        x = self.compute_weights(x)\n",
    "        return x\n",
    "    \n",
    "    def softmax_normalization(self, action):\n",
    "        '''\n",
    "            :param action: th.Tensor\n",
    "        '''\n",
    "        weights = self.softmax(action)\n",
    "        return weights\n",
    "    \n",
    "    def relu_normalization(self, action):\n",
    "        action = (action+th.abs(action))/2\n",
    "        weights = action/th.sum(action)\n",
    "        '''\n",
    "        if th.sum(action) != 0:\n",
    "            weights = action/th.sum(action)\n",
    "        else:\n",
    "            weights = th.FloatTensor(np.ones(shape)).to(self.device)\n",
    "        '''\n",
    "        return weights\n",
    "\n",
    "def fanin_(size):\n",
    "    '''\n",
    "        Helper function\n",
    "    '''\n",
    "    fan_in = size[0]\n",
    "    weight = 1./np.sqrt(fan_in)\n",
    "    return th.Tensor(size).uniform_(-weight, weight)\n",
    "    "
   ]
  },
  {
   "cell_type": "code",
   "execution_count": null,
   "id": "a4c236f0-6a9c-4b9c-a756-861e3ef14225",
   "metadata": {},
   "outputs": [],
   "source": []
  },
  {
   "cell_type": "code",
   "execution_count": 7,
   "id": "01698467-7cdf-4cb2-872c-23977cb6f0d1",
   "metadata": {
    "id": "9a9efe93-b58c-4e1d-a404-46e8562edf10",
    "jupyter": {
     "source_hidden": true
    },
    "tags": []
   },
   "outputs": [],
   "source": [
    "'''\n",
    "        ###############################\n",
    "        ##### ACTOR NETWORK CLASS #####\n",
    "        ###############################\n",
    "        # A SECOND IMPLEMENTATION: 23/05/17\n",
    "        COMMENTS (23/05/18)\n",
    "         I made this second implementation for the following reasons\n",
    "        - Initially, I had a major issue of NaN outputs.\n",
    "        - I changed the activation of the last layer to sigmoid or tanh\n",
    "          which resolved the NaN issues.\n",
    "        - Initially, the environment computed the portfolio weights as\n",
    "          some normalization of the agent actions, which clashed with\n",
    "          Bill's implementation, and this furthermore required a normalization\n",
    "          done by the pseudo-critic net. \n",
    "          The solution is to allow the environment to use the actions as \n",
    "          portfolio weights, and ensure that the agent actually produces\n",
    "          normalized actions.\n",
    "          \n",
    "'''\n",
    "class Actor(nn.Module): \n",
    "    def __init__(self, state_dim, action_dim, h1, h2,  weight_normalization, init_w=0.003):\n",
    "        \n",
    "        super(Actor, self).__init__()        \n",
    "        self.linear1 = nn.Linear(state_dim, h1)\n",
    "        self.linear1.weight.data = fanin_(self.linear1.weight.data.size())\n",
    "        \n",
    "        \n",
    "        self.linear2 = nn.Linear(h1, h2)\n",
    "        self.linear2.weight.data = fanin_(self.linear2.weight.data.size())\n",
    "                \n",
    "        self.linear3 = nn.Linear(h2, action_dim)\n",
    "        self.linear3.weight.data.uniform_(-init_w, init_w)\n",
    "\n",
    "        self.relu = nn.ReLU()\n",
    "        self.tanh = nn.Tanh()\n",
    "        self.sigmoid = nn.Sigmoid()\n",
    "                \n",
    "        # Device\n",
    "        self.device = th.device(\"cuda\" if th.cuda.is_available() else \"cpu\")\n",
    "        self.to(self.device)\n",
    "        \n",
    "    def forward(self, state):\n",
    "        \n",
    "        x = self.linear1(state)\n",
    "        x = self.relu(x)\n",
    "        x = self.linear2(x)\n",
    "        x = self.relu(x)\n",
    "        x = self.linear3(x)\n",
    "        \n",
    "        # Actions in [0, 1]\n",
    "        x = self.sigmoid(x)\n",
    "        return x\n",
    "\n",
    "def fanin_(size):\n",
    "    '''\n",
    "        Helper function\n",
    "    '''\n",
    "    fan_in = size[0]\n",
    "    weight = 1./np.sqrt(fan_in)\n",
    "    return th.Tensor(size).uniform_(-weight, weight)\n",
    "    "
   ]
  },
  {
   "cell_type": "code",
   "execution_count": 6,
   "id": "9e1ba170-6cd3-42ca-82be-6fe0754a0df1",
   "metadata": {
    "id": "9a9efe93-b58c-4e1d-a404-46e8562edf10",
    "tags": []
   },
   "outputs": [],
   "source": [
    "'''\n",
    "        ###############################\n",
    "        ##### ACTOR NETWORK CLASS #####\n",
    "        ###############################\n",
    "        # VERSION 3: 23/05/18\n",
    "        COMMENTS (23/05/18)\n",
    "        - The forward() method of this nn.Module computes\n",
    "          portfolio weights.\n",
    "        - At time of writing (23/05/18), there is only one\n",
    "          action normalization implemented, softmax.\n",
    "        - There are additional parameters, see docstring \n",
    "          of constructor.\n",
    "        \n",
    "'''\n",
    "class Actor(nn.Module):\n",
    "    '''\n",
    "        Actor class for DDPG per-step algorithm\n",
    "    '''\n",
    "    def __init__(self, \n",
    "                 state_dim: int, \n",
    "                 action_dim: int, \n",
    "                 h1: int, \n",
    "                 h2: int,\n",
    "                 weight_normalization: str = \"softmax\", \n",
    "                 activation_fn: str = \"sigmoid\", #sigmoid, tanh, relu\n",
    "                 activation_scale: float = 1.0,\n",
    "                 init_w: float = 0.003,\n",
    "                ):\n",
    "        '''\n",
    "            :param state_dim: int, no. of units in input layer.\n",
    "                        Should be the shape obtained from state.view(1,-1)\n",
    "                        if \"state\" is an array returned by the environment.\n",
    "            :param action_dim: int, no. of components of output vector.\n",
    "                        Should equal env.n_assets if env is the environment\n",
    "                        used.\n",
    "            :param h1: int, no. of neurons in 1st hidden layer.\n",
    "            :param h2: int, no. of neurons in 2nd hidden layer.\n",
    "            :param weight_normalization: str, normalization type for portfolio weights.\n",
    "                        default is \"softmax\"\n",
    "            :param activation_fn: str, \n",
    "            :param activation_scale: float, multiplication factor for pre-normalization \n",
    "                        activation. Default: 1.0.\n",
    "            :param init_w: float, weight initialization. Default: 0.003.\n",
    "            \n",
    "        '''\n",
    "        \n",
    "        super(Actor, self).__init__()\n",
    "        \n",
    "        # Layers\n",
    "        self.linear1 = nn.Linear(state_dim, h1)\n",
    "        self.linear1.weight.data = fanin_(self.linear1.weight.data.size())\n",
    "        self.linear2 = nn.Linear(h1, h2)\n",
    "        self.linear2.weight.data = fanin_(self.linear2.weight.data.size())\n",
    "        self.linear3 = nn.Linear(h2, action_dim)\n",
    "        self.linear3.weight.data.uniform_(-init_w, init_w)\n",
    "\n",
    "        # Activation functions\n",
    "        self.activation_scale = activation_scale\n",
    "        self.relu = nn.ReLU()\n",
    "        self.tanh = nn.Tanh()\n",
    "        self.sigmoid = nn.Sigmoid()\n",
    "        self.softmax = nn.Softmax(dim = 1)\n",
    "        if activation_fn == \"sigmoid\":\n",
    "            self.activation_fn = self.sigmoid\n",
    "        elif activation_fn == \"tanh\":\n",
    "            self.activation_fn = self.tanh\n",
    "        elif activation_fn == \"relu\":\n",
    "            self.activation_fn = self.relu\n",
    "        elif activation_fn == \"identity\":\n",
    "            self.activation_fn = self.identity_activation\n",
    "        else:\n",
    "            raise ValueError(f\"Activation function {activation_fn} is not supported\")\n",
    "        \n",
    "        # Normalization to portfolio weights\n",
    "        if weight_normalization == \"softmax\":\n",
    "            self.normalize = self.softmax_normalization\n",
    "        elif weight_normalization == \"relu\":\n",
    "            self.normalize = self.relu_normalization\n",
    "        else:\n",
    "            raise ValueError(f\"Weight normalization{weight_normalization} is not supported\")\n",
    "        \n",
    "                \n",
    "        # Device\n",
    "        self.device = th.device(\"cuda\" if th.cuda.is_available() else \"cpu\")\n",
    "        self.to(self.device)\n",
    "    \n",
    "    def identity_activation(self,\n",
    "                            x: th.FloatTensor,\n",
    "                           ):\n",
    "        return x\n",
    "    \n",
    "    def softmax_normalization(self,\n",
    "                              x: th.FloatTensor,\n",
    "                             ):\n",
    "        return self.softmax(x)\n",
    "    \n",
    "    def relu_normalization(self,):\n",
    "        raise NotImplementedError(\"relu normalization not supported\")\n",
    "    \n",
    "    def forward(self, state):\n",
    "        \n",
    "        # Forward pass thru layers\n",
    "        x = self.linear1(state)\n",
    "        x = self.relu(x)\n",
    "        x = self.linear2(x)\n",
    "        x = self.relu(x)\n",
    "        x = self.linear3(x)\n",
    "        # Pre-normalization activation\n",
    "        x = self.activation_fn(x)\n",
    "        x = self.activation_scale*x\n",
    "        # Normalization to portfolio weights\n",
    "        x = self.normalize(x)\n",
    "        return x\n",
    "\n",
    "def fanin_(size):\n",
    "    '''\n",
    "        Helper function\n",
    "    '''\n",
    "    fan_in = size[0]\n",
    "    weight = 1./np.sqrt(fan_in)\n",
    "    return th.Tensor(size).uniform_(-weight, weight)\n",
    "    "
   ]
  },
  {
   "cell_type": "markdown",
   "id": "ccbe6576-404d-4b64-a691-ad74fb5d4f40",
   "metadata": {
    "id": "ccbe6576-404d-4b64-a691-ad74fb5d4f40",
    "jp-MarkdownHeadingCollapsed": true,
    "tags": []
   },
   "source": [
    "#### **Testing the actor net**"
   ]
  },
  {
   "cell_type": "markdown",
   "id": "94842f97-8445-45ed-afc1-c85c8f1e695f",
   "metadata": {
    "id": "94842f97-8445-45ed-afc1-c85c8f1e695f"
   },
   "source": [
    "Let's test this on the first state of the training env."
   ]
  },
  {
   "cell_type": "code",
   "execution_count": 7,
   "id": "10aad97c-7b31-4fe3-98bc-04c567d38043",
   "metadata": {
    "id": "10aad97c-7b31-4fe3-98bc-04c567d38043",
    "outputId": "607b898c-6286-4fca-f4c6-ee4a9ee4094a"
   },
   "outputs": [
    {
     "data": {
      "text/plain": [
       "(74, 5)"
      ]
     },
     "execution_count": 7,
     "metadata": {},
     "output_type": "execute_result"
    }
   ],
   "source": [
    "env_train.obs_space_shape"
   ]
  },
  {
   "cell_type": "code",
   "execution_count": 8,
   "id": "11d19386-b0b0-42fa-a480-d1864932eb2b",
   "metadata": {
    "id": "11d19386-b0b0-42fa-a480-d1864932eb2b"
   },
   "outputs": [],
   "source": [
    "# Actor parameters\n",
    "dim_in = env_train.obs_space_shape[0]*env_train.obs_space_shape[1]\n",
    "n_hidden_1 = 4*dim_in\n",
    "n_hidden_2 = 2*dim_in\n",
    "dim_out = env_train.n_assets\n",
    "weight_normalization = env_train.weight_normalization\n",
    "\n",
    "# Instantiate actor net\n",
    "actor_net = Actor(state_dim=dim_in, \n",
    "                  action_dim = dim_out, \n",
    "                  h1 = n_hidden_1, \n",
    "                  h2 = n_hidden_2,\n",
    "                  weight_normalization = weight_normalization,\n",
    "                 )"
   ]
  },
  {
   "cell_type": "markdown",
   "id": "df4ee72f-daac-4ad4-adf5-dd26beb8a1b6",
   "metadata": {
    "id": "df4ee72f-daac-4ad4-adf5-dd26beb8a1b6"
   },
   "source": [
    "Compute some input from first state:"
   ]
  },
  {
   "cell_type": "code",
   "execution_count": 9,
   "id": "848579e4-c6bc-489c-9c36-95d8d3601285",
   "metadata": {
    "id": "848579e4-c6bc-489c-9c36-95d8d3601285"
   },
   "outputs": [],
   "source": [
    "# First state\n",
    "S_0 = env_train.X[0,:,:]\n",
    "S_0_ = th.FloatTensor(S_0).to(actor_net.device)\n"
   ]
  },
  {
   "cell_type": "code",
   "execution_count": null,
   "id": "47f4b78d-df09-4591-81be-e9ab3cbf3406",
   "metadata": {
    "id": "47f4b78d-df09-4591-81be-e9ab3cbf3406",
    "outputId": "e8a73686-fc03-430d-b09e-0eb3b06afd6e"
   },
   "outputs": [
    {
     "data": {
      "text/plain": [
       "torch.Size([74, 5])"
      ]
     },
     "execution_count": 15,
     "metadata": {},
     "output_type": "execute_result"
    }
   ],
   "source": [
    "S_0_.shape"
   ]
  },
  {
   "cell_type": "code",
   "execution_count": null,
   "id": "2c5ce458-4d42-4c9c-b33b-2ddcb4acfccf",
   "metadata": {
    "id": "2c5ce458-4d42-4c9c-b33b-2ddcb4acfccf",
    "outputId": "6fbea12e-b5f4-4c78-f688-c7e499f544de"
   },
   "outputs": [
    {
     "data": {
      "text/plain": [
       "torch.Size([1, 370])"
      ]
     },
     "execution_count": 26,
     "metadata": {},
     "output_type": "execute_result"
    }
   ],
   "source": [
    "S_0_.view(1,-1).shape"
   ]
  },
  {
   "cell_type": "code",
   "execution_count": null,
   "id": "8b59ccfe-bf4d-4be9-9b44-c2d13b11a3c7",
   "metadata": {
    "id": "8b59ccfe-bf4d-4be9-9b44-c2d13b11a3c7",
    "outputId": "adfce406-bcfe-479c-9e5d-7069f028095f"
   },
   "outputs": [
    {
     "data": {
      "text/plain": [
       "device(type='cpu')"
      ]
     },
     "execution_count": 21,
     "metadata": {},
     "output_type": "execute_result"
    }
   ],
   "source": [
    "S_0_.device"
   ]
  },
  {
   "cell_type": "code",
   "execution_count": null,
   "id": "3bc72974-e598-4b76-a4ba-b6c51dcd8b3f",
   "metadata": {
    "id": "3bc72974-e598-4b76-a4ba-b6c51dcd8b3f",
    "outputId": "ba95bdd2-cd0b-472e-b15d-ba5dbe4e9f5d"
   },
   "outputs": [
    {
     "data": {
      "text/plain": [
       "370"
      ]
     },
     "execution_count": 19,
     "metadata": {},
     "output_type": "execute_result"
    }
   ],
   "source": [
    "dim_in"
   ]
  },
  {
   "cell_type": "code",
   "execution_count": 10,
   "id": "aecefbe2-3261-416c-9e36-d4064897214b",
   "metadata": {
    "id": "aecefbe2-3261-416c-9e36-d4064897214b"
   },
   "outputs": [],
   "source": [
    "a = actor_net(S_0_.view(1,-1))"
   ]
  },
  {
   "cell_type": "code",
   "execution_count": 11,
   "id": "d0fbc17a-fa9b-479f-bf3c-cffffcda1cd9",
   "metadata": {
    "id": "d0fbc17a-fa9b-479f-bf3c-cffffcda1cd9",
    "outputId": "a17f2d0d-97e6-40d8-89a5-ea3707ff2fdd"
   },
   "outputs": [
    {
     "data": {
      "text/plain": [
       "tensor([[0.4351, 0.5649, 0.0000, 0.0000, 0.0000]], device='cuda:0',\n",
       "       grad_fn=<DivBackward0>)"
      ]
     },
     "execution_count": 11,
     "metadata": {},
     "output_type": "execute_result"
    }
   ],
   "source": [
    "a"
   ]
  },
  {
   "cell_type": "code",
   "execution_count": 12,
   "id": "073bd077-0f2e-47d1-9466-0d2ca17990fd",
   "metadata": {},
   "outputs": [],
   "source": [
    "np_a = a.detach().cpu().numpy()"
   ]
  },
  {
   "cell_type": "code",
   "execution_count": 14,
   "id": "d36dd688-a2e8-41d4-8cfb-fd69e5534840",
   "metadata": {},
   "outputs": [
    {
     "data": {
      "text/plain": [
       "array([0.43506992, 0.5649301 , 0.        , 0.        , 0.        ],\n",
       "      dtype=float32)"
      ]
     },
     "execution_count": 14,
     "metadata": {},
     "output_type": "execute_result"
    }
   ],
   "source": [
    "np_a[0]"
   ]
  },
  {
   "cell_type": "markdown",
   "id": "18c901bf-b832-4991-ad4e-3ed687567249",
   "metadata": {
    "id": "18c901bf-b832-4991-ad4e-3ed687567249",
    "jp-MarkdownHeadingCollapsed": true,
    "tags": []
   },
   "source": [
    "#### **Additional notes for later**"
   ]
  },
  {
   "cell_type": "markdown",
   "id": "26c45124-ecfe-4168-9aac-42b536b53b10",
   "metadata": {
    "id": "26c45124-ecfe-4168-9aac-42b536b53b10"
   },
   "source": [
    "**A short summary:** To evaluate the neural net on a given state at time *t*, we:\n",
    "* Convert the state to a torch tensor, reshape it, and send it to the device of the net:\n",
    "\n",
    "        # Numpy state array\n",
    "        S_t = env_train.X[t,:,:]\n",
    "        \n",
    "        # Convert to torch tensor and send to net device\n",
    "        S_t_ = th.FloatTensor(S_t).to(actor_net.device)\n",
    "        \n",
    "        # Reshape and evaluate:\n",
    "        a_t_ = actor_net(S_t_.view(1,-1))\n",
    "        \n",
    "* **IMPORTANT:** It's important to distinguish between the *batch_first=True* and *False* cases. Note that:\n",
    "        \n",
    "        # batch_first = True\n",
    "        S_t_.view(1,-1).shape = (1, dim_in)\n",
    "        \n",
    "        # batch_first = False\n",
    "        S_t_.view(1,-1).shape = (dim_in, 1)\n",
    "        \n",
    "In the second case, the instruction:\n",
    "\n",
    "        actor_net(S_t_.view(1,-1))\n",
    "        \n",
    "returns an error, because of the mismatch with the dimension of the first layer of *actor_net*. (I think this is the correct way to do it). Now"
   ]
  },
  {
   "cell_type": "code",
   "execution_count": null,
   "id": "a7225bf8-d840-4d89-940d-7334b268e48b",
   "metadata": {
    "id": "a7225bf8-d840-4d89-940d-7334b268e48b",
    "outputId": "241d2623-4648-4108-c496-c67315be0df4"
   },
   "outputs": [
    {
     "data": {
      "text/plain": [
       "(1, 370)"
      ]
     },
     "execution_count": 30,
     "metadata": {},
     "output_type": "execute_result"
    }
   ],
   "source": [
    "S_0.reshape(1,-1).shape"
   ]
  },
  {
   "cell_type": "code",
   "execution_count": null,
   "id": "c1e40d0e-c713-42aa-ba3d-4e6840e1d7d8",
   "metadata": {
    "id": "c1e40d0e-c713-42aa-ba3d-4e6840e1d7d8",
    "outputId": "08e486d5-a2dc-4e85-9a9c-aded45b63303"
   },
   "outputs": [
    {
     "name": "stdout",
     "output_type": "stream",
     "text": [
      "S_0.reshape(-1).shape = (370,)\n",
      "S_0.squeeze().shape = (74, 5)\n",
      "S_0.flatten().shape = (370,)\n"
     ]
    }
   ],
   "source": [
    "print(f\"S_0.reshape(-1).shape = {S_0.reshape(-1).shape}\")\n",
    "print(f\"S_0.squeeze().shape = {S_0.squeeze().shape}\")\n",
    "print(f\"S_0.flatten().shape = {S_0.flatten().shape}\")"
   ]
  },
  {
   "cell_type": "code",
   "execution_count": null,
   "id": "135edfae-78ba-48bf-ab96-42016388ce27",
   "metadata": {
    "id": "135edfae-78ba-48bf-ab96-42016388ce27"
   },
   "outputs": [],
   "source": [
    "S_0_sqz = S_0.reshape"
   ]
  },
  {
   "cell_type": "markdown",
   "id": "14bbe4d8-c214-458d-83ca-50d79a094aef",
   "metadata": {
    "id": "14bbe4d8-c214-458d-83ca-50d79a094aef"
   },
   "source": [
    "It would be worth understanding what the following instructions do:\n",
    "\n",
    "        s = env_train.reset()\n",
    "        s = s.flatten()\n",
    "        s = torch.from_numpy(s).float().unsqueeze(0)\n",
    "        \n",
    "I hate the machine learning lingo..."
   ]
  },
  {
   "cell_type": "code",
   "execution_count": null,
   "id": "f497f7c2-e721-4f4d-abc9-2559aea3ca97",
   "metadata": {
    "id": "f497f7c2-e721-4f4d-abc9-2559aea3ca97",
    "outputId": "999dc46b-6906-4d68-b6bc-c00531584e20"
   },
   "outputs": [
    {
     "name": "stdout",
     "output_type": "stream",
     "text": [
      "s.shape = (370,); type(s) = <class 'numpy.ndarray'>\n",
      "s.shape = torch.Size([1, 370]); type(s) = <class 'torch.Tensor'>\n"
     ]
    }
   ],
   "source": [
    "# Copy init. state\n",
    "s = S_0\n",
    "\n",
    "# flatten\n",
    "s = s.flatten()\n",
    "print(f\"s.shape = {s.shape}; type(s) = {type(s)}\")\n",
    "\n",
    "# float and unsqueeze\n",
    "s = th.from_numpy(s).float().unsqueeze(0)\n",
    "print(f\"s.shape = {s.shape}; type(s) = {type(s)}\")"
   ]
  },
  {
   "cell_type": "markdown",
   "id": "8630d236-2260-457a-99fd-59b7c70043db",
   "metadata": {
    "id": "8630d236-2260-457a-99fd-59b7c70043db"
   },
   "source": [
    "Note that *view(1,-1)* and *flatten()* do exactly what we'd expect: The rows are concatenated."
   ]
  },
  {
   "cell_type": "code",
   "execution_count": null,
   "id": "cc5a23e6-574a-4cd7-83ef-e2587bdb5e91",
   "metadata": {
    "id": "cc5a23e6-574a-4cd7-83ef-e2587bdb5e91",
    "outputId": "906df647-62e6-48b0-c13c-e34fc76f2111"
   },
   "outputs": [
    {
     "data": {
      "text/plain": [
       "(74, 5)"
      ]
     },
     "execution_count": 35,
     "metadata": {},
     "output_type": "execute_result"
    }
   ],
   "source": [
    "S_0.shape"
   ]
  },
  {
   "cell_type": "code",
   "execution_count": null,
   "id": "137adb93-07ff-4c0f-8024-5f3475e07231",
   "metadata": {
    "id": "137adb93-07ff-4c0f-8024-5f3475e07231",
    "outputId": "1b0b2bd7-1ea8-4ba9-de2a-e408c98378e2"
   },
   "outputs": [
    {
     "data": {
      "text/plain": [
       "array([100., 133., 261., 240., 532.])"
      ]
     },
     "execution_count": 36,
     "metadata": {},
     "output_type": "execute_result"
    }
   ],
   "source": [
    "S_0[0,:]"
   ]
  },
  {
   "cell_type": "code",
   "execution_count": null,
   "id": "80568ca0-68ce-42d7-9a91-e009b51a96ed",
   "metadata": {
    "id": "80568ca0-68ce-42d7-9a91-e009b51a96ed",
    "outputId": "199c6c66-6b59-48f2-a6b8-b63b47d1ab6d"
   },
   "outputs": [
    {
     "data": {
      "text/plain": [
       "array([100., 133., 261., 240., 532.])"
      ]
     },
     "execution_count": 39,
     "metadata": {},
     "output_type": "execute_result"
    }
   ],
   "source": [
    "S_0.flatten()[:5]"
   ]
  },
  {
   "cell_type": "code",
   "execution_count": null,
   "id": "b6fdeb71-c735-4ebb-8391-ed70b4af41db",
   "metadata": {
    "id": "b6fdeb71-c735-4ebb-8391-ed70b4af41db",
    "outputId": "3bd76fa9-bc8c-482a-f6b3-7f39500fae56"
   },
   "outputs": [
    {
     "data": {
      "text/plain": [
       "tensor([100., 133., 261., 240., 532.])"
      ]
     },
     "execution_count": 38,
     "metadata": {},
     "output_type": "execute_result"
    }
   ],
   "source": [
    "s[0,:5]"
   ]
  },
  {
   "cell_type": "markdown",
   "id": "f2f37618-b036-41a3-9d54-9e0a7b3b4b04",
   "metadata": {
    "id": "f2f37618-b036-41a3-9d54-9e0a7b3b4b04",
    "tags": []
   },
   "source": [
    "Later, we will also use the following function:"
   ]
  },
  {
   "cell_type": "code",
   "execution_count": null,
   "id": "db455c30-78c1-4b3f-a5c1-ae9f7663937f",
   "metadata": {
    "id": "db455c30-78c1-4b3f-a5c1-ae9f7663937f"
   },
   "outputs": [],
   "source": [
    "if True:\n",
    "    def get_action(actor, state):\n",
    "        state_  = th.FloatTensor(state).to(actor.device)\n",
    "        action = actor.forward(state_.view(1,-1))\n",
    "        return action.cpu().detach().numpy()[0]"
   ]
  },
  {
   "cell_type": "code",
   "execution_count": null,
   "id": "b928b095-9e58-47bf-a53d-b1e6ef74e5a2",
   "metadata": {
    "id": "b928b095-9e58-47bf-a53d-b1e6ef74e5a2",
    "outputId": "6cd64f47-c0b0-49ab-e773-7f46caa86be9"
   },
   "outputs": [
    {
     "data": {
      "text/plain": [
       "array([0.52933687, 0.08763179, 0.        , 0.        , 0.38303134],\n",
       "      dtype=float32)"
      ]
     },
     "execution_count": 42,
     "metadata": {},
     "output_type": "execute_result"
    }
   ],
   "source": [
    "get_action(actor_net, S_0)"
   ]
  },
  {
   "cell_type": "markdown",
   "id": "59ac57f2-d89c-4095-9298-62064fc883ea",
   "metadata": {
    "id": "59ac57f2-d89c-4095-9298-62064fc883ea"
   },
   "source": [
    "**Comment:** I should test the replay buffer aside too..."
   ]
  },
  {
   "cell_type": "code",
   "execution_count": null,
   "id": "8b2d32e8-4c6d-464d-b8b6-4ed9e6d8c63e",
   "metadata": {
    "id": "8b2d32e8-4c6d-464d-b8b6-4ed9e6d8c63e"
   },
   "outputs": [],
   "source": []
  },
  {
   "cell_type": "code",
   "execution_count": null,
   "id": "cba4bcf8-0cbc-4adf-9a8d-83737361bc18",
   "metadata": {
    "id": "cba4bcf8-0cbc-4adf-9a8d-83737361bc18"
   },
   "outputs": [],
   "source": []
  },
  {
   "cell_type": "code",
   "execution_count": null,
   "id": "b3cca758-1c09-4869-a7e2-3b27b24d9064",
   "metadata": {
    "id": "b3cca758-1c09-4869-a7e2-3b27b24d9064"
   },
   "outputs": [],
   "source": []
  },
  {
   "cell_type": "markdown",
   "id": "bcdc4b64-f33a-4566-a40e-8dfd0681fa16",
   "metadata": {
    "id": "bcdc4b64-f33a-4566-a40e-8dfd0681fa16"
   },
   "source": [
    "#### 2.b - Replay buffer\n",
    "\n",
    "It will be useful to write the replay buffer before dealing with the critic, as the latter will perform a dot product on batches.\n",
    "\n",
    "A class wrapping a deque object from which transitions will be sampled during training."
   ]
  },
  {
   "cell_type": "code",
   "execution_count": 7,
   "id": "b9b519df-4951-4377-9db3-a878a5938060",
   "metadata": {
    "id": "b9b519df-4951-4377-9db3-a878a5938060"
   },
   "outputs": [],
   "source": [
    "'''\n",
    "        ###############################\n",
    "        ##### REPLAY BUFFER CLASS #####\n",
    "        ###############################\n",
    "'''\n",
    "class replayBuffer(object):\n",
    "    def __init__(self, buffer_size, name_buffer=''):\n",
    "        self.name_buffer = name_buffer\n",
    "        self.buffer_size = buffer_size  #choose buffer size\n",
    "        self.num_exp = 0\n",
    "        self.buffer = deque()\n",
    "\n",
    "    def add(self, s, a, r, s2, t):\n",
    "        experience=(s, a, r, s2, t)\n",
    "        if self.num_exp < self.buffer_size:\n",
    "            self.buffer.append(experience)\n",
    "            self.num_exp +=1\n",
    "        else:\n",
    "            self.buffer.popleft()\n",
    "            self.buffer.append(experience)\n",
    "\n",
    "    def size(self):\n",
    "        return self.buffer_size\n",
    "\n",
    "    def count(self):\n",
    "        return self.num_exp\n",
    "\n",
    "    def sample(self, batch_size):\n",
    "        if self.num_exp < batch_size:\n",
    "            batch = random.sample(self.buffer, self.num_exp)\n",
    "        else:\n",
    "            batch = random.sample(self.buffer, batch_size)\n",
    "\n",
    "        s, a, r, s2, t = map(np.stack, zip(*batch))\n",
    "\n",
    "        return s, a, r, s2, t\n",
    "\n",
    "    def clear(self):\n",
    "        self.buffer = deque()\n",
    "        self.num_exp=0"
   ]
  },
  {
   "cell_type": "markdown",
   "id": "e1cf818a-d9f2-4e13-8930-a57275286130",
   "metadata": {
    "id": "e1cf818a-d9f2-4e13-8930-a57275286130",
    "jp-MarkdownHeadingCollapsed": true,
    "tags": []
   },
   "source": [
    "#### **Testing the replay buffer**\n",
    "\n",
    "We instantiate a replay buffer object and fill it by running through the training environment (as a test).\n",
    "\n",
    "The second thing we should test is how the critic network works with batches from this buffer\n",
    "\n",
    "##### (0) Create replay buffer"
   ]
  },
  {
   "cell_type": "code",
   "execution_count": 32,
   "id": "b6cacc2f-2816-47c1-987c-69c812ae7e77",
   "metadata": {
    "id": "b6cacc2f-2816-47c1-987c-69c812ae7e77"
   },
   "outputs": [],
   "source": [
    "# Main param\n",
    "buffer_size = 512\n",
    "\n",
    "# Instantiate buffer obj\n",
    "replay_buffer = replayBuffer(buffer_size, name_buffer='test_buffer')"
   ]
  },
  {
   "cell_type": "markdown",
   "id": "194307de-81a5-4009-8798-923dddc678f6",
   "metadata": {
    "id": "194307de-81a5-4009-8798-923dddc678f6"
   },
   "source": [
    "##### (1) Training environment run\n",
    "\n",
    "Here we will reshape the states before adding them to the buffer"
   ]
  },
  {
   "cell_type": "code",
   "execution_count": 33,
   "id": "8316440b-2ab6-497a-b6a8-b406168fb8fa",
   "metadata": {
    "colab": {
     "base_uri": "https://localhost:8080/",
     "height": 590
    },
    "id": "8316440b-2ab6-497a-b6a8-b406168fb8fa",
    "outputId": "bfd07dec-e9ff-491b-9ae3-0ef7d6aa857a"
   },
   "outputs": [
    {
     "name": "stdout",
     "output_type": "stream",
     "text": [
      "=================================\n",
      "Initial portfolio value: 100000.0\n",
      "End portfolio value: 90195.9811566346\n",
      "Yearly Sharpe ratio at last period: -0.5243880465462665\n",
      "=================================\n",
      "Plotting portfolio values and weights for last 40 periods:\n"
     ]
    },
    {
     "data": {
      "image/png": "[encoded data removed]",
      "text/plain": [
       "<Figure size 640x480 with 2 Axes>"
      ]
     },
     "metadata": {},
     "output_type": "display_data"
    }
   ],
   "source": [
    "# Env parameters\n",
    "N_periods = env_train.N_periods\n",
    "n_assets = env_train.n_assets\n",
    "\n",
    "# Reset env\n",
    "s = env_train.reset()\n",
    "done = False\n",
    "\n",
    "# Main loop\n",
    "while not done:\n",
    "    \n",
    "    # Choose a random action\n",
    "    a = np.random.uniform(size = n_assets)\n",
    "    if a.sum() == 0:\n",
    "        a = np.ones(shape=n_assets)/n_assets\n",
    "    else:\n",
    "        a = a/a.sum()\n",
    "    \n",
    "    # Call env step()\n",
    "    s_, r, done, _ = env_train.step(a)\n",
    "    \n",
    "    # Add transition to replay buffer\n",
    "    replay_buffer.add(s.flatten(),a,r,s_.flatten(), env_train.t_idx)\n",
    "    \n",
    "    # Update current state\n",
    "    s = s_"
   ]
  },
  {
   "cell_type": "markdown",
   "id": "e6634342-39f9-4a68-b8f7-041dd62c005b",
   "metadata": {
    "id": "e6634342-39f9-4a68-b8f7-041dd62c005b"
   },
   "source": [
    "Now let's sample one batch:"
   ]
  },
  {
   "cell_type": "code",
   "execution_count": 36,
   "id": "fc0bbc0d-0834-4e2c-ae84-03272b2acd3d",
   "metadata": {
    "id": "fc0bbc0d-0834-4e2c-ae84-03272b2acd3d"
   },
   "outputs": [],
   "source": [
    "# Params\n",
    "batch_size = 32\n",
    "\n",
    "# Sample batch\n",
    "s_batch, a_batch, r_batch, s_next_batch, t_batch = replay_buffer.sample(batch_size)"
   ]
  },
  {
   "cell_type": "markdown",
   "id": "4ceadb97-7206-4625-9871-11b03c535649",
   "metadata": {
    "id": "4ceadb97-7206-4625-9871-11b03c535649"
   },
   "source": [
    "Now this is what the output looks like:"
   ]
  },
  {
   "cell_type": "code",
   "execution_count": null,
   "id": "985bf816-2008-4ece-9919-5a9fef3b1434",
   "metadata": {
    "id": "985bf816-2008-4ece-9919-5a9fef3b1434",
    "outputId": "b2d70078-ca6b-437b-dbaa-296059cfb831"
   },
   "outputs": [
    {
     "data": {
      "text/plain": [
       "numpy.ndarray"
      ]
     },
     "execution_count": 74,
     "metadata": {},
     "output_type": "execute_result"
    }
   ],
   "source": [
    "type(s_batch)"
   ]
  },
  {
   "cell_type": "code",
   "execution_count": 37,
   "id": "e66b7bdf-e58b-4860-8326-8d81bc9e67b5",
   "metadata": {
    "id": "e66b7bdf-e58b-4860-8326-8d81bc9e67b5",
    "outputId": "d9e00d63-cb17-4127-fbb9-95e01c44e974"
   },
   "outputs": [
    {
     "data": {
      "text/plain": [
       "(32, 325)"
      ]
     },
     "execution_count": 37,
     "metadata": {},
     "output_type": "execute_result"
    }
   ],
   "source": [
    "s_batch.shape"
   ]
  },
  {
   "cell_type": "code",
   "execution_count": 38,
   "id": "9debe292-9bb1-46e4-9d9a-6be3d807b1fc",
   "metadata": {
    "id": "9debe292-9bb1-46e4-9d9a-6be3d807b1fc",
    "outputId": "dadc8070-cbb6-4d29-c103-ef5d46602f29"
   },
   "outputs": [
    {
     "data": {
      "text/plain": [
       "(32,)"
      ]
     },
     "execution_count": 38,
     "metadata": {},
     "output_type": "execute_result"
    }
   ],
   "source": [
    "t_batch.shape"
   ]
  },
  {
   "cell_type": "code",
   "execution_count": null,
   "id": "6f3bc869-2681-41ea-a388-c2500d0553ff",
   "metadata": {
    "id": "6f3bc869-2681-41ea-a388-c2500d0553ff",
    "outputId": "7b6d01e5-587d-452d-b303-eb90ec0b613f"
   },
   "outputs": [
    {
     "data": {
      "text/plain": [
       "array([523, 476, 571, 397, 808, 726, 436, 433, 799, 484, 535, 305, 599,\n",
       "       341, 567, 329, 345, 763, 392, 558, 578, 308, 456, 715, 694, 675,\n",
       "       597, 502, 369, 418, 760, 633])"
      ]
     },
     "execution_count": 77,
     "metadata": {},
     "output_type": "execute_result"
    }
   ],
   "source": [
    "t_batch"
   ]
  },
  {
   "cell_type": "code",
   "execution_count": null,
   "id": "3edcfd01-8dcd-4bd0-8939-660ac9097ace",
   "metadata": {
    "id": "3edcfd01-8dcd-4bd0-8939-660ac9097ace",
    "outputId": "94595949-fcb4-4c7f-e4c7-36d70094b2f3"
   },
   "outputs": [
    {
     "data": {
      "text/plain": [
       "(32, 5)"
      ]
     },
     "execution_count": 79,
     "metadata": {},
     "output_type": "execute_result"
    }
   ],
   "source": [
    "train_clrets[t_batch,:].shape"
   ]
  },
  {
   "cell_type": "code",
   "execution_count": null,
   "id": "ffa42319-d139-4050-99a7-7db775243240",
   "metadata": {
    "id": "ffa42319-d139-4050-99a7-7db775243240",
    "outputId": "1530938e-b98f-466e-c1a9-af2708d08102"
   },
   "outputs": [
    {
     "data": {
      "text/plain": [
       "array([-0.00466926, -0.00429624, -0.00568037, -0.00332286, -0.00141678])"
      ]
     },
     "execution_count": 80,
     "metadata": {},
     "output_type": "execute_result"
    }
   ],
   "source": [
    "train_clrets[523,:]"
   ]
  },
  {
   "cell_type": "code",
   "execution_count": null,
   "id": "aa9f177a-92f5-41cd-a021-beb4dc9401d6",
   "metadata": {
    "id": "aa9f177a-92f5-41cd-a021-beb4dc9401d6",
    "outputId": "59e62161-bc4b-49fe-a355-55cba7525485"
   },
   "outputs": [
    {
     "data": {
      "text/plain": [
       "array([-0.00466926, -0.00429624, -0.00568037, -0.00332286, -0.00141678])"
      ]
     },
     "execution_count": 81,
     "metadata": {},
     "output_type": "execute_result"
    }
   ],
   "source": [
    "train_clrets[t_batch,:][0]"
   ]
  },
  {
   "cell_type": "code",
   "execution_count": null,
   "id": "f21979cb-f583-42e6-b88b-595be698d752",
   "metadata": {
    "id": "f21979cb-f583-42e6-b88b-595be698d752",
    "outputId": "e4c4ea19-acf0-4280-e3fe-bdecf312d704"
   },
   "outputs": [
    {
     "data": {
      "text/plain": [
       "(32, 5)"
      ]
     },
     "execution_count": 82,
     "metadata": {},
     "output_type": "execute_result"
    }
   ],
   "source": [
    "a_batch.shape"
   ]
  },
  {
   "cell_type": "code",
   "execution_count": null,
   "id": "1df38ac9-90a6-41f0-8949-55240aed7899",
   "metadata": {
    "id": "1df38ac9-90a6-41f0-8949-55240aed7899",
    "outputId": "582d2b86-0417-4eb9-a942-583abe49c213"
   },
   "outputs": [
    {
     "data": {
      "text/plain": [
       "(5, 32)"
      ]
     },
     "execution_count": 83,
     "metadata": {},
     "output_type": "execute_result"
    }
   ],
   "source": [
    "a_batch.T.shape"
   ]
  },
  {
   "cell_type": "markdown",
   "id": "jyoMFMeBXpz6",
   "metadata": {
    "id": "jyoMFMeBXpz6",
    "jp-MarkdownHeadingCollapsed": true,
    "tags": []
   },
   "source": [
    "##### **Torch Batch Matrix multiplication**\n",
    "\n",
    "We'll test *th.bmm()* aside here. From the replay buffer we have a batch of states and rewards, now we'll need a batch of actions evaluated on these states, as well as a batch of returns (corresp to the states)."
   ]
  },
  {
   "cell_type": "markdown",
   "id": "8-GItTk2aEDk",
   "metadata": {
    "id": "8-GItTk2aEDk"
   },
   "source": [
    "We'll need two helper functions: One to evaluate actions and the other to compute the close returns for \"prediction\"."
   ]
  },
  {
   "cell_type": "code",
   "execution_count": 12,
   "id": "jYWjXuF7aOoA",
   "metadata": {
    "id": "jYWjXuF7aOoA"
   },
   "outputs": [],
   "source": [
    "if True:\n",
    "    def get_action(actor, state):\n",
    "        state_  = th.FloatTensor(state).to(actor.device)\n",
    "        action = actor.forward(state_.view(1,-1))\n",
    "        return action.cpu().detach().numpy()[0]\n",
    "    \n",
    "    def get_returns_array(env: PortfolioOptEnv,):\n",
    "        '''\n",
    "            Function to compute the close returns array \n",
    "            from the dataset contained in an environment.\n",
    "            Here we assume it's a dual timeframe env.\n",
    "            These are not exactly the same close returns as \n",
    "            the ones computed in the env state features.\n",
    "        '''\n",
    "        # Get close timestamp list\n",
    "        close_timestamp_list = []\n",
    "        trade_timestamp_list = env.trade_timeframe_info_dict[\"trade_timestamp_list\"]\n",
    "        trading_data_schedule = env.trade_timeframe_info_dict[\"trading_data_schedule\"]\n",
    "        for trade_timestamp in trade_timestamp_list:\n",
    "            close_timestamp_list.append(trading_data_schedule[trade_timestamp][-1])\n",
    "        \n",
    "        # Get reduced close prices dataframe and array, compute close returns\n",
    "        df_close = env.df_X[env.df_X[\"date\"].isin(close_timestamp_list)]\n",
    "        df_close = df_close.pivot_table(index='date',columns = 'tic',values = 'close')\n",
    "        np_close = df_close.to_numpy()\n",
    "        X_close_ret = np.zeros(shape=(len(trade_timestamp_list),env.n_assets))\n",
    "        X_close_ret[1:,:] = (np_close[1:,:]-np_close[:-1,:])/np_close[:-1,:]\n",
    "        \n",
    "        # Return output\n",
    "        return X_close_ret\n"
   ]
  },
  {
   "cell_type": "markdown",
   "id": "c0EpJhMMZHMf",
   "metadata": {
    "id": "c0EpJhMMZHMf"
   },
   "source": [
    "Start by making an actor net:"
   ]
  },
  {
   "cell_type": "code",
   "execution_count": 13,
   "id": "sGAM_eFaYwZV",
   "metadata": {
    "id": "sGAM_eFaYwZV"
   },
   "outputs": [],
   "source": [
    "# Actor parameters\n",
    "dim_in = env_train.obs_space_shape[0]*env_train.obs_space_shape[1]\n",
    "n_hidden_1 = 4*dim_in\n",
    "n_hidden_2 = 2*dim_in\n",
    "dim_out = env_train.n_assets\n",
    "weight_normalization = env_train.weight_normalization\n",
    "\n",
    "# Instantiate actor net\n",
    "actor_net = Actor(state_dim=dim_in, \n",
    "                  action_dim = dim_out, \n",
    "                  h1 = n_hidden_1, \n",
    "                  h2 = n_hidden_2,\n",
    "                  weight_normalization = weight_normalization,\n",
    "                 )"
   ]
  },
  {
   "cell_type": "markdown",
   "id": "OTEmDfQ9ZLYv",
   "metadata": {
    "id": "OTEmDfQ9ZLYv"
   },
   "source": [
    "Next, draw a batch of transitions from the buffer:"
   ]
  },
  {
   "cell_type": "code",
   "execution_count": 14,
   "id": "Ojqxxxp0YUQP",
   "metadata": {
    "id": "Ojqxxxp0YUQP"
   },
   "outputs": [],
   "source": [
    "# Params\n",
    "batch_size = 32\n",
    "\n",
    "# Sample batch\n",
    "s_batch, a_batch, r_batch, s_next_batch, t_batch = replay_buffer.sample(batch_size)"
   ]
  },
  {
   "cell_type": "code",
   "execution_count": 15,
   "id": "zDmuTvGKdYcI",
   "metadata": {
    "colab": {
     "base_uri": "https://localhost:8080/"
    },
    "id": "zDmuTvGKdYcI",
    "outputId": "73f635a5-3f22-43be-99db-c51ee6301ead"
   },
   "outputs": [
    {
     "name": "stdout",
     "output_type": "stream",
     "text": [
      "s_batch.shape = (32, 74, 5); type(s_batch)=<class 'numpy.ndarray'>\n"
     ]
    }
   ],
   "source": [
    "print(f\"s_batch.shape = {s_batch.shape}; type(s_batch)={type(s_batch)}\")"
   ]
  },
  {
   "cell_type": "markdown",
   "id": "Bq-W7ucdZSsv",
   "metadata": {
    "id": "Bq-W7ucdZSsv"
   },
   "source": [
    "After that we need some close returns:"
   ]
  },
  {
   "cell_type": "code",
   "execution_count": 16,
   "id": "i34zJG5sYT3a",
   "metadata": {
    "id": "i34zJG5sYT3a"
   },
   "outputs": [],
   "source": [
    "clrets_train = get_returns_array(env_train)"
   ]
  },
  {
   "cell_type": "markdown",
   "id": "T6FcichObDE3",
   "metadata": {
    "id": "T6FcichObDE3"
   },
   "source": [
    "Now we test th.bmm()"
   ]
  },
  {
   "cell_type": "code",
   "execution_count": 37,
   "id": "WpHJPCOqYToi",
   "metadata": {
    "colab": {
     "base_uri": "https://localhost:8080/"
    },
    "id": "WpHJPCOqYToi",
    "outputId": "05fb7080-7cbb-45fa-992a-e16ebd5e7fcf"
   },
   "outputs": [
    {
     "name": "stdout",
     "output_type": "stream",
     "text": [
      "returns_batch.shape = (32, 5), type(returns_batch) = <class 'numpy.ndarray'>\n"
     ]
    }
   ],
   "source": [
    "# Get a batch of close price returns (using batch of t indices)\n",
    "returns_batch = clrets_train[t_batch,:]\n",
    "print(f\"returns_batch.shape = {returns_batch.shape}, type(returns_batch) = {type(returns_batch)}\")\n"
   ]
  },
  {
   "cell_type": "code",
   "execution_count": 41,
   "id": "f130d043-0606-44b4-b0de-7c1904aea8f2",
   "metadata": {
    "colab": {
     "base_uri": "https://localhost:8080/"
    },
    "id": "f130d043-0606-44b4-b0de-7c1904aea8f2",
    "outputId": "7be868ae-87f5-42da-cd35-3e04d4ffedc5"
   },
   "outputs": [
    {
     "name": "stdout",
     "output_type": "stream",
     "text": [
      "a_batch.shape = torch.Size([32, 5]), type(a_batch) = <class 'torch.Tensor'>\n"
     ]
    }
   ],
   "source": [
    "# Get actions batch from actor net and state batch\n",
    "s_batch_ = th.FloatTensor(s_batch.reshape(batch_size, dim_in)).to(actor_net.device) # Now I see why they were flattening the states BEFORE storing the buffer\n",
    "a_batch = actor_net(s_batch_)\n",
    "print(f\"a_batch.shape = {a_batch.shape}, type(a_batch) = {type(a_batch)}\")\n"
   ]
  },
  {
   "cell_type": "code",
   "execution_count": 45,
   "id": "zPzFpCx0cXn4",
   "metadata": {
    "colab": {
     "base_uri": "https://localhost:8080/"
    },
    "id": "zPzFpCx0cXn4",
    "outputId": "1683d7bc-f0fa-440f-edcd-1617f08b2dfc"
   },
   "outputs": [
    {
     "name": "stdout",
     "output_type": "stream",
     "text": [
      "prod_batch.shape = torch.Size([32, 1, 1]); type(prod_batch) = <class 'torch.Tensor'>\n"
     ]
    }
   ],
   "source": [
    "# Convert returns to tensor\n",
    "returns_batch_ = th.FloatTensor(returns_batch).to(actor_net.device)\n",
    "\n",
    "# Batch inner product\n",
    "prod_batch = th.bmm(a_batch.unsqueeze(1), returns_batch_.unsqueeze(2))\n",
    "print(f\"prod_batch.shape = {prod_batch.shape}; type(prod_batch) = {type(prod_batch)}\")"
   ]
  },
  {
   "cell_type": "code",
   "execution_count": 43,
   "id": "E8ieTV2scZAO",
   "metadata": {
    "colab": {
     "base_uri": "https://localhost:8080/"
    },
    "id": "E8ieTV2scZAO",
    "outputId": "60b5a278-8436-43f9-8e65-a0326c756c87"
   },
   "outputs": [
    {
     "name": "stdout",
     "output_type": "stream",
     "text": [
      "returns_batch_.shape = torch.Size([32, 5]); type(returns_batch_) = <class 'torch.Tensor'>\n",
      "reshaped_returns_batch_.shape = torch.Size([32, 1, 5]); type(reshaped_returns_batch_) = <class 'torch.Tensor'>\n"
     ]
    }
   ],
   "source": [
    "returns_batch_ = th.FloatTensor(returns_batch).to(actor_net.device)\n",
    "print(f\"returns_batch_.shape = {returns_batch_.shape}; type(returns_batch_) = {type(returns_batch_)}\")\n",
    "reshaped_returns_batch_ = returns_batch_.unsqueeze(1)\n",
    "print(f\"reshaped_returns_batch_.shape = {reshaped_returns_batch_.shape}; type(reshaped_returns_batch_) = {type(reshaped_returns_batch_)}\")"
   ]
  },
  {
   "cell_type": "code",
   "execution_count": null,
   "id": "BuGxhU8UcdgI",
   "metadata": {
    "id": "BuGxhU8UcdgI"
   },
   "outputs": [],
   "source": []
  },
  {
   "cell_type": "code",
   "execution_count": null,
   "id": "rsxe0-Jbcc6H",
   "metadata": {
    "id": "rsxe0-Jbcc6H"
   },
   "outputs": [],
   "source": []
  },
  {
   "cell_type": "code",
   "execution_count": null,
   "id": "DQAnmqZ9ccVJ",
   "metadata": {
    "id": "DQAnmqZ9ccVJ"
   },
   "outputs": [],
   "source": []
  },
  {
   "cell_type": "code",
   "execution_count": null,
   "id": "m0frZumkcbvp",
   "metadata": {
    "id": "m0frZumkcbvp"
   },
   "outputs": [],
   "source": []
  },
  {
   "cell_type": "code",
   "execution_count": null,
   "id": "r00yjVKNcbH4",
   "metadata": {
    "id": "r00yjVKNcbH4"
   },
   "outputs": [],
   "source": []
  },
  {
   "cell_type": "markdown",
   "id": "0e000aae-3f92-49e4-a431-83c5d8b10f63",
   "metadata": {
    "id": "0e000aae-3f92-49e4-a431-83c5d8b10f63"
   },
   "source": [
    "#### 2.c - Pseudo-critic implementation\n",
    "\n",
    "This torch module computes an approximation of the portfolio return given the latest close prices available. Its forward function has to compute the dot product of the portfolio weights and the adequate close returns. The close returns are computed when setting-up the full model (see next section)."
   ]
  },
  {
   "cell_type": "code",
   "execution_count": 18,
   "id": "beb6d7ac-08d9-46b3-93db-725fa5559eeb",
   "metadata": {
    "id": "beb6d7ac-08d9-46b3-93db-725fa5559eeb",
    "jupyter": {
     "source_hidden": true
    },
    "tags": []
   },
   "outputs": [],
   "source": [
    "'''\n",
    "        ################################\n",
    "        ##### CRITIC NETWORK CLASS #####\n",
    "        ################################\n",
    "        VERSION 0.0 Not properly speaking a critic.\n",
    "'''\n",
    "class R_Critic(nn.Module):\n",
    "    \n",
    "    def __init__(self, n_assets):\n",
    "        '''\n",
    "          :param n_assets: int, no. of portfolio assets\n",
    "\n",
    "\n",
    "        # Will not work with the new environment\n",
    "        df_close = df_X.pivot_table(index='date',columns = 'tic',values = 'close')\n",
    "        df_change = df_close.pct_change()\n",
    "        self.X = df_change.dropna().values\n",
    "        # self.times = t_list\n",
    "        \n",
    "        # Will have to get close returns from\n",
    "        # the trading_data_schedule of the env\n",
    "        # Instead of the dataframe, might need the entire\n",
    "        # environment.\n",
    "        # Main question after that: How to make batches\n",
    "        \n",
    "        #### IMPORTANT ###\n",
    "        # Should I add a th.device attribute to the critic?\n",
    "        # How do I make it communicate with the agent global device?\n",
    "        \n",
    "        #### HOW DO NORMALIZE THE ACTIONS HERE?\n",
    "        '''\n",
    "        super(R_Critic, self).__init__()\n",
    "        # Device\n",
    "        self.device = th.device(\"cuda\" if th.cuda.is_available() else \"cpu\")\n",
    "        self.to(self.device)\n",
    "        # Input shape param\n",
    "        self.n_assets = n_assets\n",
    "    \n",
    "    def forward(self,\n",
    "                action_t: th.FloatTensor, \n",
    "                returns_t: th.FloatTensor,\n",
    "                batch_size: int): \n",
    "        '''\n",
    "          Pseudo-critic forward function. Inputs are batches of \n",
    "          actions and close returns, which must both have shape\n",
    "          (batch_size, n_assets)\n",
    "\n",
    "          :param action_t: th.FloatTensor, batch of actions.\n",
    "          :param returns_t: th.FloatTensor, batch of close price returns.\n",
    "          :param batch_size: int, no. of elements in batch.\n",
    "\n",
    "        #### IMPORTANT ####\n",
    "        How do you compute the inner product over a batch?\n",
    "        MAKE SURE YOU GET THE RIGHT DIMENSIONS BELOW!!!\n",
    "        Check the docs: https://pytorch.org/docs/stable/generated/torch.bmm.html\n",
    "        From a pythonic perspective, I think the input should be torch tensors\n",
    "        instead of np arrays.\n",
    "        The issue though is the complication added by reshaping the input tensors\n",
    "        before calling R_Critic.forward(), since the user isn't necessarily aware\n",
    "        of the expected shapes. Ideally, the input should be a batch of actions\n",
    "        and a batch of returns, and if we're actually using th.bmm(), the reshaping \n",
    "        should be done within the forward() function.\n",
    "        '''\n",
    "        # Required input shape\n",
    "        input_shape = (batch_size, self.n_assets)\n",
    "    \n",
    "        # Ensure that the shape is correct\n",
    "        if (action_t.shape != input_shape) or (returns_t.shape != input_shape):\n",
    "            raise ValueError(\"action_t and returns_t must both have shapes equal to (batch_size, n_assets)\")\n",
    "\n",
    "        # COMMENT: For th.bmm(batch_1, batch_2), you will need:\n",
    "        ## batch_1.shape = (batch_size, n, m), batch_1.shape = (batch_size, m, l),\n",
    "        ## so that the (n,m)x(m,l) matrix multiplication is defined.\n",
    "        prod_batch = th.bmm(action_t.unsqueeze(1),\n",
    "                            returns_t.unsqueeze(2)\n",
    "                            ).squeeze(1)\n",
    "\n",
    "        return prod_batch\n"
   ]
  },
  {
   "cell_type": "code",
   "execution_count": 15,
   "id": "eaaf1914-21f6-4c4a-be0e-dc1fca9be605",
   "metadata": {
    "id": "beb6d7ac-08d9-46b3-93db-725fa5559eeb",
    "jupyter": {
     "source_hidden": true
    },
    "tags": []
   },
   "outputs": [],
   "source": [
    "\n",
    "'''\n",
    "        ################################\n",
    "        ##### CRITIC NETWORK CLASS #####\n",
    "        ################################\n",
    "        # A SECOND IMPLEMENTATION: 23/05/17\n",
    "        COMMENTS (23/05/18)\n",
    "         Continuation of the comments made for the second implementation\n",
    "         of the actor class in sec. 2.a.\n",
    "        - This implementation of the critic assumes that the agent\n",
    "          actions are not portfolio weights, hence the additional\n",
    "          normalization in the forward() method.\n",
    "'''\n",
    "class R_Critic(nn.Module):\n",
    "    \n",
    "    def __init__(self, env: PortfolioOptEnv):\n",
    "        '''\n",
    "          :param env: PortfolioOptEnv, environment \n",
    "        \n",
    "        # Will have to get close returns from\n",
    "        # the trading_data_schedule of the env\n",
    "        # Instead of the dataframe, might need the entire\n",
    "        # environment.\n",
    "        # Main question after that: How to make batches\n",
    "        \n",
    "        #### IMPORTANT ###\n",
    "        # Should I add a th.device attribute to the critic?\n",
    "        # How do I make it communicate with the agent global device?\n",
    "        \n",
    "        #### HOW DO NORMALIZE THE ACTIONS HERE?\n",
    "        '''\n",
    "        super(R_Critic, self).__init__()\n",
    "        # Device\n",
    "        self.device = th.device(\"cuda\" if th.cuda.is_available() else \"cpu\")\n",
    "        self.to(self.device)\n",
    "        \n",
    "        # nn functions\n",
    "        self.ReLU = nn.ReLU()\n",
    "        self.Softmax = nn.Softmax()\n",
    "        \n",
    "        # Input shape param\n",
    "        self.n_assets = env.n_assets\n",
    "        \n",
    "        # Weight normalization\n",
    "        self.weight_normalization = env.weight_normalization\n",
    "        if self.weight_normalization == \"softmax\":\n",
    "            self.compute_weights = self.softmax_weights\n",
    "        '''\n",
    "        if self.weight_normalization == \"relu\":\n",
    "            self.compute_weights = self.relu_weights\n",
    "        '''\n",
    "        \n",
    "        # Close returns hist\n",
    "        self.CloseReturns = self.get_returns_array(env)\n",
    "    \n",
    "    def get_returns_array(self, env: PortfolioOptEnv,):\n",
    "        '''\n",
    "            Function to compute the close returns array \n",
    "            from the dataset contained in an environment.\n",
    "            Here we assume it's a dual timeframe env.\n",
    "            These are not exactly the same close returns as \n",
    "            the ones computed in the env state features.\n",
    "        '''\n",
    "        # Get close timestamp list\n",
    "        close_timestamp_list = []\n",
    "        trade_timestamp_list = env.trade_timeframe_info_dict[\"trade_timestamp_list\"]\n",
    "        trading_data_schedule = env.trade_timeframe_info_dict[\"trading_data_schedule\"]\n",
    "        for trade_timestamp in trade_timestamp_list:\n",
    "            close_timestamp_list.append(trading_data_schedule[trade_timestamp][-1])\n",
    "        \n",
    "        # Get reduced close prices dataframe and array, compute close returns\n",
    "        df_close = env.df_X[env.df_X[\"date\"].isin(close_timestamp_list)]\n",
    "        df_close = df_close.pivot_table(index='date',columns = 'tic',values = 'close')\n",
    "        np_close = df_close.to_numpy()\n",
    "        X_close_ret = np.zeros(shape=(len(trade_timestamp_list),env.n_assets))\n",
    "        X_close_ret[1:,:] = (np_close[1:,:]-np_close[:-1,:])/np_close[:-1,:]\n",
    "        \n",
    "        # Return output\n",
    "        return X_close_ret\n",
    "    \n",
    "    def softmax_weights(self, \n",
    "                        action_t: th.FloatTensor,\n",
    "                       ):\n",
    "        weights_t = self.Softmax(action_t)\n",
    "        return weights_t\n",
    "    \n",
    "    def relu_weights(self, \n",
    "                     action_t: th.FloatTensor,\n",
    "                    ):\n",
    "        pass\n",
    "        \n",
    "        '''\n",
    "        n_assets = self.n_assets\n",
    "        batch_size = action_t.shape[0]\n",
    "        relu_a_t = self.ReLU(action_t)\n",
    "        \n",
    "        if th.sum()\n",
    "        '''\n",
    "\n",
    "    def forward(self,\n",
    "                action_t: th.FloatTensor, \n",
    "                t: np.ndarray,): \n",
    "        '''\n",
    "          Pseudo-critic forward function. Inputs are batches of \n",
    "          actions and time indices. which must both have shape\n",
    "          (batch_size, n_assets), where:\n",
    "          - n_assets is one of the R_Critic attributes obtained\n",
    "            from the env in the constructor.\n",
    "          - batch_size is the length of the time index batch.\n",
    "          The time index batch is used to \n",
    "\n",
    "          :param action_t: th.FloatTensor, batch of actions.\n",
    "          :param returns_t: th.FloatTensor, batch of close price returns.\n",
    "          :param batch_size: int, no. of elements in batch.\n",
    "\n",
    "        #### IMPORTANT ####\n",
    "        How do you compute the inner product over a batch?\n",
    "        MAKE SURE YOU GET THE RIGHT DIMENSIONS BELOW!!!\n",
    "        Check the docs: https://pytorch.org/docs/stable/generated/torch.bmm.html\n",
    "        From a pythonic perspective, I think the input should be torch tensors\n",
    "        instead of np arrays.\n",
    "        The issue though is the complication added by reshaping the input tensors\n",
    "        before calling R_Critic.forward(), since the user isn't necessarily aware\n",
    "        of the expected shapes. Ideally, the input should be a batch of actions\n",
    "        and a batch of returns, and if we're actually using th.bmm(), the reshaping \n",
    "        should be done within the forward() function.\n",
    "        '''\n",
    "        # Required input shape\n",
    "        batch_size = len(t)\n",
    "        input_shape = (batch_size, self.n_assets)\n",
    "    \n",
    "        # Ensure that the shape is correct\n",
    "        if (action_t.shape != input_shape):\n",
    "            raise ValueError(\"action_t must have shape (len(t), n_assets)\")\n",
    "            \n",
    "        # Compute weights\n",
    "        weights_t = self.compute_weights(action_t)\n",
    "\n",
    "        # COMMENT: For th.bmm(batch_1, batch_2), you will need:\n",
    "        ## batch_1.shape = (batch_size, n, m), batch_2.shape = (batch_size, m, l),\n",
    "        ## so that the (n,m)x(m,l) matrix multiplication is defined.\n",
    "        returns_t = th.FloatTensor(self.CloseReturns[t,:]).to(self.device)\n",
    "        prod_batch = th.bmm(weights_t.unsqueeze(1),\n",
    "                            returns_t.unsqueeze(2)\n",
    "                            ).squeeze(1)\n",
    "\n",
    "        return prod_batch\n"
   ]
  },
  {
   "cell_type": "code",
   "execution_count": 8,
   "id": "0d5b35f2-b5c8-4ea0-90a9-af0eeb661ed7",
   "metadata": {},
   "outputs": [],
   "source": [
    "\n",
    "'''\n",
    "        ################################\n",
    "        ##### CRITIC NETWORK CLASS #####\n",
    "        ################################\n",
    "        # VERSION 3: 23/05/18\n",
    "        COMMENTS (23/05/18)\n",
    "'''\n",
    "class R_Critic(nn.Module):\n",
    "    '''\n",
    "        Pseudo-critic module for DDPGPS agent.\n",
    "        Uses the last available close price returns\n",
    "        in the environment as a prediction of the\n",
    "        portfolio asset returns.\n",
    "        The forward function outputs the prediction\n",
    "        of the portfolio return based on the\n",
    "        actions interpreted as portfolio weights.\n",
    "    '''\n",
    "    \n",
    "    def __init__(self, env: PortfolioOptEnv):\n",
    "        '''\n",
    "          :param env: PFOptDualTFEnv, environment object\n",
    "        \n",
    "        '''\n",
    "        super(R_Critic, self).__init__()\n",
    "        # Device\n",
    "        self.device = th.device(\"cuda\" if th.cuda.is_available() else \"cpu\")\n",
    "        self.to(self.device)\n",
    "        \n",
    "        # Input shape param\n",
    "        self.n_assets = env.n_assets\n",
    "                \n",
    "        # Close returns hist\n",
    "        self.CloseReturns = self.get_returns_array(env)\n",
    "    \n",
    "    def get_returns_array(self, env: PortfolioOptEnv,):\n",
    "        '''\n",
    "            Function to compute the close returns array \n",
    "            from the dataset contained in an environment.\n",
    "            Here, the env parameter is assumed to be a\n",
    "            PFOptDualTFEnv object.\n",
    "            These are not exactly the same close returns as \n",
    "            the ones computed in the env state features.\n",
    "        '''\n",
    "        # Get close timestamp list\n",
    "        close_timestamp_list = []\n",
    "        trade_timestamp_list = env.trade_timeframe_info_dict[\"trade_timestamp_list\"]\n",
    "        trading_data_schedule = env.trade_timeframe_info_dict[\"trading_data_schedule\"]\n",
    "        for trade_timestamp in trade_timestamp_list:\n",
    "            close_timestamp_list.append(trading_data_schedule[trade_timestamp][-1])\n",
    "        \n",
    "        # Get reduced close prices dataframe and array, compute close returns\n",
    "        df_close = env.df_X[env.df_X[\"date\"].isin(close_timestamp_list)]\n",
    "        df_close = df_close.pivot_table(index='date',columns = 'tic',values = 'close')\n",
    "        np_close = df_close.to_numpy()\n",
    "        X_close_ret = np.zeros(shape=(len(trade_timestamp_list),env.n_assets))\n",
    "        X_close_ret[1:,:] = (np_close[1:,:]-np_close[:-1,:])/np_close[:-1,:]\n",
    "        \n",
    "        # Return output\n",
    "        return X_close_ret\n",
    "\n",
    "    def forward(self,\n",
    "                action_t: th.FloatTensor, \n",
    "                t: np.ndarray,): \n",
    "        '''\n",
    "          Pseudo-critic forward function. Inputs are batches of \n",
    "          actions and time indices. The action batch must have\n",
    "          shape (batch_size, n_assets), where:\n",
    "          - n_assets is one of the R_Critic attributes obtained\n",
    "            from the env in the constructor.\n",
    "          - batch_size is the length of the time index batch.\n",
    "          The time index batch is used to locate the close price\n",
    "          returns in the CloseReturns attribute computed from \n",
    "          environment (see constructor).\n",
    "          The computation of the predicted portfolio return\n",
    "          uses the torch.bmm() method:\n",
    "          https://pytorch.org/docs/stable/generated/torch.bmm.html\n",
    "\n",
    "          :param action_t: th.FloatTensor, batch of portfolio weights.\n",
    "          :param t_idx: np.ndarray, batch of trading timestamp indices.\n",
    "          \n",
    "          :return prod_batch: th.FloatTensor, batch of predicted \n",
    "                              portfolio returns.\n",
    "        '''\n",
    "        # Required input shape\n",
    "        batch_size = len(t)\n",
    "        input_shape = (batch_size, self.n_assets)\n",
    "    \n",
    "        # Ensure that the shape is correct\n",
    "        if (action_t.shape != input_shape):\n",
    "            raise ValueError(\"action_t must have shape (len(t), n_assets)\")\n",
    "\n",
    "        # COMMENT: For th.bmm(batch_1, batch_2), you will need:\n",
    "        ## batch_1.shape = (batch_size, n, m), batch_2.shape = (batch_size, m, l),\n",
    "        ## so that the (n,m)x(m,l) matrix multiplication is defined.\n",
    "        returns_t = th.FloatTensor(self.CloseReturns[t,:]).to(self.device)\n",
    "        prod_batch = th.bmm(action_t.unsqueeze(1),\n",
    "                            returns_t.unsqueeze(2)\n",
    "                            ).squeeze(1)\n",
    "\n",
    "        return prod_batch\n"
   ]
  },
  {
   "cell_type": "markdown",
   "id": "45292608-6982-44bc-979f-f5d07417751d",
   "metadata": {
    "id": "45292608-6982-44bc-979f-f5d07417751d"
   },
   "source": [
    "#### **Testing the critic network**\n",
    "\n",
    "Continuing the tests after the replay buffer. Make sure those cells are executed, in particular:\n",
    "* The *replay_buffer* has been instantiated and filled with one environment execution.\n",
    "* The *actor_network* has been instantiated with the environment params.\n",
    "* The np array of close price returns (the predictor) *clrets_train* must have been computed.\n"
   ]
  },
  {
   "cell_type": "markdown",
   "id": "335d3ef1-beb4-4cea-9fec-0ebaad84f308",
   "metadata": {
    "jp-MarkdownHeadingCollapsed": true,
    "tags": []
   },
   "source": [
    "##### First implementation test"
   ]
  },
  {
   "cell_type": "code",
   "execution_count": 19,
   "id": "LCBAQFN_iLOr",
   "metadata": {
    "id": "LCBAQFN_iLOr"
   },
   "outputs": [],
   "source": [
    "# Instantiate the critic net\n",
    "critic_net = R_Critic(n_assets = env_train.n_assets)"
   ]
  },
  {
   "cell_type": "code",
   "execution_count": 20,
   "id": "RJ64TxjOpxv5",
   "metadata": {
    "colab": {
     "base_uri": "https://localhost:8080/"
    },
    "id": "RJ64TxjOpxv5",
    "outputId": "d010cc6b-6cf3-495f-9d07-025b1cd37271"
   },
   "outputs": [
    {
     "name": "stdout",
     "output_type": "stream",
     "text": [
      "Help on method sample in module __main__:\n",
      "\n",
      "sample(batch_size) method of __main__.replayBuffer instance\n",
      "\n"
     ]
    }
   ],
   "source": [
    "help(replay_buffer.sample)"
   ]
  },
  {
   "cell_type": "code",
   "execution_count": 21,
   "id": "yIPHz1zliKlg",
   "metadata": {
    "id": "yIPHz1zliKlg"
   },
   "outputs": [],
   "source": [
    "# Draw a random batch\n",
    "batch_size = 32\n",
    "s_batch, action_batch, reward_batch, s_next_batch, t_batch = replay_buffer.sample(batch_size)"
   ]
  },
  {
   "cell_type": "code",
   "execution_count": 26,
   "id": "e2dae2cc-a5f0-4659-aa38-2ccc7032dd22",
   "metadata": {},
   "outputs": [
    {
     "data": {
      "text/plain": [
       "numpy.ndarray"
      ]
     },
     "execution_count": 26,
     "metadata": {},
     "output_type": "execute_result"
    }
   ],
   "source": [
    "type(t_batch)"
   ]
  },
  {
   "cell_type": "code",
   "execution_count": 27,
   "id": "891d9e5b-4999-44c9-95ff-cabd92b8a39c",
   "metadata": {},
   "outputs": [
    {
     "data": {
      "text/plain": [
       "numpy.int64"
      ]
     },
     "execution_count": 27,
     "metadata": {},
     "output_type": "execute_result"
    }
   ],
   "source": [
    "type(t_batch[0])"
   ]
  },
  {
   "cell_type": "code",
   "execution_count": 28,
   "id": "f8b33804-c151-4015-b848-3a8410cb18a6",
   "metadata": {},
   "outputs": [
    {
     "data": {
      "text/plain": [
       "(32,)"
      ]
     },
     "execution_count": 28,
     "metadata": {},
     "output_type": "execute_result"
    }
   ],
   "source": [
    "t_batch.shape"
   ]
  },
  {
   "cell_type": "code",
   "execution_count": 30,
   "id": "036d79b0-27d8-48e3-a2d6-b6bffdaac2fe",
   "metadata": {},
   "outputs": [
    {
     "data": {
      "text/plain": [
       "32"
      ]
     },
     "execution_count": 30,
     "metadata": {},
     "output_type": "execute_result"
    }
   ],
   "source": [
    "len(t_batch)"
   ]
  },
  {
   "cell_type": "code",
   "execution_count": 29,
   "id": "e72c4fb1-4520-4cce-832c-c7a7b6c734f8",
   "metadata": {},
   "outputs": [
    {
     "data": {
      "text/plain": [
       "32"
      ]
     },
     "execution_count": 29,
     "metadata": {},
     "output_type": "execute_result"
    }
   ],
   "source": [
    "t_batch.shape[0]"
   ]
  },
  {
   "cell_type": "code",
   "execution_count": 22,
   "id": "D0GZ0olKiJ7Q",
   "metadata": {
    "colab": {
     "base_uri": "https://localhost:8080/"
    },
    "id": "D0GZ0olKiJ7Q",
    "outputId": "6e947108-a765-40d5-de64-4793ce70e13a"
   },
   "outputs": [
    {
     "name": "stdout",
     "output_type": "stream",
     "text": [
      "a_batch_.shape = torch.Size([32, 5]); type(a_batch_) = <class 'torch.Tensor'>\n",
      "returns_batch_.shape = torch.Size([32, 5]); type(returns_batch_) = <class 'torch.Tensor'>\n"
     ]
    }
   ],
   "source": [
    "# Get action batch from state batch\n",
    "s_batch_ = th.FloatTensor(s_batch.reshape(batch_size, dim_in)).to(actor_net.device)\n",
    "a_batch_ = actor_net(s_batch_).to(critic_net.device)\n",
    "print(f\"a_batch_.shape = {a_batch_.shape}; type(a_batch_) = {type(a_batch_)}\")\n",
    "# Get returns batch from array and t_batch\n",
    "returns_batch_ = th.FloatTensor(clrets_train[t_batch,:]).to(critic_net.device)\n",
    "print(f\"returns_batch_.shape = {returns_batch_.shape}; type(returns_batch_) = {type(returns_batch_)}\")"
   ]
  },
  {
   "cell_type": "code",
   "execution_count": 23,
   "id": "5ouNq6XwiJRA",
   "metadata": {
    "id": "5ouNq6XwiJRA"
   },
   "outputs": [],
   "source": [
    "# Use critic to evaluate\n",
    "actor_loss_batch = critic_net(a_batch_, returns_batch_, batch_size)"
   ]
  },
  {
   "cell_type": "code",
   "execution_count": 24,
   "id": "B98VlDHqiIlx",
   "metadata": {
    "colab": {
     "base_uri": "https://localhost:8080/"
    },
    "id": "B98VlDHqiIlx",
    "outputId": "eaf311b1-23c6-4f85-957f-19e47382b4bf"
   },
   "outputs": [
    {
     "data": {
      "text/plain": [
       "torch.Size([32, 1])"
      ]
     },
     "execution_count": 24,
     "metadata": {},
     "output_type": "execute_result"
    }
   ],
   "source": [
    "actor_loss_batch.shape"
   ]
  },
  {
   "cell_type": "code",
   "execution_count": 25,
   "id": "NGCn5OajiH7D",
   "metadata": {
    "colab": {
     "base_uri": "https://localhost:8080/"
    },
    "id": "NGCn5OajiH7D",
    "outputId": "10d6a3e9-a87d-452c-c310-641ec5fa606b"
   },
   "outputs": [
    {
     "data": {
      "text/plain": [
       "tensor([[ 1.9381e-05],\n",
       "        [ 8.8154e-07],\n",
       "        [ 2.5686e-08],\n",
       "        [ 3.0653e-05],\n",
       "        [-4.2770e-07],\n",
       "        [-6.8963e-06],\n",
       "        [-5.3464e-05],\n",
       "        [ 2.0430e-07],\n",
       "        [ 7.1110e-09],\n",
       "        [-2.9681e-05],\n",
       "        [ 2.1187e-07],\n",
       "        [ 0.0000e+00],\n",
       "        [ 1.8018e-03],\n",
       "        [ 1.4901e-05],\n",
       "        [ 3.8145e-07],\n",
       "        [ 1.6310e-07],\n",
       "        [-1.7311e-04],\n",
       "        [ 1.5501e-05],\n",
       "        [ 1.3604e-05],\n",
       "        [-4.1426e-07],\n",
       "        [ 1.6571e-05],\n",
       "        [-6.2891e-06],\n",
       "        [-9.3166e-06],\n",
       "        [ 1.8217e-05],\n",
       "        [-2.7207e-06],\n",
       "        [ 2.3475e-08],\n",
       "        [ 8.3853e-05],\n",
       "        [-1.3737e-05],\n",
       "        [-6.3648e-06],\n",
       "        [-1.3336e-04],\n",
       "        [-7.7093e-05],\n",
       "        [-9.2014e-05]], device='cuda:0', grad_fn=<SqueezeBackward1>)"
      ]
     },
     "execution_count": 25,
     "metadata": {},
     "output_type": "execute_result"
    }
   ],
   "source": [
    "actor_loss_batch"
   ]
  },
  {
   "cell_type": "markdown",
   "id": "bdeaea86-7524-446a-8ac3-acd2a965ccd6",
   "metadata": {
    "jp-MarkdownHeadingCollapsed": true,
    "tags": []
   },
   "source": [
    "##### Second implementation test"
   ]
  },
  {
   "cell_type": "code",
   "execution_count": 32,
   "id": "851d10ff-7f13-4fea-b370-f742ec263ab9",
   "metadata": {
    "id": "LCBAQFN_iLOr"
   },
   "outputs": [],
   "source": [
    "# Instantiate the critic net\n",
    "critic_net = R_Critic(env = env_train)"
   ]
  },
  {
   "cell_type": "code",
   "execution_count": 33,
   "id": "ff8b4feb-3275-4633-b8d0-097359be0e99",
   "metadata": {
    "id": "yIPHz1zliKlg"
   },
   "outputs": [],
   "source": [
    "# Draw a random batch\n",
    "batch_size = 32\n",
    "s_batch, action_batch, reward_batch, s_next_batch, t_batch = replay_buffer.sample(batch_size)"
   ]
  },
  {
   "cell_type": "code",
   "execution_count": 34,
   "id": "e666ed35-9e56-4b7e-953f-6a4d1ae6b9e9",
   "metadata": {
    "colab": {
     "base_uri": "https://localhost:8080/"
    },
    "id": "D0GZ0olKiJ7Q",
    "outputId": "6e947108-a765-40d5-de64-4793ce70e13a"
   },
   "outputs": [
    {
     "name": "stdout",
     "output_type": "stream",
     "text": [
      "a_batch_.shape = torch.Size([32, 5]); type(a_batch_) = <class 'torch.Tensor'>\n",
      "returns_batch_.shape = torch.Size([32, 5]); type(returns_batch_) = <class 'torch.Tensor'>\n"
     ]
    }
   ],
   "source": [
    "# Get action batch from state batch\n",
    "s_batch_ = th.FloatTensor(s_batch.reshape(batch_size, dim_in)).to(actor_net.device)\n",
    "a_batch_ = actor_net(s_batch_).to(critic_net.device)\n",
    "print(f\"a_batch_.shape = {a_batch_.shape}; type(a_batch_) = {type(a_batch_)}\")\n",
    "# Get returns batch from array and t_batch\n",
    "returns_batch_ = th.FloatTensor(clrets_train[t_batch,:]).to(critic_net.device)\n",
    "print(f\"returns_batch_.shape = {returns_batch_.shape}; type(returns_batch_) = {type(returns_batch_)}\")"
   ]
  },
  {
   "cell_type": "code",
   "execution_count": 35,
   "id": "523fdd8b-e8bc-46a3-9df0-31802d36123e",
   "metadata": {
    "id": "5ouNq6XwiJRA"
   },
   "outputs": [],
   "source": [
    "# Use critic to evaluate\n",
    "actor_loss_batch = critic_net(a_batch_, t_batch)"
   ]
  },
  {
   "cell_type": "code",
   "execution_count": 36,
   "id": "2f84a06d-94f4-4d69-b6a2-a949307f7718",
   "metadata": {
    "colab": {
     "base_uri": "https://localhost:8080/"
    },
    "id": "B98VlDHqiIlx",
    "outputId": "eaf311b1-23c6-4f85-957f-19e47382b4bf"
   },
   "outputs": [
    {
     "data": {
      "text/plain": [
       "torch.Size([32, 1])"
      ]
     },
     "execution_count": 36,
     "metadata": {},
     "output_type": "execute_result"
    }
   ],
   "source": [
    "actor_loss_batch.shape"
   ]
  },
  {
   "cell_type": "code",
   "execution_count": 37,
   "id": "0206d3f3-9a62-494f-b6b4-3550d3616139",
   "metadata": {
    "colab": {
     "base_uri": "https://localhost:8080/"
    },
    "collapsed": true,
    "id": "NGCn5OajiH7D",
    "jupyter": {
     "outputs_hidden": true
    },
    "outputId": "10d6a3e9-a87d-452c-c310-641ec5fa606b",
    "tags": []
   },
   "outputs": [
    {
     "data": {
      "text/plain": [
       "tensor([[ 7.3100e-06],\n",
       "        [ 7.9484e-04],\n",
       "        [ 1.6535e-07],\n",
       "        [-2.1195e-08],\n",
       "        [-2.0401e-06],\n",
       "        [-7.0994e-08],\n",
       "        [ 2.1451e-04],\n",
       "        [-1.6372e-05],\n",
       "        [ 6.1647e-06],\n",
       "        [ 4.6195e-05],\n",
       "        [-2.0789e-05],\n",
       "        [-3.3896e-06],\n",
       "        [ 1.4423e-06],\n",
       "        [ 4.9396e-07],\n",
       "        [ 1.0728e-06],\n",
       "        [ 8.9732e-06],\n",
       "        [ 9.8739e-05],\n",
       "        [ 3.8365e-07],\n",
       "        [-1.0696e-05],\n",
       "        [ 1.1022e-07],\n",
       "        [ 7.3384e-06],\n",
       "        [-9.5974e-06],\n",
       "        [ 7.2965e-06],\n",
       "        [-1.3306e-05],\n",
       "        [ 1.3522e-05],\n",
       "        [ 2.8679e-05],\n",
       "        [-3.4008e-05],\n",
       "        [-2.6509e-06],\n",
       "        [ 8.1941e-06],\n",
       "        [-2.1406e-06],\n",
       "        [-1.8275e-07],\n",
       "        [ 7.5787e-09]], device='cuda:0', grad_fn=<SqueezeBackward1>)"
      ]
     },
     "execution_count": 37,
     "metadata": {},
     "output_type": "execute_result"
    }
   ],
   "source": [
    "actor_loss_batch"
   ]
  },
  {
   "cell_type": "code",
   "execution_count": null,
   "id": "c80879fd-0c8c-4bb2-b4ff-22f943eec151",
   "metadata": {},
   "outputs": [],
   "source": []
  },
  {
   "cell_type": "code",
   "execution_count": null,
   "id": "fb02d810-0ffe-45dd-8a6e-bef773e54677",
   "metadata": {},
   "outputs": [],
   "source": []
  },
  {
   "cell_type": "code",
   "execution_count": null,
   "id": "l9cJt5nsiHQw",
   "metadata": {
    "id": "l9cJt5nsiHQw"
   },
   "outputs": [],
   "source": []
  },
  {
   "cell_type": "code",
   "execution_count": null,
   "id": "8ekCBRYIiGlZ",
   "metadata": {
    "id": "8ekCBRYIiGlZ"
   },
   "outputs": [],
   "source": []
  },
  {
   "cell_type": "code",
   "execution_count": null,
   "id": "uGRdj6dliF8K",
   "metadata": {
    "id": "uGRdj6dliF8K"
   },
   "outputs": [],
   "source": []
  },
  {
   "cell_type": "code",
   "execution_count": null,
   "id": "b5NyJFx2iFPo",
   "metadata": {
    "id": "b5NyJFx2iFPo"
   },
   "outputs": [],
   "source": []
  },
  {
   "cell_type": "markdown",
   "id": "4Q2XVjm-iArZ",
   "metadata": {
    "id": "4Q2XVjm-iArZ",
    "jp-MarkdownHeadingCollapsed": true,
    "tags": []
   },
   "source": [
    "##### Old test (ineffective)"
   ]
  },
  {
   "cell_type": "markdown",
   "id": "87d2733c-8e04-4353-82fa-a32faf72b249",
   "metadata": {
    "id": "87d2733c-8e04-4353-82fa-a32faf72b249"
   },
   "source": [
    "Compute the training returns:"
   ]
  },
  {
   "cell_type": "code",
   "execution_count": null,
   "id": "094be9e3-1474-4fda-8c56-467732ea392d",
   "metadata": {
    "id": "094be9e3-1474-4fda-8c56-467732ea392d"
   },
   "outputs": [],
   "source": [
    "if True:\n",
    "    def get_returns_array(env: PortfolioOptEnv,):\n",
    "        \n",
    "        '''\n",
    "            Function to compute the close returns array \n",
    "            from the dataset contained in an environment.\n",
    "            Here we assume it's a dual timeframe env.\n",
    "            These are not exactly the same close returns as \n",
    "            the ones computed in the env state features.\n",
    "        '''\n",
    "        # Get close timestamp list\n",
    "        close_timestamp_list = []\n",
    "        trade_timestamp_list = env.trade_timeframe_info_dict[\"trade_timestamp_list\"]\n",
    "        trading_data_schedule = env.trade_timeframe_info_dict[\"trading_data_schedule\"]\n",
    "        for trade_timestamp in trade_timestamp_list:\n",
    "            close_timestamp_list.append(trading_data_schedule[trade_timestamp][-1])\n",
    "        \n",
    "        # Get reduced close prices dataframe and array, compute close returns\n",
    "        df_close = env.df_X[env.df_X[\"date\"].isin(close_timestamp_list)]\n",
    "        df_close = df_close.pivot_table(index='date',columns = 'tic',values = 'close')\n",
    "        np_close = df_close.to_numpy()\n",
    "        X_close_ret = np.zeros(shape=(len(trade_timestamp_list),env.n_assets))\n",
    "        X_close_ret[1:,:] = (np_close[1:,:]-np_close[:-1,:])/np_close[:-1,:]\n",
    "        \n",
    "        # Return output\n",
    "        return X_close_ret"
   ]
  },
  {
   "cell_type": "markdown",
   "id": "f088c884-33ef-4792-963c-5f018cb96bcf",
   "metadata": {
    "id": "f088c884-33ef-4792-963c-5f018cb96bcf"
   },
   "source": [
    "Equal weights action:"
   ]
  },
  {
   "cell_type": "code",
   "execution_count": null,
   "id": "fb903c05-fb43-42a8-b93e-b69cbf9f5000",
   "metadata": {
    "id": "fb903c05-fb43-42a8-b93e-b69cbf9f5000",
    "outputId": "74c730eb-76d3-44cb-809e-59153c4e0327"
   },
   "outputs": [
    {
     "name": "stdout",
     "output_type": "stream",
     "text": [
      "a = [0.2 0.2 0.2 0.2 0.2]\n"
     ]
    }
   ],
   "source": [
    "a = np.ones(shape=(env_train.n_assets))/env_train.n_assets\n",
    "print(f\"a = {a}\")"
   ]
  },
  {
   "cell_type": "code",
   "execution_count": null,
   "id": "2bba8aeb-7c60-45d5-bf79-4e477515f8b7",
   "metadata": {
    "id": "2bba8aeb-7c60-45d5-bf79-4e477515f8b7"
   },
   "outputs": [],
   "source": [
    "train_clrets = get_returns_array(env_train)"
   ]
  },
  {
   "cell_type": "code",
   "execution_count": null,
   "id": "9b40f054-5513-4308-86ba-79f983e7f124",
   "metadata": {
    "id": "9b40f054-5513-4308-86ba-79f983e7f124",
    "outputId": "254b08ef-8e0b-4989-e59a-dd437475a1b3"
   },
   "outputs": [
    {
     "data": {
      "text/plain": [
       "(811, 5)"
      ]
     },
     "execution_count": 8,
     "metadata": {},
     "output_type": "execute_result"
    }
   ],
   "source": [
    "train_clrets.shape"
   ]
  },
  {
   "cell_type": "code",
   "execution_count": null,
   "id": "a2f93276-79f9-4020-8f32-795345f562f5",
   "metadata": {
    "collapsed": true,
    "id": "a2f93276-79f9-4020-8f32-795345f562f5",
    "jupyter": {
     "outputs_hidden": true
    },
    "outputId": "b2e0093a-2c23-4970-e8d3-c1c0b5c54f89",
    "tags": []
   },
   "outputs": [
    {
     "data": {
      "text/plain": [
       "array([[ 0.00000000e+00,  0.00000000e+00,  0.00000000e+00,\n",
       "         0.00000000e+00,  0.00000000e+00],\n",
       "       [ 2.15686275e-03, -9.04950612e-03, -8.22173778e-03,\n",
       "         1.61262455e-03, -2.16986981e-03],\n",
       "       [ 0.00000000e+00, -1.19374478e-04, -1.44445142e-03,\n",
       "         0.00000000e+00,  0.00000000e+00],\n",
       "       [ 0.00000000e+00, -7.16332378e-04,  0.00000000e+00,\n",
       "         0.00000000e+00,  0.00000000e+00],\n",
       "       [ 2.41309594e-03,  2.09080048e-03,  1.25710692e-02,\n",
       "        -2.35754126e-03, -1.06399503e-03],\n",
       "       [-1.10605075e-02, -1.49031297e-03, -5.02798779e-03,\n",
       "         1.26224784e-04,  2.87662393e-04],\n",
       "       [-2.63157895e-03, -1.24776119e-02, -2.39903664e-03,\n",
       "         4.59941944e-03, -2.56489974e-03],\n",
       "       [ 3.89182058e-03, -9.40088266e-03, -2.65949125e-03,\n",
       "         3.49931161e-03, -1.01301333e-03],\n",
       "       [ 4.33668441e-03,  1.38280797e-02,  7.08997365e-03,\n",
       "        -6.00240096e-04,  7.80031201e-05],\n",
       "       [ 1.01406608e-03,  3.72740801e-03, -2.80356364e-04,\n",
       "        -1.49921350e-03, -9.35964433e-04]])"
      ]
     },
     "execution_count": 10,
     "metadata": {},
     "output_type": "execute_result"
    }
   ],
   "source": [
    "train_clrets[:10]"
   ]
  },
  {
   "cell_type": "code",
   "execution_count": null,
   "id": "0e68c5f8-6b80-49d1-b089-d366c4e865d7",
   "metadata": {
    "id": "0e68c5f8-6b80-49d1-b089-d366c4e865d7",
    "outputId": "81b84232-2389-433f-da69-4ceaa79661a1"
   },
   "outputs": [
    {
     "data": {
      "text/plain": [
       "array([0., 0., 0., 0., 0.])"
      ]
     },
     "execution_count": 47,
     "metadata": {},
     "output_type": "execute_result"
    }
   ],
   "source": [
    "train_clrets[0,:]"
   ]
  },
  {
   "cell_type": "markdown",
   "id": "ff5913e9-4b61-4bdc-92d1-0bc68364db49",
   "metadata": {
    "id": "ff5913e9-4b61-4bdc-92d1-0bc68364db49"
   },
   "source": [
    "Stock returns at first trading period:"
   ]
  },
  {
   "cell_type": "code",
   "execution_count": null,
   "id": "fa7d190e-bda2-43d1-bd5d-44f744cc3af2",
   "metadata": {
    "id": "fa7d190e-bda2-43d1-bd5d-44f744cc3af2",
    "outputId": "d2b24518-350d-4b42-ee76-12c5dacaebd5"
   },
   "outputs": [
    {
     "data": {
      "text/plain": [
       "array([ 0.00215686, -0.00904951, -0.00822174,  0.00161262, -0.00216987])"
      ]
     },
     "execution_count": 48,
     "metadata": {},
     "output_type": "execute_result"
    }
   ],
   "source": [
    "train_clrets[1,:]"
   ]
  },
  {
   "cell_type": "markdown",
   "id": "e203e410-9de7-4602-a30f-74721766e82f",
   "metadata": {
    "id": "e203e410-9de7-4602-a30f-74721766e82f"
   },
   "source": [
    "Equal weights portfolio return at first trading period:"
   ]
  },
  {
   "cell_type": "code",
   "execution_count": null,
   "id": "2f2d582d-8a66-4a5f-beb1-e521dc9806aa",
   "metadata": {
    "id": "2f2d582d-8a66-4a5f-beb1-e521dc9806aa",
    "outputId": "0685e24c-c014-450c-8bd9-3be44865dfa7"
   },
   "outputs": [
    {
     "name": "stdout",
     "output_type": "stream",
     "text": [
      "r = np.dot(a, train_clrets[1,:]) = -0.003134325282876517\n"
     ]
    }
   ],
   "source": [
    "r = np.dot(a, train_clrets[1,:])\n",
    "print(f\"r = np.dot(a, train_clrets[1,:]) = {r}\")"
   ]
  },
  {
   "cell_type": "markdown",
   "id": "1cb563aa-b168-4405-95b0-781583a19a0a",
   "metadata": {
    "id": "1cb563aa-b168-4405-95b0-781583a19a0a"
   },
   "source": [
    "Now try with critic:"
   ]
  },
  {
   "cell_type": "code",
   "execution_count": null,
   "id": "5f7158cb-afc4-4918-9ce2-a576d9c61abe",
   "metadata": {
    "id": "5f7158cb-afc4-4918-9ce2-a576d9c61abe"
   },
   "outputs": [],
   "source": [
    "critic_net = R_Critic()"
   ]
  },
  {
   "cell_type": "code",
   "execution_count": null,
   "id": "945635b5-3070-46c0-af49-ef89ba380181",
   "metadata": {
    "id": "945635b5-3070-46c0-af49-ef89ba380181",
    "outputId": "ddd49650-22c3-4ca4-9908-133650ca59f3"
   },
   "outputs": [
    {
     "data": {
      "text/plain": [
       "tensor([[[-0.0031]]], device='cuda:0')"
      ]
     },
     "execution_count": 59,
     "metadata": {},
     "output_type": "execute_result"
    }
   ],
   "source": [
    "r_ = critic_net(a, train_clrets[1,:])\n",
    "print(f\"\")"
   ]
  },
  {
   "cell_type": "code",
   "execution_count": null,
   "id": "bdf03611-9d1e-46a8-95e0-61878891347d",
   "metadata": {
    "id": "bdf03611-9d1e-46a8-95e0-61878891347d"
   },
   "outputs": [],
   "source": []
  },
  {
   "cell_type": "markdown",
   "id": "7699463b-ebe2-4ca0-bc67-867f249317cf",
   "metadata": {
    "id": "7699463b-ebe2-4ca0-bc67-867f249317cf"
   },
   "source": [
    "Now we compute some product with the critic net:"
   ]
  },
  {
   "cell_type": "code",
   "execution_count": null,
   "id": "d6845fa3-12e3-498c-a99b-d2eac039d702",
   "metadata": {
    "id": "d6845fa3-12e3-498c-a99b-d2eac039d702"
   },
   "outputs": [],
   "source": [
    "critic_net = R_Critic()"
   ]
  },
  {
   "cell_type": "code",
   "execution_count": null,
   "id": "d6eb9589-337f-4c36-a0ec-0423078eae3b",
   "metadata": {
    "id": "d6eb9589-337f-4c36-a0ec-0423078eae3b"
   },
   "outputs": [],
   "source": [
    "ret_batch = critic_net(a_batch, train_clrets[t_batch,:])"
   ]
  },
  {
   "cell_type": "code",
   "execution_count": null,
   "id": "2c746dbb-170d-4b7d-99ca-49e265520f11",
   "metadata": {
    "id": "2c746dbb-170d-4b7d-99ca-49e265520f11",
    "outputId": "ec57b084-13c7-435d-8f09-78d08c4d0362"
   },
   "outputs": [
    {
     "data": {
      "text/plain": [
       "tensor([[[-1.3968e-04, -1.2852e-04, -1.6993e-04, -9.9404e-05, -4.2384e-05],\n",
       "         [-1.4720e-03, -1.3544e-03, -1.7908e-03, -1.0476e-03, -4.4666e-04],\n",
       "         [-8.1155e-04, -7.4671e-04, -9.8728e-04, -5.7753e-04, -2.4625e-04],\n",
       "         [-1.4839e-03, -1.3654e-03, -1.8052e-03, -1.0560e-03, -4.5026e-04],\n",
       "         [-7.6209e-04, -7.0121e-04, -9.2712e-04, -5.4234e-04, -2.3124e-04]],\n",
       "\n",
       "        [[-1.4068e-03, -2.6878e-03, -1.3133e-03, -8.1687e-04, -8.0314e-05],\n",
       "         [-1.3501e-03, -2.5794e-03, -1.2603e-03, -7.8392e-04, -7.7074e-05],\n",
       "         [-2.6253e-04, -5.0157e-04, -2.4508e-04, -1.5244e-04, -1.4987e-05],\n",
       "         [-1.7354e-04, -3.3156e-04, -1.6201e-04, -1.0077e-04, -9.9073e-06],\n",
       "         [-8.5687e-04, -1.6371e-03, -7.9990e-04, -4.9754e-04, -4.8917e-05]],\n",
       "\n",
       "        [[ 0.0000e+00,  1.5289e-03, -5.3273e-03, -8.1208e-04, -1.2845e-03],\n",
       "         [ 0.0000e+00,  2.8646e-04, -9.9812e-04, -1.5215e-04, -2.4067e-04],\n",
       "         [ 0.0000e+00,  9.8943e-05, -3.4475e-04, -5.2553e-05, -8.3128e-05],\n",
       "         [ 0.0000e+00,  3.1768e-04, -1.1069e-03, -1.6873e-04, -2.6690e-04],\n",
       "         [ 0.0000e+00,  8.1212e-04, -2.8297e-03, -4.3135e-04, -6.8230e-04]],\n",
       "\n",
       "        [[ 2.2236e-03,  3.4888e-03, -1.2873e-03,  1.0784e-03, -6.4367e-04],\n",
       "         [ 1.9643e-03,  3.0819e-03, -1.1372e-03,  9.5262e-04, -5.6860e-04],\n",
       "         [ 1.0455e-03,  1.6403e-03, -6.0525e-04,  5.0702e-04, -3.0263e-04],\n",
       "         [ 1.5405e-03,  2.4170e-03, -8.9182e-04,  7.4708e-04, -4.4592e-04],\n",
       "         [ 2.6779e-03,  4.2015e-03, -1.5503e-03,  1.2987e-03, -7.7516e-04]],\n",
       "\n",
       "        [[ 4.3179e-04, -7.4860e-05, -1.7645e-03, -2.3084e-05, -3.2034e-04],\n",
       "         [ 4.4185e-04, -7.6605e-05, -1.8056e-03, -2.3623e-05, -3.2781e-04],\n",
       "         [ 3.2867e-04, -5.6982e-05, -1.3431e-03, -1.7571e-05, -2.4384e-04],\n",
       "         [ 1.7284e-04, -2.9965e-05, -7.0627e-04, -9.2402e-06, -1.2823e-04],\n",
       "         [ 3.1547e-04, -5.4693e-05, -1.2891e-03, -1.6866e-05, -2.3404e-04]],\n",
       "\n",
       "        [[ 2.1477e-03,  1.0839e-02,  2.2466e-03,  1.0131e-03,  1.5686e-03],\n",
       "         [ 1.9353e-04,  9.7669e-04,  2.0244e-04,  9.1292e-05,  1.4134e-04],\n",
       "         [ 2.3402e-03,  1.1810e-02,  2.4480e-03,  1.1039e-03,  1.7092e-03],\n",
       "         [ 2.2017e-03,  1.1111e-02,  2.3031e-03,  1.0386e-03,  1.6080e-03],\n",
       "         [ 9.0359e-04,  4.5602e-03,  9.4523e-04,  4.2625e-04,  6.5995e-04]],\n",
       "\n",
       "        [[ 0.0000e+00,  2.4513e-04,  8.8736e-04,  9.1309e-04,  2.5586e-04],\n",
       "         [ 0.0000e+00,  2.6307e-04,  9.5229e-04,  9.7991e-04,  2.7458e-04],\n",
       "         [ 0.0000e+00,  2.8877e-04,  1.0453e-03,  1.0757e-03,  3.0141e-04],\n",
       "         [ 0.0000e+00,  2.1864e-04,  7.9144e-04,  8.1440e-04,  2.2820e-04],\n",
       "         [ 0.0000e+00,  5.5388e-05,  2.0050e-04,  2.0632e-04,  5.7811e-05]],\n",
       "\n",
       "        [[ 3.7883e-06,  8.9566e-05,  2.5260e-05, -1.2379e-05, -6.2410e-05],\n",
       "         [ 2.2256e-05,  5.2621e-04,  1.4841e-04, -7.2730e-05, -3.6666e-04],\n",
       "         [ 2.3099e-05,  5.4613e-04,  1.5403e-04, -7.5484e-05, -3.8055e-04],\n",
       "         [ 1.5884e-05,  3.7555e-04,  1.0592e-04, -5.1907e-05, -2.6168e-04],\n",
       "         [ 2.7317e-05,  6.4586e-04,  1.8215e-04, -8.9268e-05, -4.5004e-04]],\n",
       "\n",
       "        [[ 1.2343e-03,  3.1358e-05,  7.8711e-05, -1.0725e-05, -1.9846e-04],\n",
       "         [ 2.3778e-03,  6.0411e-05,  1.5164e-04, -2.0661e-05, -3.8233e-04],\n",
       "         [ 5.3376e-03,  1.3561e-04,  3.4039e-04, -4.6379e-05, -8.5827e-04],\n",
       "         [ 1.0001e-03,  2.5409e-05,  6.3779e-05, -8.6899e-06, -1.6081e-04],\n",
       "         [ 4.6279e-03,  1.1758e-04,  2.9514e-04, -4.0213e-05, -7.4415e-04]],\n",
       "\n",
       "        [[ 0.0000e+00,  4.1489e-06,  1.5660e-04,  1.1910e-04,  6.1821e-05],\n",
       "         [ 0.0000e+00,  1.8256e-05,  6.8906e-04,  5.2406e-04,  2.7202e-04],\n",
       "         [ 0.0000e+00,  1.4849e-05,  5.6046e-04,  4.2626e-04,  2.2125e-04],\n",
       "         [ 0.0000e+00,  1.3536e-05,  5.1092e-04,  3.8858e-04,  2.0169e-04],\n",
       "         [ 0.0000e+00,  1.7012e-05,  6.4210e-04,  4.8835e-04,  2.5348e-04]],\n",
       "\n",
       "        [[ 7.0597e-05, -1.1448e-04,  7.3485e-05, -3.0632e-05, -1.9607e-05],\n",
       "         [ 8.2323e-04, -1.3350e-03,  8.5691e-04, -3.5720e-04, -2.2863e-04],\n",
       "         [ 5.1209e-04, -8.3044e-04,  5.3304e-04, -2.2220e-04, -1.4222e-04],\n",
       "         [ 4.9831e-04, -8.0809e-04,  5.1870e-04, -2.1622e-04, -1.3839e-04],\n",
       "         [ 1.8019e-04, -2.9221e-04,  1.8756e-04, -7.8185e-05, -5.0044e-05]],\n",
       "\n",
       "        [[ 0.0000e+00, -1.1566e-03,  2.2605e-03, -1.2510e-03, -2.5134e-04],\n",
       "         [ 0.0000e+00, -1.1392e-03,  2.2264e-03, -1.2321e-03, -2.4754e-04],\n",
       "         [ 0.0000e+00, -7.4787e-04,  1.4616e-03, -8.0890e-04, -1.6252e-04],\n",
       "         [ 0.0000e+00, -5.4275e-04,  1.0608e-03, -5.8705e-04, -1.1794e-04],\n",
       "         [ 0.0000e+00, -5.1236e-05,  1.0014e-04, -5.5417e-05, -1.1134e-05]],\n",
       "\n",
       "        [[ 0.0000e+00,  1.2047e-04,  1.9069e-04, -5.5921e-04,  4.7690e-04],\n",
       "         [ 0.0000e+00,  3.8390e-05,  6.0768e-05, -1.7821e-04,  1.5198e-04],\n",
       "         [ 0.0000e+00,  4.0138e-05,  6.3535e-05, -1.8632e-04,  1.5890e-04],\n",
       "         [ 0.0000e+00,  1.5164e-05,  2.4003e-05, -7.0392e-05,  6.0031e-05],\n",
       "         [ 0.0000e+00,  9.9298e-05,  1.5718e-04, -4.6094e-04,  3.9310e-04]],\n",
       "\n",
       "        [[ 6.0314e-04,  4.9274e-04,  4.1399e-04,  4.5550e-05,  2.9187e-04],\n",
       "         [ 8.2781e-04,  6.7629e-04,  5.6820e-04,  6.2518e-05,  4.0060e-04],\n",
       "         [ 1.1261e-03,  9.2001e-04,  7.7297e-04,  8.5048e-05,  5.4497e-04],\n",
       "         [ 1.3438e-03,  1.0978e-03,  9.2238e-04,  1.0149e-04,  6.5030e-04],\n",
       "         [ 1.2136e-04,  9.9145e-05,  8.3299e-05,  9.1651e-06,  5.8728e-05]],\n",
       "\n",
       "        [[ 3.6656e-03,  2.9506e-03,  1.6667e-03,  2.0500e-03,  1.7174e-03],\n",
       "         [ 2.9466e-03,  2.3719e-03,  1.3399e-03,  1.6479e-03,  1.3806e-03],\n",
       "         [ 2.0853e-03,  1.6785e-03,  9.4818e-04,  1.1662e-03,  9.7700e-04],\n",
       "         [ 2.8888e-03,  2.3253e-03,  1.3135e-03,  1.6156e-03,  1.3535e-03],\n",
       "         [ 1.9827e-03,  1.5959e-03,  9.0153e-04,  1.1088e-03,  9.2894e-04]],\n",
       "\n",
       "        [[-3.6468e-04, -7.0544e-05,  0.0000e+00,  3.2589e-04, -1.4189e-06],\n",
       "         [-5.1803e-04, -1.0021e-04,  0.0000e+00,  4.6293e-04, -2.0156e-06],\n",
       "         [-1.2146e-04, -2.3495e-05,  0.0000e+00,  1.0854e-04, -4.7258e-07],\n",
       "         [-1.2561e-04, -2.4297e-05,  0.0000e+00,  1.1225e-04, -4.8871e-07],\n",
       "         [-1.1867e-04, -2.2955e-05,  0.0000e+00,  1.0605e-04, -4.6172e-07]],\n",
       "\n",
       "        [[-9.2702e-06, -4.5613e-05,  9.0171e-06,  0.0000e+00, -2.6085e-04],\n",
       "         [-1.1069e-05, -5.4466e-05,  1.0767e-05,  0.0000e+00, -3.1148e-04],\n",
       "         [-1.3142e-05, -6.4663e-05,  1.2783e-05,  0.0000e+00, -3.6979e-04],\n",
       "         [-2.0769e-05, -1.0219e-04,  2.0202e-05,  0.0000e+00, -5.8439e-04],\n",
       "         [-1.1800e-05, -5.8060e-05,  1.1478e-05,  0.0000e+00, -3.3203e-04]],\n",
       "\n",
       "        [[-1.2411e-04, -4.8416e-05, -1.1326e-04, -6.4631e-05,  6.3670e-05],\n",
       "         [-1.1473e-04, -4.4759e-05, -1.0470e-04, -5.9750e-05,  5.8861e-05],\n",
       "         [-7.9193e-04, -3.0895e-04, -7.2271e-04, -4.1242e-04,  4.0629e-04],\n",
       "         [-6.1414e-04, -2.3959e-04, -5.6046e-04, -3.1983e-04,  3.1508e-04],\n",
       "         [-1.8894e-03, -7.3710e-04, -1.7243e-03, -9.8397e-04,  9.6934e-04]],\n",
       "\n",
       "        [[ 0.0000e+00,  0.0000e+00,  0.0000e+00,  0.0000e+00,  0.0000e+00],\n",
       "         [ 0.0000e+00,  0.0000e+00,  0.0000e+00,  0.0000e+00,  0.0000e+00],\n",
       "         [ 0.0000e+00,  0.0000e+00,  0.0000e+00,  0.0000e+00,  0.0000e+00],\n",
       "         [ 0.0000e+00,  0.0000e+00,  0.0000e+00,  0.0000e+00,  0.0000e+00],\n",
       "         [ 0.0000e+00,  0.0000e+00,  0.0000e+00,  0.0000e+00,  0.0000e+00]],\n",
       "\n",
       "        [[-3.3762e-03, -1.4675e-03, -5.8889e-03,  0.0000e+00,  0.0000e+00],\n",
       "         [-2.8984e-03, -1.2598e-03, -5.0555e-03,  0.0000e+00,  0.0000e+00],\n",
       "         [-3.1447e-03, -1.3668e-03, -5.4851e-03,  0.0000e+00,  0.0000e+00],\n",
       "         [-6.0329e-04, -2.6222e-04, -1.0523e-03,  0.0000e+00,  0.0000e+00],\n",
       "         [-6.7454e-04, -2.9319e-04, -1.1766e-03,  0.0000e+00,  0.0000e+00]],\n",
       "\n",
       "        [[-4.6213e-04, -5.6772e-04, -4.8228e-04, -1.4877e-05, -1.9750e-04],\n",
       "         [-1.2111e-03, -1.4878e-03, -1.2639e-03, -3.8989e-05, -5.1760e-04],\n",
       "         [-3.8333e-03, -4.7092e-03, -4.0005e-03, -1.2340e-04, -1.6383e-03],\n",
       "         [-2.6324e-03, -3.2338e-03, -2.7471e-03, -8.4743e-05, -1.1250e-03],\n",
       "         [-3.0873e-03, -3.7927e-03, -3.2219e-03, -9.9389e-05, -1.3194e-03]],\n",
       "\n",
       "        [[ 8.2031e-04, -3.9505e-05,  3.3731e-05,  1.1986e-03,  7.1989e-04],\n",
       "         [ 7.6464e-04, -3.6824e-05,  3.1442e-05,  1.1172e-03,  6.7103e-04],\n",
       "         [ 6.3001e-04, -3.0340e-05,  2.5906e-05,  9.2053e-04,  5.5288e-04],\n",
       "         [ 6.5972e-04, -3.1771e-05,  2.7128e-05,  9.6395e-04,  5.7896e-04],\n",
       "         [ 9.3887e-04, -4.5215e-05,  3.8606e-05,  1.3718e-03,  8.2393e-04]],\n",
       "\n",
       "        [[-1.1085e-04, -2.5396e-03,  5.9831e-03,  3.2028e-03, -7.0152e-04],\n",
       "         [-7.7495e-05, -1.7754e-03,  4.1826e-03,  2.2390e-03, -4.9041e-04],\n",
       "         [-3.8050e-05, -8.7172e-04,  2.0537e-03,  1.0993e-03, -2.4079e-04],\n",
       "         [-3.7774e-05, -8.6539e-04,  2.0388e-03,  1.0914e-03, -2.3905e-04],\n",
       "         [-1.2168e-04, -2.7877e-03,  6.5674e-03,  3.5156e-03, -7.7003e-04]],\n",
       "\n",
       "        [[ 1.0915e-03,  1.3513e-03, -8.8133e-04, -1.1281e-03,  3.4603e-05],\n",
       "         [ 2.4975e-04,  3.0920e-04, -2.0166e-04, -2.5812e-04,  7.9176e-06],\n",
       "         [ 5.9459e-04,  7.3611e-04, -4.8009e-04, -6.1451e-04,  1.8849e-05],\n",
       "         [ 7.3127e-04,  9.0533e-04, -5.9045e-04, -7.5577e-04,  2.3182e-05],\n",
       "         [ 2.2472e-04,  2.7821e-04, -1.8145e-04, -2.3225e-04,  7.1240e-06]],\n",
       "\n",
       "        [[-1.2339e-03,  2.5916e-04, -2.9638e-04,  0.0000e+00,  3.1022e-04],\n",
       "         [-2.6824e-03,  5.6338e-04, -6.4428e-04,  0.0000e+00,  6.7436e-04],\n",
       "         [-2.6730e-03,  5.6141e-04, -6.4203e-04,  0.0000e+00,  6.7200e-04],\n",
       "         [-1.4443e-03,  3.0334e-04, -3.4690e-04,  0.0000e+00,  3.6309e-04],\n",
       "         [-2.5065e-03,  5.2645e-04, -6.0205e-04,  0.0000e+00,  6.3015e-04]],\n",
       "\n",
       "        [[-1.1065e-04, -4.6267e-04, -2.3814e-04,  4.3834e-04, -3.7795e-04],\n",
       "         [-8.5652e-05, -3.5815e-04, -1.8434e-04,  3.3932e-04, -2.9257e-04],\n",
       "         [-8.5929e-05, -3.5931e-04, -1.8494e-04,  3.4041e-04, -2.9351e-04],\n",
       "         [-1.2100e-04, -5.0596e-04, -2.6042e-04,  4.7936e-04, -4.1331e-04],\n",
       "         [-9.2542e-06, -3.8696e-05, -1.9917e-05,  3.6661e-05, -3.1610e-05]],\n",
       "\n",
       "        [[ 1.6079e-05,  4.1731e-04, -6.8419e-04, -8.6575e-04, -1.3666e-03],\n",
       "         [ 1.3936e-05,  3.6169e-04, -5.9299e-04, -7.5035e-04, -1.1844e-03],\n",
       "         [ 1.9474e-05,  5.0543e-04, -8.2866e-04, -1.0486e-03, -1.6551e-03],\n",
       "         [ 6.5699e-06,  1.7052e-04, -2.7956e-04, -3.5375e-04, -5.5839e-04],\n",
       "         [ 1.6822e-05,  4.3660e-04, -7.1581e-04, -9.0577e-04, -1.4297e-03]],\n",
       "\n",
       "        [[ 2.0575e-03,  2.2446e-03,  1.4772e-03,  1.2497e-03,  1.8157e-04],\n",
       "         [ 1.3943e-03,  1.5211e-03,  1.0011e-03,  8.4686e-04,  1.2304e-04],\n",
       "         [ 3.9954e-03,  4.3587e-03,  2.8686e-03,  2.4266e-03,  3.5258e-04],\n",
       "         [ 2.8667e-03,  3.1274e-03,  2.0582e-03,  1.7411e-03,  2.5298e-04],\n",
       "         [ 1.1017e-03,  1.2019e-03,  7.9103e-04,  6.6916e-04,  9.7225e-05]],\n",
       "\n",
       "        [[-7.5184e-04, -1.4046e-04,  5.7478e-05, -3.3010e-04, -1.1862e-03],\n",
       "         [-5.5667e-04, -1.0400e-04,  4.2557e-05, -2.4441e-04, -8.7827e-04],\n",
       "         [-1.0058e-03, -1.8790e-04,  7.6891e-05, -4.4159e-04, -1.5868e-03],\n",
       "         [-9.7974e-04, -1.8304e-04,  7.4901e-05, -4.3016e-04, -1.5458e-03],\n",
       "         [-8.5166e-04, -1.5911e-04,  6.5109e-05, -3.7392e-04, -1.3437e-03]],\n",
       "\n",
       "        [[-4.5866e-04, -5.9103e-05, -3.0326e-04, -3.1774e-04, -4.7165e-04],\n",
       "         [-1.2109e-03, -1.5603e-04, -8.0061e-04, -8.3883e-04, -1.2452e-03],\n",
       "         [-4.0509e-05, -5.2200e-06, -2.6784e-05, -2.8063e-05, -4.1656e-05],\n",
       "         [-2.6968e-03, -3.4751e-04, -1.7831e-03, -1.8682e-03, -2.7731e-03],\n",
       "         [-2.5154e-05, -3.2413e-06, -1.6631e-05, -1.7425e-05, -2.5866e-05]],\n",
       "\n",
       "        [[-9.1023e-05,  6.9355e-04,  8.4376e-04, -5.6915e-04, -5.4808e-04],\n",
       "         [-8.4758e-05,  6.4581e-04,  7.8568e-04, -5.2998e-04, -5.1035e-04],\n",
       "         [-2.2449e-04,  1.7105e-03,  2.0810e-03, -1.4037e-03, -1.3517e-03],\n",
       "         [-6.0566e-05,  4.6148e-04,  5.6143e-04, -3.7871e-04, -3.6468e-04],\n",
       "         [-4.8325e-05,  3.6821e-04,  4.4796e-04, -3.0217e-04, -2.9098e-04]],\n",
       "\n",
       "        [[ 0.0000e+00,  1.4085e-04,  0.0000e+00,  0.0000e+00, -4.0257e-04],\n",
       "         [ 0.0000e+00,  1.9525e-04,  0.0000e+00,  0.0000e+00, -5.5804e-04],\n",
       "         [ 0.0000e+00,  2.7966e-04,  0.0000e+00,  0.0000e+00, -7.9929e-04],\n",
       "         [ 0.0000e+00,  1.6971e-04,  0.0000e+00,  0.0000e+00, -4.8505e-04],\n",
       "         [ 0.0000e+00,  6.5350e-06,  0.0000e+00,  0.0000e+00, -1.8677e-05]]],\n",
       "       device='cuda:0')"
      ]
     },
     "execution_count": 90,
     "metadata": {},
     "output_type": "execute_result"
    }
   ],
   "source": [
    "ret_batch"
   ]
  },
  {
   "cell_type": "code",
   "execution_count": null,
   "id": "216d6c11-7293-480f-9d3e-50a6ae879e6f",
   "metadata": {
    "id": "216d6c11-7293-480f-9d3e-50a6ae879e6f"
   },
   "outputs": [],
   "source": []
  },
  {
   "cell_type": "code",
   "execution_count": null,
   "id": "326e0339-8edd-4fff-89a8-0338a32b5c86",
   "metadata": {
    "id": "326e0339-8edd-4fff-89a8-0338a32b5c86"
   },
   "outputs": [],
   "source": []
  },
  {
   "cell_type": "code",
   "execution_count": null,
   "id": "96776bf8-c586-4607-aed0-20a08bcec636",
   "metadata": {
    "id": "96776bf8-c586-4607-aed0-20a08bcec636"
   },
   "outputs": [],
   "source": []
  },
  {
   "cell_type": "markdown",
   "id": "d65e5c66-0e00-48cf-affb-b86bf5a55980",
   "metadata": {
    "id": "d65e5c66-0e00-48cf-affb-b86bf5a55980"
   },
   "source": [
    "### (3) Agent functions implementation\n",
    "\n",
    "The hardest part of the task. We will need 3 functions here:\n",
    "\n",
    "1) The *set_model()* function that instantitates the actor, \"critic\" and replay buffer. \n",
    "2) The *train_model()* function that implements our version of DDPG. \n",
    "2) The *run_backtest()* function that deploys the trained model. "
   ]
  },
  {
   "cell_type": "markdown",
   "id": "5da9e513-7ad4-44d8-9b4b-6eec655d10ea",
   "metadata": {
    "id": "5da9e513-7ad4-44d8-9b4b-6eec655d10ea"
   },
   "source": [
    "#### 3.a - Model setup implementation\n",
    "\n",
    "This function sets up the model used by the agent for portfolio optimization. In brief:\n",
    "\n",
    "**Input params:**\n",
    "- The training environment, from which the data, weight normalization, and aprts of the net architectures are obtained.\n",
    "- The *policy_kwargs*, containing the neural net architecture for the policy network.\n",
    "- The *model_kwargs*, containing the learning hyperparameters (learn_rate, batch_size, buffer_size)\n",
    "\n",
    "**Output:**\n",
    "- Actor network.\n",
    "- Pseudo critic module.\n",
    "\n",
    "**Comment: Agent constructor**\n",
    "I had the following list of attributes in my draft of the agent constructor:\n",
    "\n",
    "        # Environment attributes\n",
    "        self.reward_type = None\n",
    "        self.train_close_returns = None\n",
    "        self.test_close_returns = None\n",
    "        \n",
    "        # Actor attributes\n",
    "        self.actor = None\n",
    "        self.policy_optimizer = None\n",
    "        # self.actor_kwargs       \n",
    "        \n",
    "        # Critic attributes\n",
    "        self.critic = None\n",
    "        \n",
    "        # Replay buffer attributes\n",
    "        self.replay_buffer = None\n",
    "        self.buffer_size = None\n",
    "        \n",
    "        # Learning (hyper)parameters\n",
    "        self.gamma = None\n",
    "        self.learn_rate = None\n",
    "        self.batch_size = None\n",
    "        self.buffer_size = None"
   ]
  },
  {
   "cell_type": "code",
   "execution_count": 9,
   "id": "8a7a6c22-8352-4408-b723-9a0fb515a94a",
   "metadata": {
    "id": "8a7a6c22-8352-4408-b723-9a0fb515a94a"
   },
   "outputs": [],
   "source": [
    "if True:    \n",
    "    def set_model(train_env: PortfolioOptEnv,\n",
    "                  actor_n_hidden_1: int = 400,\n",
    "                  actor_n_hidden_2: int = 200,\n",
    "                  weight_normalization: str = \"softmax\",\n",
    "                  activation_fn: str = \"sigmoid\",\n",
    "                  activation_scale: float = 1.0,\n",
    "                  buffer_size: int = 1000,\n",
    "                  learn_rate: float = 0.001,\n",
    "                 ):\n",
    "                \n",
    "        # Build actor\n",
    "        dim_in = train_env.obs_space_shape[0]*train_env.obs_space_shape[1]\n",
    "        dim_out = train_env.n_assets\n",
    "        actor = Actor(dim_in, \n",
    "                      dim_out, \n",
    "                      actor_n_hidden_1,\n",
    "                      actor_n_hidden_2,\n",
    "                      weight_normalization = weight_normalization,\n",
    "                      activation_fn = activation_fn,\n",
    "                      activation_scale = activation_scale,\n",
    "                     )\n",
    "        \n",
    "        # Build pseudo-critic\n",
    "        ## Note: The critic stores the training dataset close price returns\n",
    "        critic = R_Critic(env = train_env)\n",
    "        \n",
    "        # Build replay buffer\n",
    "        replay_buffer = replayBuffer(buffer_size)\n",
    "        \n",
    "        # Build policy optimizer\n",
    "        policy_optimizer = th.optim.Adam(actor.parameters(), \n",
    "                                         lr=learn_rate)\n",
    "                \n",
    "        # Fill output dict\n",
    "        model_dict = {}\n",
    "        model_dict[\"actor\"] = actor\n",
    "        model_dict[\"policy_optimizer\"] = policy_optimizer\n",
    "        model_dict[\"critic\"] = critic\n",
    "        model_dict[\"ReplayBuffer\"] = replay_buffer\n",
    "        model_dict[\"reward_type\"] = reward_type\n",
    "        \n",
    "        \n",
    "        # Return model_dict\n",
    "        return model_dict"
   ]
  },
  {
   "cell_type": "code",
   "execution_count": null,
   "id": "25b81715-c373-4aa1-80f4-de204b09d504",
   "metadata": {
    "id": "25b81715-c373-4aa1-80f4-de204b09d504"
   },
   "outputs": [],
   "source": []
  },
  {
   "cell_type": "code",
   "execution_count": null,
   "id": "90d1d302-9182-4f0a-ad75-7708f87b14e4",
   "metadata": {
    "id": "90d1d302-9182-4f0a-ad75-7708f87b14e4"
   },
   "outputs": [],
   "source": []
  },
  {
   "cell_type": "markdown",
   "id": "329dd42d-3ddd-4544-84c3-dcdddd36d73d",
   "metadata": {
    "id": "329dd42d-3ddd-4544-84c3-dcdddd36d73d"
   },
   "source": [
    "#### 3.b - Model training implementation\n",
    "\n",
    "This function sets up the model used by the agent for portfolio optimization. In brief:\n",
    "\n",
    "**Input params:**\n",
    "- The training environment, from which the data, weight normalization, and aprts of the net architectures are obtained.\n",
    "- The model dictionary\n",
    "**Output:**\n",
    "- Validation Boolean\n",
    "\n",
    "\n",
    "This is the hardest part of the task. A good guide on how this part is done is P. Tabor's implementation of TD3, in particular:\n",
    "\n",
    "\n"
   ]
  },
  {
   "cell_type": "code",
   "execution_count": 13,
   "id": "c8895046-a1df-4318-92a3-46923f818f04",
   "metadata": {
    "id": "c8895046-a1df-4318-92a3-46923f818f04"
   },
   "outputs": [],
   "source": [
    "if True:\n",
    "    def get_action(actor, state):\n",
    "        state_  = th.FloatTensor(state).to(actor.device)\n",
    "        action = actor.forward(state_.view(1,-1))\n",
    "        #return action.cpu().detach().numpy()[0]\n",
    "        return action.cpu().detach().numpy()\n",
    "    \n",
    "    def model_learn(actor: Actor,\n",
    "                    critic: R_Critic,\n",
    "                    replay_buffer: replayBuffer,\n",
    "                    policy_optimizer: th.optim.Adam,\n",
    "                    batch_size:int,\n",
    "                   ):\n",
    "        '''\n",
    "            MAIN LEARNING ALGORITHM\n",
    "        '''\n",
    "        \n",
    "        # Check no. of available transitions in buffer\n",
    "        if replay_buffer.count() < batch_size:\n",
    "            # Is this really a good idea\n",
    "            # DEBUG\n",
    "            #print(f\"Skipped learning. replay_buffer.count() = {replay_buffer.count()}\")\n",
    "            return\n",
    "        \n",
    "        \n",
    "        # Sample batch transitions\n",
    "        ## NOTE: The states have been flattened here.\n",
    "        s_batch, a_batch, r_batch, s_next_batch, t_batch = \\\n",
    "            replay_buffer.sample(batch_size)\n",
    "        \n",
    "        # Convert batch objs to th.FloatTensor objects\n",
    "        ### Note: We only use the current states and time index batches below\n",
    "        s_batch_ = th.FloatTensor(s_batch).to(actor.device)\n",
    "        \n",
    "        # Set gradients to 0 for policy optimizer\n",
    "        policy_optimizer.zero_grad()\n",
    "        \n",
    "        # Compute actor loss\n",
    "        policy_loss = -critic(actor(s_batch_), t_batch).mean()\n",
    "        #policy_loss = -th.pow(100.0*critic(actor(s_batch_), t_batch).mean(),2)\n",
    "        \n",
    "        # Gradient step\n",
    "        policy_loss.backward()\n",
    "        policy_optimizer.step()\n",
    "        \n",
    "        # Return policy loss\n",
    "        return policy_loss.cpu().detach().numpy()\n",
    "        \n",
    "    \n",
    "    def train_model(train_env: PortfolioOptEnv, \n",
    "                    model_dict: dict,\n",
    "                    n_train_rounds: int = 8,\n",
    "                    batch_size: int = 32,\n",
    "                    show_env_plots: bool = True,\n",
    "                   ):\n",
    "        \n",
    "        # Unpack the model_dict\n",
    "        ## NOTE: these become attributes in the agent class.\n",
    "        actor = model_dict[\"actor\"]\n",
    "        policy_optimizer = model_dict[\"policy_optimizer\"]\n",
    "        critic = model_dict[\"critic\"]\n",
    "        replay_buffer = model_dict[\"ReplayBuffer\"]\n",
    "        reward_type = model_dict[\"reward_type\"]\n",
    "        \n",
    "        # Disable env plots during training\n",
    "        if not show_env_plots:\n",
    "            train_env_plot_prds_end_episode = train_env.plot_prds_end_episode\n",
    "            train_env.plot_prds_end_episode = 0\n",
    "        \n",
    "        # Init. average reward hist\n",
    "        average_reward_hist = []\n",
    "        average_policy_loss_hist = []\n",
    "        \n",
    "        # Training loop\n",
    "        for episode in range(n_train_rounds):\n",
    "            \n",
    "            # Reset train_env\n",
    "            s = train_env.reset()\n",
    "            done = False\n",
    "            \n",
    "            # Reward averaging variables\n",
    "            episode_reward_list = []\n",
    "            episode_policy_loss_list = []\n",
    "            episode_avg_reward = 0.0\n",
    "            \n",
    "            # DEBUG\n",
    "            action_is_nan = False\n",
    "            \n",
    "            # Episode loop\n",
    "            while not done and not action_is_nan:\n",
    "                \n",
    "                # Compute action from current state\n",
    "                ## NOTE - CLASS VERSION: Only input is the state\n",
    "                action = get_action(actor, s)\n",
    "                action_is_nan = np.isnan(action).all()\n",
    "                # DEBUG\n",
    "                #print(f\"action = {action}\")\n",
    "                if action_is_nan:\n",
    "                    print(f\"ACTION IS NAN\")\n",
    "                    print(f\"TIME INDEX: train_env.t_idx = {train_env.t_idx}\")\n",
    "                    print(f\"LAST STATE: s = {s}\")\n",
    "                    break\n",
    "\n",
    "                # Step in train_env\n",
    "                s_next, reward, done, info = train_env.step(action)\n",
    "                \n",
    "                ## Add current reward to hist\n",
    "                episode_reward_list.append(reward)\n",
    "                \n",
    "                # Store transition in replay_buffer\n",
    "                ## (Reshape the states in the buffer for convenience)\n",
    "                replay_buffer.add(s.flatten(), action, reward, s_next.flatten(), train_env.t_idx)\n",
    "                \n",
    "                # Run DDPG per step\n",
    "                ## The policy loss below in a numpy array\n",
    "                policy_loss = model_learn(actor,\n",
    "                                          critic,\n",
    "                                          replay_buffer,\n",
    "                                          policy_optimizer,\n",
    "                                          batch_size)\n",
    "                \n",
    "                # Add current policy loss to list\n",
    "                if replay_buffer.count() >= batch_size:\n",
    "                    episode_policy_loss_list.append(policy_loss)\n",
    "                \n",
    "                # Update current state\n",
    "                s = s_next\n",
    "                \n",
    "            # END EPISODE LOOP\n",
    "            \n",
    "            # DEBUG\n",
    "            if action_is_nan:\n",
    "                break\n",
    "            \n",
    "            # Store last episode's average reward\n",
    "            ## Compute mean reward\n",
    "            if train_env.reward_type == \"portfolio_delta_val\":\n",
    "                episode_avg_reward = np.mean(episode_reward_list)\n",
    "            elif train_env.reward_type == \"portfolio_return\":\n",
    "                episode_log_returns = np.log(np.ones(shape = (len(episode_reward_list),))\\\n",
    "                                            +np.array(episode_reward_list)\n",
    "                                            )\n",
    "                episode_avg_reward = -1+np.exp(episode_log_returns.mean())\n",
    "            ## Store\n",
    "            average_reward_hist.append(episode_avg_reward)\n",
    "            \n",
    "            # Store last episode's average policy loss\n",
    "            if replay_buffer.count() >= batch_size:\n",
    "                episode_avg_policy_loss = np.mean(episode_policy_loss_list)\n",
    "                average_policy_loss_hist.append(episode_avg_policy_loss)\n",
    "            \n",
    "            \n",
    "            '''\n",
    "            if episode % 1 == 0:\n",
    "\n",
    "                print(\"################################# Start evaluation: \")\n",
    "                eps_reward = evaluate_policy(actor,test_env_ret,reward_type = reward_type)\n",
    "                average_reward_list.append(eps_reward)\n",
    "                average_reward_list_train.append(episode_reward)\n",
    "                print(\"################################# End evaluation: \")\n",
    "                print()\n",
    "            '''\n",
    "        \n",
    "            if (episode+1) % 4 == 0:\n",
    "                print(f\"######################################################\")\n",
    "                print(f\"              TRAINING EPISODE: {episode+1}\")\n",
    "                print(f\"######################################################\")\n",
    "                if train_env.reward_type == \"portfolio_delta_val\":\n",
    "                    average = np.mean(average_reward_hist)\n",
    "                    print(f\"Average reward = {average} (portfolio delta val.)\")\n",
    "                elif train_env.reward_type == \"portfolio_return\":\n",
    "                    log_returns = np.log(np.ones(shape = (len(average_reward_hist),))\\\n",
    "                                        +np.array(average_reward_hist)\n",
    "                                        )\n",
    "                    average = -1 + np.exp(log_returns.mean())\n",
    "                    print(f\"Average reward = {average} (portfolio return)\")\n",
    "                \n",
    "                # before: policy loss isn't computed before buffer is filled\n",
    "                if replay_buffer.count() >= batch_size:\n",
    "                    avg_policy_loss = np.mean(average_policy_loss_hist)\n",
    "                    print(f\"Average policy loss = {avg_policy_loss}\")\n",
    "                \n",
    "                print(f\"######################################################\")\n",
    "            \n",
    "    \n",
    "        # END TRAINING LOOP\n",
    "        \n",
    "        # Plot policy loss and mean reward histories?\n",
    "        \n",
    "        # Done training\n",
    "        \n",
    "        # End of episode n_plots of environment\n",
    "        if not show_env_plots:\n",
    "            train_env.plot_prds_end_episode = train_env_plot_prds_end_episode\n",
    "        \n",
    "        # Fill output dict\n",
    "        model_dict = {}\n",
    "        model_dict[\"actor\"] = actor\n",
    "        model_dict[\"policy_optimizer\"] = policy_optimizer\n",
    "        model_dict[\"critic\"] = critic\n",
    "        model_dict[\"ReplayBuffer\"] = replay_buffer\n",
    "        model_dict[\"reward_type\"] = reward_type\n",
    "        \n",
    "        return model_dict, average_reward_hist, average_policy_loss_hist\n"
   ]
  },
  {
   "cell_type": "code",
   "execution_count": null,
   "id": "f8372065-be1e-4c25-90cf-7b832c01cef3",
   "metadata": {
    "id": "f8372065-be1e-4c25-90cf-7b832c01cef3"
   },
   "outputs": [],
   "source": []
  },
  {
   "cell_type": "markdown",
   "id": "7e46f083-7708-414d-9313-1af01d88d1a6",
   "metadata": {
    "id": "75aa5008-2a02-4a67-9ebb-2c65f0dfc11f"
   },
   "source": [
    "#### Training test"
   ]
  },
  {
   "cell_type": "code",
   "execution_count": 17,
   "id": "ef052af7-bd34-4d97-94b5-f25c48db225b",
   "metadata": {},
   "outputs": [],
   "source": [
    "del model_dict"
   ]
  },
  {
   "cell_type": "code",
   "execution_count": 18,
   "id": "36a03388-39e5-4cff-a1f1-b89334b244a1",
   "metadata": {
    "id": "36a03388-39e5-4cff-a1f1-b89334b244a1"
   },
   "outputs": [],
   "source": [
    "# Model parameters\n",
    "actor_net_in_dim = env_train.obs_space_shape[0]*env_train.obs_space_shape[1]\n",
    "n_hidden_1 = 250#actor_net_in_dim*4\n",
    "n_hidden_2 = 50#actor_net_in_dim*2\n",
    "actor_net_out_dim = env_train.n_assets\n",
    "weight_normalization = 'softmax'\n",
    "activation_fn = 'identity'\n",
    "activation_scale = 1.0\n",
    "buffer_size = 512\n",
    "learn_rate = 0.001\n",
    "\n",
    "# Create model\n",
    "model_dict = set_model(train_env = env_train,\n",
    "                       actor_n_hidden_1 = n_hidden_1,\n",
    "                       actor_n_hidden_2 = n_hidden_1,\n",
    "                       weight_normalization = weight_normalization,\n",
    "                       activation_fn = activation_fn,\n",
    "                       activation_scale = activation_scale,\n",
    "                       buffer_size = buffer_size,\n",
    "                       learn_rate = learn_rate)"
   ]
  },
  {
   "cell_type": "code",
   "execution_count": 49,
   "id": "5ef4ec30-79e3-4c09-816c-ccde7aeb2ad8",
   "metadata": {},
   "outputs": [],
   "source": [
    "s = env_train.reset()"
   ]
  },
  {
   "cell_type": "code",
   "execution_count": 50,
   "id": "e9a91c9b-9e20-409c-8602-d0cdbbf3fc1a",
   "metadata": {},
   "outputs": [
    {
     "data": {
      "text/plain": [
       "811"
      ]
     },
     "execution_count": 50,
     "metadata": {},
     "output_type": "execute_result"
    }
   ],
   "source": [
    "env_train.N_periods"
   ]
  },
  {
   "cell_type": "code",
   "execution_count": 51,
   "id": "d24e79c3-1306-44a9-ba5e-712d6c5ddcec",
   "metadata": {},
   "outputs": [
    {
     "name": "stdout",
     "output_type": "stream",
     "text": [
      "a = [[0.20061699 0.19962493 0.20106383 0.19965638 0.19903784]]\n"
     ]
    }
   ],
   "source": [
    "a = get_action(model_dict[\"actor\"], s)\n",
    "print(f\"a = {a}\")"
   ]
  },
  {
   "cell_type": "code",
   "execution_count": 19,
   "id": "d758e6ba-1788-4774-a330-ee8f294b96c4",
   "metadata": {
    "collapsed": true,
    "id": "d758e6ba-1788-4774-a330-ee8f294b96c4",
    "jupyter": {
     "outputs_hidden": true
    },
    "tags": []
   },
   "outputs": [
    {
     "name": "stdout",
     "output_type": "stream",
     "text": [
      "=================================\n",
      "Initial portfolio value: 100000.0\n",
      "End portfolio value: [98200.25367765]\n",
      "Yearly Sharpe ratio at last period: -0.0361796297030336\n",
      "=================================\n",
      "=================================\n",
      "Initial portfolio value: 100000.0\n",
      "End portfolio value: [116368.78501594]\n",
      "Yearly Sharpe ratio at last period: 0.6738163375078265\n",
      "=================================\n",
      "=================================\n",
      "Initial portfolio value: 100000.0\n",
      "End portfolio value: [119385.00221998]\n",
      "Yearly Sharpe ratio at last period: 0.790821586224206\n",
      "=================================\n",
      "=================================\n",
      "Initial portfolio value: 100000.0\n",
      "End portfolio value: [104533.5884197]\n",
      "Yearly Sharpe ratio at last period: 0.24210910876498162\n",
      "=================================\n",
      "######################################################\n",
      "              TRAINING EPISODE: 4\n",
      "######################################################\n",
      "Average reward = 0.00010942473108932482 (portfolio return)\n",
      "Average policy loss = -0.00034706457518041134\n",
      "######################################################\n",
      "=================================\n",
      "Initial portfolio value: 100000.0\n",
      "End portfolio value: [110898.27776886]\n",
      "Yearly Sharpe ratio at last period: 0.5233156062234896\n",
      "=================================\n",
      "=================================\n",
      "Initial portfolio value: 100000.0\n",
      "End portfolio value: [113969.1354092]\n",
      "Yearly Sharpe ratio at last period: 0.6116040672411936\n",
      "=================================\n",
      "=================================\n",
      "Initial portfolio value: 100000.0\n",
      "End portfolio value: [126601.05385717]\n",
      "Yearly Sharpe ratio at last period: 1.1559039380289815\n",
      "=================================\n",
      "=================================\n",
      "Initial portfolio value: 100000.0\n",
      "End portfolio value: [122744.79738144]\n",
      "Yearly Sharpe ratio at last period: 1.0013632338403458\n",
      "=================================\n",
      "######################################################\n",
      "              TRAINING EPISODE: 8\n",
      "######################################################\n",
      "Average reward = 0.00015876150909255315 (portfolio return)\n",
      "Average policy loss = -0.00045283883810043335\n",
      "######################################################\n",
      "=================================\n",
      "Initial portfolio value: 100000.0\n",
      "End portfolio value: [103554.06587823]\n",
      "Yearly Sharpe ratio at last period: 0.17208943561270662\n",
      "=================================\n",
      "=================================\n",
      "Initial portfolio value: 100000.0\n",
      "End portfolio value: [99545.98669428]\n",
      "Yearly Sharpe ratio at last period: 0.03522462547287873\n",
      "=================================\n",
      "=================================\n",
      "Initial portfolio value: 100000.0\n",
      "End portfolio value: [101296.36810203]\n",
      "Yearly Sharpe ratio at last period: 0.0895751365527055\n",
      "=================================\n",
      "=================================\n",
      "Initial portfolio value: 100000.0\n",
      "End portfolio value: [103470.03885007]\n",
      "Yearly Sharpe ratio at last period: 0.16145518366830555\n",
      "=================================\n",
      "######################################################\n",
      "              TRAINING EPISODE: 12\n",
      "######################################################\n",
      "Average reward = 0.00011378867503841761 (portfolio return)\n",
      "Average policy loss = -0.0004264822055120021\n",
      "######################################################\n",
      "=================================\n",
      "Initial portfolio value: 100000.0\n",
      "End portfolio value: [104267.68636492]\n",
      "Yearly Sharpe ratio at last period: 0.19026000536963644\n",
      "=================================\n",
      "=================================\n",
      "Initial portfolio value: 100000.0\n",
      "End portfolio value: [101052.58475862]\n",
      "Yearly Sharpe ratio at last period: 0.08108192666988687\n",
      "=================================\n",
      "=================================\n",
      "Initial portfolio value: 100000.0\n",
      "End portfolio value: [100262.51449568]\n",
      "Yearly Sharpe ratio at last period: 0.05337379789240902\n",
      "=================================\n",
      "=================================\n",
      "Initial portfolio value: 100000.0\n",
      "End portfolio value: [109328.62351343]\n",
      "Yearly Sharpe ratio at last period: 0.40242900954682587\n",
      "=================================\n",
      "######################################################\n",
      "              TRAINING EPISODE: 16\n",
      "######################################################\n",
      "Average reward = 9.644425407318025e-05 (portfolio return)\n",
      "Average policy loss = -0.00044675113167613745\n",
      "######################################################\n",
      "=================================\n",
      "Initial portfolio value: 100000.0\n",
      "End portfolio value: [103014.84361764]\n",
      "Yearly Sharpe ratio at last period: 0.15996822138934869\n",
      "=================================\n",
      "=================================\n",
      "Initial portfolio value: 100000.0\n",
      "End portfolio value: [110917.74771265]\n",
      "Yearly Sharpe ratio at last period: 0.5281408458318748\n",
      "=================================\n",
      "=================================\n",
      "Initial portfolio value: 100000.0\n",
      "End portfolio value: [112311.35714143]\n",
      "Yearly Sharpe ratio at last period: 0.5910592424469098\n",
      "=================================\n",
      "=================================\n",
      "Initial portfolio value: 100000.0\n",
      "End portfolio value: [127594.45817051]\n",
      "Yearly Sharpe ratio at last period: 1.1038298890691614\n",
      "=================================\n",
      "######################################################\n",
      "              TRAINING EPISODE: 20\n",
      "######################################################\n",
      "Average reward = 0.00010755901992887118 (portfolio return)\n",
      "Average policy loss = -0.00045461271656677127\n",
      "######################################################\n",
      "=================================\n",
      "Initial portfolio value: 100000.0\n",
      "End portfolio value: [122218.93042434]\n",
      "Yearly Sharpe ratio at last period: 0.7814038721351279\n",
      "=================================\n",
      "=================================\n",
      "Initial portfolio value: 100000.0\n",
      "End portfolio value: [126158.28273049]\n",
      "Yearly Sharpe ratio at last period: 0.9074379406389119\n",
      "=================================\n",
      "=================================\n",
      "Initial portfolio value: 100000.0\n",
      "End portfolio value: [107770.67471581]\n",
      "Yearly Sharpe ratio at last period: 0.312772680701804\n",
      "=================================\n",
      "=================================\n",
      "Initial portfolio value: 100000.0\n",
      "End portfolio value: [106354.34342548]\n",
      "Yearly Sharpe ratio at last period: 0.2753880081955779\n",
      "=================================\n",
      "######################################################\n",
      "              TRAINING EPISODE: 24\n",
      "######################################################\n",
      "Average reward = 0.00011889146847821053 (portfolio return)\n",
      "Average policy loss = -0.00048546656034886837\n",
      "######################################################\n",
      "=================================\n",
      "Initial portfolio value: 100000.0\n",
      "End portfolio value: [120077.03475975]\n",
      "Yearly Sharpe ratio at last period: 0.737589073820748\n",
      "=================================\n",
      "=================================\n",
      "Initial portfolio value: 100000.0\n",
      "End portfolio value: [119379.54179054]\n",
      "Yearly Sharpe ratio at last period: 0.7628253818857977\n",
      "=================================\n",
      "=================================\n",
      "Initial portfolio value: 100000.0\n",
      "End portfolio value: [111513.06343783]\n",
      "Yearly Sharpe ratio at last period: 0.4544218437889916\n",
      "=================================\n",
      "=================================\n",
      "Initial portfolio value: 100000.0\n",
      "End portfolio value: [113116.89092612]\n",
      "Yearly Sharpe ratio at last period: 0.5099505604535236\n",
      "=================================\n",
      "######################################################\n",
      "              TRAINING EPISODE: 28\n",
      "######################################################\n",
      "Average reward = 0.00012799348399394894 (portfolio return)\n",
      "Average policy loss = -0.00048756873002275825\n",
      "######################################################\n",
      "=================================\n",
      "Initial portfolio value: 100000.0\n",
      "End portfolio value: [112942.18652435]\n",
      "Yearly Sharpe ratio at last period: 0.504086393597707\n",
      "=================================\n",
      "=================================\n",
      "Initial portfolio value: 100000.0\n",
      "End portfolio value: [113230.76149352]\n",
      "Yearly Sharpe ratio at last period: 0.4980545473254663\n",
      "=================================\n",
      "=================================\n",
      "Initial portfolio value: 100000.0\n",
      "End portfolio value: [114767.53386071]\n",
      "Yearly Sharpe ratio at last period: 0.5509990169197398\n",
      "=================================\n",
      "=================================\n",
      "Initial portfolio value: 100000.0\n",
      "End portfolio value: [105900.24686557]\n",
      "Yearly Sharpe ratio at last period: 0.24761721347029378\n",
      "=================================\n",
      "######################################################\n",
      "              TRAINING EPISODE: 32\n",
      "######################################################\n",
      "Average reward = 0.00012898949369843926 (portfolio return)\n",
      "Average policy loss = -0.0004931308212690055\n",
      "######################################################\n",
      "=================================\n",
      "Initial portfolio value: 100000.0\n",
      "End portfolio value: [99264.47134125]\n",
      "Yearly Sharpe ratio at last period: 0.018840206823188124\n",
      "=================================\n",
      "=================================\n",
      "Initial portfolio value: 100000.0\n",
      "End portfolio value: [106691.45212831]\n",
      "Yearly Sharpe ratio at last period: 0.2621927127871709\n",
      "=================================\n",
      "=================================\n",
      "Initial portfolio value: 100000.0\n",
      "End portfolio value: [113482.7177604]\n",
      "Yearly Sharpe ratio at last period: 0.4731893950477558\n",
      "=================================\n",
      "=================================\n",
      "Initial portfolio value: 100000.0\n",
      "End portfolio value: [117306.32010961]\n",
      "Yearly Sharpe ratio at last period: 0.6209767808027129\n",
      "=================================\n",
      "######################################################\n",
      "              TRAINING EPISODE: 36\n",
      "######################################################\n",
      "Average reward = 0.00012642279646146726 (portfolio return)\n",
      "Average policy loss = -0.0004944506799802184\n",
      "######################################################\n",
      "=================================\n",
      "Initial portfolio value: 100000.0\n",
      "End portfolio value: [111776.35232536]\n",
      "Yearly Sharpe ratio at last period: 0.44483879143923644\n",
      "=================================\n",
      "=================================\n",
      "Initial portfolio value: 100000.0\n",
      "End portfolio value: [112709.91029357]\n",
      "Yearly Sharpe ratio at last period: 0.4747248223221267\n",
      "=================================\n",
      "=================================\n",
      "Initial portfolio value: 100000.0\n",
      "End portfolio value: [112318.45683263]\n",
      "Yearly Sharpe ratio at last period: 0.4623564550478803\n",
      "=================================\n",
      "=================================\n",
      "Initial portfolio value: 100000.0\n",
      "End portfolio value: [112631.50803705]\n",
      "Yearly Sharpe ratio at last period: 0.472345511459411\n",
      "=================================\n",
      "######################################################\n",
      "              TRAINING EPISODE: 40\n",
      "######################################################\n",
      "Average reward = 0.0001281494866112176 (portfolio return)\n",
      "Average policy loss = -0.0005154182435944676\n",
      "######################################################\n",
      "=================================\n",
      "Initial portfolio value: 100000.0\n",
      "End portfolio value: [94555.78107245]\n",
      "Yearly Sharpe ratio at last period: -0.1569559557375519\n",
      "=================================\n",
      "=================================\n",
      "Initial portfolio value: 100000.0\n",
      "End portfolio value: [98574.32813228]\n",
      "Yearly Sharpe ratio at last period: -0.0009205798673836066\n",
      "=================================\n",
      "=================================\n",
      "Initial portfolio value: 100000.0\n",
      "End portfolio value: [106859.80691097]\n",
      "Yearly Sharpe ratio at last period: 0.2688684574036564\n",
      "=================================\n",
      "=================================\n",
      "Initial portfolio value: 100000.0\n",
      "End portfolio value: [99754.60566444]\n",
      "Yearly Sharpe ratio at last period: 0.036274670267661596\n",
      "=================================\n",
      "######################################################\n",
      "              TRAINING EPISODE: 44\n",
      "######################################################\n",
      "Average reward = 0.00011631810960888167 (portfolio return)\n",
      "Average policy loss = -0.0005225591012276709\n",
      "######################################################\n",
      "=================================\n",
      "Initial portfolio value: 100000.0\n",
      "End portfolio value: [105347.19751774]\n",
      "Yearly Sharpe ratio at last period: 0.22643959226537694\n",
      "=================================\n",
      "=================================\n",
      "Initial portfolio value: 100000.0\n",
      "End portfolio value: [95973.26339049]\n",
      "Yearly Sharpe ratio at last period: -0.09821465558432163\n",
      "=================================\n",
      "=================================\n",
      "Initial portfolio value: 100000.0\n",
      "End portfolio value: [106884.66688612]\n",
      "Yearly Sharpe ratio at last period: 0.29746099162204576\n",
      "=================================\n",
      "=================================\n",
      "Initial portfolio value: 100000.0\n",
      "End portfolio value: [99513.82406484]\n",
      "Yearly Sharpe ratio at last period: 0.025408904073559037\n",
      "=================================\n",
      "######################################################\n",
      "              TRAINING EPISODE: 48\n",
      "######################################################\n",
      "Average reward = 0.00010849210107521934 (portfolio return)\n",
      "Average policy loss = -0.0005212962278164923\n",
      "######################################################\n"
     ]
    }
   ],
   "source": [
    "# Learning params\n",
    "n_train_rounds = 48\n",
    "batch_size = 128\n",
    "\n",
    "# Train the model\n",
    "model_dict, average_reward_hist, average_policy_loss_hist\\\n",
    "    = train_model(train_env = env_train,\n",
    "                  model_dict = model_dict,\n",
    "                  n_train_rounds = n_train_rounds,\n",
    "                  batch_size = batch_size,\n",
    "                  show_env_plots=False\n",
    "                 )"
   ]
  },
  {
   "cell_type": "markdown",
   "id": "7ce40a77-d663-4894-9d32-1db09dcdf54f",
   "metadata": {},
   "source": []
  },
  {
   "cell_type": "code",
   "execution_count": null,
   "id": "10c48a4d-d553-4ed4-8c43-f3c77eef36bc",
   "metadata": {},
   "outputs": [],
   "source": []
  },
  {
   "cell_type": "markdown",
   "id": "1d2332b0-4c09-4bfa-9338-02926ffb6cc8",
   "metadata": {
    "id": "2c5dcab1-577a-4598-9eda-1a7ccb558a8b"
   },
   "source": [
    "## B - Per-step DDPG - Class Implementation\n",
    "\n",
    "Same as above, but this time testing the DDPGPS_agent.py module."
   ]
  },
  {
   "cell_type": "code",
   "execution_count": 1,
   "id": "92903aa9-1fdd-43ce-a6b3-88e67dcf6157",
   "metadata": {
    "id": "00d5ae53-6407-42f8-9c38-9b20e6277624"
   },
   "outputs": [
    {
     "name": "stderr",
     "output_type": "stream",
     "text": [
      "/usr/local/lib/python3.9/dist-packages/pyfolio/pos.py:26: UserWarning: Module \"zipline.assets\" not found; mutltipliers will not be applied to position notionals.\n",
      "  warnings.warn(\n"
     ]
    }
   ],
   "source": [
    "# GLOBAL IMPORTS\n",
    "import pandas as pd\n",
    "import numpy as np\n",
    "import matplotlib.pyplot as plt\n",
    "%matplotlib inline\n",
    "from datetime import datetime, timedelta, date\n",
    "import gym\n",
    "# deque and random\n",
    "from collections import deque\n",
    "import random\n",
    "#import sys\n",
    "import torch as th\n",
    "from torch import nn\n",
    "from torch import optim\n",
    "from drl_pfopt import (PortfolioOptEnv, FeatureEngineer, data_split, AlpacaDownloader, YahooDownloader)\n",
    "from dual_timeframe_XP import (PFOptDualTFEnv, FeatureEngDualTF, data_dict_split)\n",
    "# Import class\n",
    "from DDPGPS import DDPGPS_Agent"
   ]
  },
  {
   "cell_type": "markdown",
   "id": "a97b64e6-0e90-43c4-8783-79fdf9aad038",
   "metadata": {
    "id": "e2f38c49-7ed3-4b8d-9b33-536dc250296a"
   },
   "source": [
    "### (1) Data loading, processing and splitting\n",
    "\n",
    "The usual..."
   ]
  },
  {
   "cell_type": "code",
   "execution_count": 2,
   "id": "b70fa6c1-90ff-4414-9b54-f56948934aee",
   "metadata": {
    "id": "93b4aed5-ada7-4a44-980a-fe5d46e094b2"
   },
   "outputs": [],
   "source": [
    "# Load DJIA file \n",
    "df_Alpaca_15min = pd.read_csv(filepath_or_buffer=\"datasets/Alpaca_DJIA_15min_2208-2211.csv\",\n",
    "                           usecols = ['date', 'open', 'high', 'low', 'close', 'volume', 'tic'])\n",
    "TICKER_LIST = ['AXP', 'BA', 'CVX', 'JNJ', 'KO']\n",
    "\n",
    "\n",
    "# Reduce to 10 stocks\n",
    "df_file = df_Alpaca_15min[df_Alpaca_15min.tic.isin(TICKER_LIST)].copy()\n",
    "del df_Alpaca_15min"
   ]
  },
  {
   "cell_type": "code",
   "execution_count": 3,
   "id": "4e3068b1-83b9-447a-b25a-4dc15debf10c",
   "metadata": {
    "colab": {
     "base_uri": "https://localhost:8080/"
    },
    "id": "f3c93dae-1ca7-4f42-b21e-647ee6fb144d",
    "outputId": "37ed3121-b855-4440-9c04-881515764ea7"
   },
   "outputs": [
    {
     "name": "stdout",
     "output_type": "stream",
     "text": [
      "Chosen data source is Alapaca API. Use set_Alpaca_parameters()\n",
      "to provide the following parameters:\n",
      "api_key (str), api_secret (str).\n",
      "Successfully computed asset returns and their covariances\n",
      "Successfully added technical indicators\n",
      "Successfully added turbulence index\n"
     ]
    }
   ],
   "source": [
    "# Feature Engineer params\n",
    "trade_timeframe = \"Hour\"\n",
    "trade_ext_hours = True\n",
    "N_lookback_trade_prds = 15\n",
    "tech_ind_list = [\"turbulence\"]\n",
    "use_return_covs = True\n",
    "\n",
    "# Instantiate feature eng. object\n",
    "processor = FeatureEngDualTF(tech_indicator_list = tech_ind_list,\n",
    "                             use_return_covs = use_return_covs,\n",
    "                             data_source = \"Alpaca\")\n",
    "\n",
    "\n",
    "# Preprocess data\n",
    "data_dict = processor.preprocess_data(df_X = df_file,\n",
    "                                      trade_timeframe = trade_timeframe,\n",
    "                                      trade_ext_hours = trade_ext_hours,\n",
    "                                      N_lookback_trade_prds = N_lookback_trade_prds,)"
   ]
  },
  {
   "cell_type": "code",
   "execution_count": 4,
   "id": "0defe21c-d1cd-468c-ab0c-528fa3df8d56",
   "metadata": {
    "id": "5ee04bd3-b50b-45a5-b13a-db4eaf2c331b"
   },
   "outputs": [],
   "source": [
    "# Data split\n",
    "split_date = \"2022-10-18\"\n",
    "data_dict_train, data_dict_test = data_dict_split(data_dict, split_date)"
   ]
  },
  {
   "cell_type": "markdown",
   "id": "424ec50f-1005-4661-9a1c-983775de7ded",
   "metadata": {
    "id": "9aa670c8-4a22-4f33-b996-d730f2b91796"
   },
   "source": [
    "Now we create the environments corresponding to these datasets:"
   ]
  },
  {
   "cell_type": "code",
   "execution_count": 5,
   "id": "e63e5911-ff6f-4ec4-b276-5ffa77b363d6",
   "metadata": {
    "id": "79af6b7f-248e-4aad-b6df-7c44bf9e3621"
   },
   "outputs": [
    {
     "name": "stdout",
     "output_type": "stream",
     "text": [
      "obs_space_shape = (65, 5)\n"
     ]
    }
   ],
   "source": [
    "# Env parameters\n",
    "#state_struct_list = [\"volume\", \"close_returns\", \"returns_cov\", \"weights\"]\n",
    "state_struct_list = [\"close_returns\", \"weights\"]\n",
    "weight_normalization = \"identity\"#\"softmax\"#\"relu\"\n",
    "transaction_cost_pct = 0.0\n",
    "reward_type = \"portfolio_return\"\n",
    "pf_value_ini = 100000.0\n",
    "plot_prds_end_episode=40\n",
    "\n",
    "# Training environment\n",
    "env_train = PFOptDualTFEnv(data_dict = data_dict_train,\n",
    "                     pf_value_ini = pf_value_ini,\n",
    "                     reward_type = reward_type,\n",
    "                     state_struct_list = state_struct_list,\n",
    "                     tech_ind_list = tech_ind_list,\n",
    "                     transaction_cost_pct = transaction_cost_pct,\n",
    "                     weight_normalization = weight_normalization,\n",
    "                     plot_prds_end_episode=plot_prds_end_episode,)\n",
    "\n",
    "# Testing environment\n",
    "env_test = PFOptDualTFEnv(data_dict = data_dict_test,\n",
    "                     pf_value_ini = pf_value_ini,\n",
    "                     reward_type = reward_type,\n",
    "                     state_struct_list = state_struct_list,\n",
    "                     tech_ind_list = tech_ind_list,\n",
    "                     transaction_cost_pct = transaction_cost_pct,\n",
    "                     weight_normalization = weight_normalization,\n",
    "                     plot_prds_end_episode=plot_prds_end_episode,)\n",
    "\n",
    "print(f\"obs_space_shape = {env_train.obs_space_shape}\")"
   ]
  },
  {
   "cell_type": "markdown",
   "id": "f1e6b74b-098f-44c4-b316-faf839e34953",
   "metadata": {
    "id": "e2f38c49-7ed3-4b8d-9b33-536dc250296a"
   },
   "source": [
    "### (2) **DDPGPS_Agent Tests**\n"
   ]
  },
  {
   "cell_type": "markdown",
   "id": "5a425b5b-7bf0-4ed9-b22d-203abe9ab92e",
   "metadata": {
    "id": "75aa5008-2a02-4a67-9ebb-2c65f0dfc11f"
   },
   "source": [
    "#### 2.a - Class Training test"
   ]
  },
  {
   "cell_type": "code",
   "execution_count": 10,
   "id": "41a7aeb0-dd60-4611-b680-1633faefd30a",
   "metadata": {},
   "outputs": [],
   "source": [
    "del Agent"
   ]
  },
  {
   "cell_type": "code",
   "execution_count": 11,
   "id": "188b31f8-8e7b-465e-b4a3-81ac984cff1e",
   "metadata": {},
   "outputs": [],
   "source": [
    "# Instantiate agent\n",
    "Agent = DDPGPS_Agent(train_env = env_train,\n",
    "                    model_fname = \"DDPGPS_Test_0\")"
   ]
  },
  {
   "cell_type": "code",
   "execution_count": 12,
   "id": "e90c315c-c62e-481c-89dc-3e07f0277b5f",
   "metadata": {},
   "outputs": [
    {
     "name": "stdout",
     "output_type": "stream",
     "text": [
      "Per-step DDPG agent with given parameters has been successfully created.\n"
     ]
    },
    {
     "data": {
      "text/plain": [
       "True"
      ]
     },
     "execution_count": 12,
     "metadata": {},
     "output_type": "execute_result"
    }
   ],
   "source": [
    "# Model parameters\n",
    "actor_net_in_dim = env_train.obs_space_shape[0]*env_train.obs_space_shape[1]\n",
    "n_hidden_1 = 250#actor_net_in_dim*4\n",
    "n_hidden_2 = 50#actor_net_in_dim*2\n",
    "actor_net_out_dim = env_train.n_assets\n",
    "weight_normalization = 'softmax'\n",
    "activation_fn = 'identity'\n",
    "activation_scale = 1.0\n",
    "buffer_size = 512\n",
    "learn_rate = 0.001\n",
    "\n",
    "# Create model\n",
    "Agent.set_model(actor_n_hidden_1 = n_hidden_1,\n",
    "                actor_n_hidden_2 = n_hidden_2,\n",
    "                weight_normalization = weight_normalization,\n",
    "                activation_fn = activation_fn,\n",
    "                activation_scale = activation_scale,\n",
    "                buffer_size = buffer_size,\n",
    "                learn_rate = learn_rate,)"
   ]
  },
  {
   "cell_type": "code",
   "execution_count": 13,
   "id": "cbaba405-e4b9-4f3a-b423-fa9fe685cd0e",
   "metadata": {},
   "outputs": [
    {
     "name": "stdout",
     "output_type": "stream",
     "text": [
      "=================================\n",
      "Initial portfolio value: 100000.0\n",
      "End portfolio value: [107090.47760411]\n",
      "Yearly Sharpe ratio at last period: 0.3151942618927652\n",
      "=================================\n",
      "=================================\n",
      "Initial portfolio value: 100000.0\n",
      "End portfolio value: [114546.16374343]\n",
      "Yearly Sharpe ratio at last period: 0.6140450443329347\n",
      "=================================\n",
      "=================================\n",
      "Initial portfolio value: 100000.0\n",
      "End portfolio value: [120582.14582082]\n",
      "Yearly Sharpe ratio at last period: 0.864934656912324\n",
      "=================================\n",
      "=================================\n",
      "Initial portfolio value: 100000.0\n",
      "End portfolio value: [123335.50506183]\n",
      "Yearly Sharpe ratio at last period: 0.9245766306723304\n",
      "=================================\n",
      "######################################################\n",
      "              TRAINING EPISODE: 4\n",
      "######################################################\n",
      "Average reward = 0.00018534725821428566 (portfolio return)\n",
      "Average policy loss = -0.0006617710459977388\n",
      "######################################################\n",
      "=================================\n",
      "Initial portfolio value: 100000.0\n",
      "End portfolio value: [102683.03482506]\n",
      "Yearly Sharpe ratio at last period: 0.1416783596743188\n",
      "=================================\n",
      "=================================\n",
      "Initial portfolio value: 100000.0\n",
      "End portfolio value: [109265.28238438]\n",
      "Yearly Sharpe ratio at last period: 0.39310603220408197\n",
      "=================================\n",
      "=================================\n",
      "Initial portfolio value: 100000.0\n",
      "End portfolio value: [126604.32295765]\n",
      "Yearly Sharpe ratio at last period: 1.0408803390121764\n",
      "=================================\n",
      "=================================\n",
      "Initial portfolio value: 100000.0\n",
      "End portfolio value: [132573.78057454]\n",
      "Yearly Sharpe ratio at last period: 1.2542722005966749\n",
      "=================================\n",
      "######################################################\n",
      "              TRAINING EPISODE: 8\n",
      "######################################################\n",
      "Average reward = 0.00019024029563263767 (portfolio return)\n",
      "Average policy loss = -0.0008668493828736246\n",
      "######################################################\n",
      "=================================\n",
      "Initial portfolio value: 100000.0\n",
      "End portfolio value: [131445.79945292]\n",
      "Yearly Sharpe ratio at last period: 1.1477380695225947\n",
      "=================================\n",
      "=================================\n",
      "Initial portfolio value: 100000.0\n",
      "End portfolio value: [134394.87926971]\n",
      "Yearly Sharpe ratio at last period: 1.2408515642858198\n",
      "=================================\n",
      "=================================\n",
      "Initial portfolio value: 100000.0\n",
      "End portfolio value: [139425.31626913]\n",
      "Yearly Sharpe ratio at last period: 1.4066002429182638\n",
      "=================================\n",
      "=================================\n",
      "Initial portfolio value: 100000.0\n",
      "End portfolio value: [139487.13139048]\n",
      "Yearly Sharpe ratio at last period: 1.4483599829065807\n",
      "=================================\n",
      "######################################################\n",
      "              TRAINING EPISODE: 12\n",
      "######################################################\n",
      "Average reward = 0.00025366546662164424 (portfolio return)\n",
      "Average policy loss = -0.0010203374549746513\n",
      "######################################################\n",
      "=================================\n",
      "Initial portfolio value: 100000.0\n",
      "End portfolio value: [124740.67225596]\n",
      "Yearly Sharpe ratio at last period: 0.8630539545228542\n",
      "=================================\n",
      "=================================\n",
      "Initial portfolio value: 100000.0\n",
      "End portfolio value: [130500.92108127]\n",
      "Yearly Sharpe ratio at last period: 1.0667417776883448\n",
      "=================================\n",
      "=================================\n",
      "Initial portfolio value: 100000.0\n",
      "End portfolio value: [114230.39009669]\n",
      "Yearly Sharpe ratio at last period: 0.5782999823606975\n",
      "=================================\n",
      "=================================\n",
      "Initial portfolio value: 100000.0\n",
      "End portfolio value: [123859.23140143]\n",
      "Yearly Sharpe ratio at last period: 1.0006015277453864\n",
      "=================================\n",
      "######################################################\n",
      "              TRAINING EPISODE: 16\n",
      "######################################################\n",
      "Average reward = 0.00025455295658738386 (portfolio return)\n",
      "Average policy loss = -0.00107634998857975\n",
      "######################################################\n",
      "=================================\n",
      "Initial portfolio value: 100000.0\n",
      "End portfolio value: [128403.73241889]\n",
      "Yearly Sharpe ratio at last period: 1.0966721920246727\n",
      "=================================\n",
      "=================================\n",
      "Initial portfolio value: 100000.0\n",
      "End portfolio value: [118757.45181354]\n",
      "Yearly Sharpe ratio at last period: 0.7692781536836922\n",
      "=================================\n",
      "=================================\n",
      "Initial portfolio value: 100000.0\n",
      "End portfolio value: [130927.63370387]\n",
      "Yearly Sharpe ratio at last period: 1.1775394309573022\n",
      "=================================\n",
      "=================================\n",
      "Initial portfolio value: 100000.0\n",
      "End portfolio value: [134143.95950678]\n",
      "Yearly Sharpe ratio at last period: 1.2569577132798646\n",
      "=================================\n",
      "######################################################\n",
      "              TRAINING EPISODE: 20\n",
      "######################################################\n",
      "Average reward = 0.00026438753635815715 (portfolio return)\n",
      "Average policy loss = -0.0011187396012246609\n",
      "######################################################\n",
      "=================================\n",
      "Initial portfolio value: 100000.0\n",
      "End portfolio value: [133870.64715252]\n",
      "Yearly Sharpe ratio at last period: 1.166929152375397\n",
      "=================================\n",
      "=================================\n",
      "Initial portfolio value: 100000.0\n",
      "End portfolio value: [140373.30570666]\n",
      "Yearly Sharpe ratio at last period: 1.4371943939251055\n",
      "=================================\n",
      "=================================\n",
      "Initial portfolio value: 100000.0\n",
      "End portfolio value: [145407.67283191]\n",
      "Yearly Sharpe ratio at last period: 1.636943160037049\n",
      "=================================\n",
      "=================================\n",
      "Initial portfolio value: 100000.0\n",
      "End portfolio value: [141540.60843326]\n",
      "Yearly Sharpe ratio at last period: 1.5246785336370203\n",
      "=================================\n",
      "######################################################\n",
      "              TRAINING EPISODE: 24\n",
      "######################################################\n",
      "Average reward = 0.0002898295825513042 (portfolio return)\n",
      "Average policy loss = -0.0011905125575140119\n",
      "######################################################\n",
      "=================================\n",
      "Initial portfolio value: 100000.0\n",
      "End portfolio value: [146869.91218168]\n",
      "Yearly Sharpe ratio at last period: 1.6185195381045945\n",
      "=================================\n",
      "=================================\n",
      "Initial portfolio value: 100000.0\n",
      "End portfolio value: [134221.82362307]\n",
      "Yearly Sharpe ratio at last period: 1.2632220093964768\n",
      "=================================\n",
      "=================================\n",
      "Initial portfolio value: 100000.0\n",
      "End portfolio value: [144635.25179554]\n",
      "Yearly Sharpe ratio at last period: 1.6023958137765857\n",
      "=================================\n",
      "=================================\n",
      "Initial portfolio value: 100000.0\n",
      "End portfolio value: [153509.37839591]\n",
      "Yearly Sharpe ratio at last period: 1.8099776487715897\n",
      "=================================\n",
      "######################################################\n",
      "              TRAINING EPISODE: 28\n",
      "######################################################\n",
      "Average reward = 0.00031345244143565765 (portfolio return)\n",
      "Average policy loss = -0.0012513153487816453\n",
      "######################################################\n",
      "=================================\n",
      "Initial portfolio value: 100000.0\n",
      "End portfolio value: [129565.82079692]\n",
      "Yearly Sharpe ratio at last period: 1.0960515075674404\n",
      "=================================\n",
      "=================================\n",
      "Initial portfolio value: 100000.0\n",
      "End portfolio value: [143539.47680649]\n",
      "Yearly Sharpe ratio at last period: 1.577577646795202\n",
      "=================================\n",
      "=================================\n",
      "Initial portfolio value: 100000.0\n",
      "End portfolio value: [136803.7653067]\n",
      "Yearly Sharpe ratio at last period: 1.4380133973129448\n",
      "=================================\n",
      "=================================\n",
      "Initial portfolio value: 100000.0\n",
      "End portfolio value: [139967.90565578]\n",
      "Yearly Sharpe ratio at last period: 1.3841377236629555\n",
      "=================================\n",
      "######################################################\n",
      "              TRAINING EPISODE: 32\n",
      "######################################################\n",
      "Average reward = 0.00032321967833026655 (portfolio return)\n",
      "Average policy loss = -0.0012929318472743034\n",
      "######################################################\n",
      "=================================\n",
      "Initial portfolio value: 100000.0\n",
      "End portfolio value: [152141.86855825]\n",
      "Yearly Sharpe ratio at last period: 1.7938196633062904\n",
      "=================================\n",
      "=================================\n",
      "Initial portfolio value: 100000.0\n",
      "End portfolio value: [133869.76149579]\n",
      "Yearly Sharpe ratio at last period: 1.223858315275853\n",
      "=================================\n",
      "=================================\n",
      "Initial portfolio value: 100000.0\n",
      "End portfolio value: [156092.7109799]\n",
      "Yearly Sharpe ratio at last period: 1.9304375064187698\n",
      "=================================\n",
      "=================================\n",
      "Initial portfolio value: 100000.0\n",
      "End portfolio value: [154576.57349843]\n",
      "Yearly Sharpe ratio at last period: 1.9198974637697093\n",
      "=================================\n",
      "######################################################\n",
      "              TRAINING EPISODE: 36\n",
      "######################################################\n",
      "Average reward = 0.0003418511832919968 (portfolio return)\n",
      "Average policy loss = -0.0013351624365895987\n",
      "######################################################\n",
      "=================================\n",
      "Initial portfolio value: 100000.0\n",
      "End portfolio value: [140548.90015791]\n",
      "Yearly Sharpe ratio at last period: 1.5672575864320588\n",
      "=================================\n",
      "=================================\n",
      "Initial portfolio value: 100000.0\n",
      "End portfolio value: [155432.60592027]\n",
      "Yearly Sharpe ratio at last period: 1.9073585632461787\n",
      "=================================\n",
      "=================================\n",
      "Initial portfolio value: 100000.0\n",
      "End portfolio value: [157474.57976486]\n",
      "Yearly Sharpe ratio at last period: 1.9612679742332741\n",
      "=================================\n",
      "=================================\n",
      "Initial portfolio value: 100000.0\n",
      "End portfolio value: [154929.81865269]\n",
      "Yearly Sharpe ratio at last period: 1.885180751807096\n",
      "=================================\n",
      "######################################################\n",
      "              TRAINING EPISODE: 40\n",
      "######################################################\n",
      "Average reward = 0.00035926010486408977 (portfolio return)\n",
      "Average policy loss = -0.0013808790827170014\n",
      "######################################################\n",
      "=================================\n",
      "Initial portfolio value: 100000.0\n",
      "End portfolio value: [164967.41461492]\n",
      "Yearly Sharpe ratio at last period: 2.1721030253869262\n",
      "=================================\n",
      "=================================\n",
      "Initial portfolio value: 100000.0\n",
      "End portfolio value: [163224.38610147]\n",
      "Yearly Sharpe ratio at last period: 2.1228574983412978\n",
      "=================================\n",
      "=================================\n",
      "Initial portfolio value: 100000.0\n",
      "End portfolio value: [163147.86300398]\n",
      "Yearly Sharpe ratio at last period: 2.120687462109223\n",
      "=================================\n",
      "=================================\n",
      "Initial portfolio value: 100000.0\n",
      "End portfolio value: [141333.79368957]\n",
      "Yearly Sharpe ratio at last period: 1.5102907458158998\n",
      "=================================\n",
      "######################################################\n",
      "              TRAINING EPISODE: 44\n",
      "######################################################\n",
      "Average reward = 0.00037778346109917926 (portfolio return)\n",
      "Average policy loss = -0.0014201857848092914\n",
      "######################################################\n",
      "=================================\n",
      "Initial portfolio value: 100000.0\n",
      "End portfolio value: [117309.87395289]\n",
      "Yearly Sharpe ratio at last period: 0.677037059992014\n",
      "=================================\n",
      "=================================\n",
      "Initial portfolio value: 100000.0\n",
      "End portfolio value: [119609.00738444]\n",
      "Yearly Sharpe ratio at last period: 0.7620591070871817\n",
      "=================================\n",
      "=================================\n",
      "Initial portfolio value: 100000.0\n",
      "End portfolio value: [116308.09117113]\n",
      "Yearly Sharpe ratio at last period: 0.6095719536996296\n",
      "=================================\n",
      "=================================\n",
      "Initial portfolio value: 100000.0\n",
      "End portfolio value: [121566.52727932]\n",
      "Yearly Sharpe ratio at last period: 0.8083106346730066\n",
      "=================================\n",
      "######################################################\n",
      "              TRAINING EPISODE: 48\n",
      "######################################################\n",
      "Average reward = 0.0003639007076767786 (portfolio return)\n",
      "Average policy loss = -0.001400829292833805\n",
      "######################################################\n",
      "Plotting average reward and policy loss histories...\n"
     ]
    },
    {
     "data": {
      "image/png": "[encoded data removed]",
      "text/plain": [
       "<Figure size 640x480 with 1 Axes>"
      ]
     },
     "metadata": {},
     "output_type": "display_data"
    }
   ],
   "source": [
    "# Learning params\n",
    "n_train_rounds = 48\n",
    "batch_size = 128\n",
    "\n",
    "# Train the model\n",
    "average_reward_hist, average_policy_loss_hist\\\n",
    "    = Agent.train_model(n_train_rounds = n_train_rounds,\n",
    "                        batch_size = batch_size,\n",
    "                        show_env_plots=False\n",
    "                       )"
   ]
  },
  {
   "cell_type": "code",
   "execution_count": 14,
   "id": "44161f29-757f-4baa-b968-c48f5f128342",
   "metadata": {},
   "outputs": [
    {
     "name": "stdout",
     "output_type": "stream",
     "text": [
      "len(average_policy_loss_hist) = 48\n",
      "len(average_reward_hist) = 48\n"
     ]
    }
   ],
   "source": [
    "print(f\"len(average_policy_loss_hist) = {len(average_policy_loss_hist)}\")\n",
    "print(f\"len(average_reward_hist) = {len(average_reward_hist)}\")"
   ]
  },
  {
   "cell_type": "code",
   "execution_count": null,
   "id": "c5539f03-2dc4-4ca8-ab35-cf7576c09b5a",
   "metadata": {},
   "outputs": [],
   "source": []
  },
  {
   "cell_type": "code",
   "execution_count": 15,
   "id": "0445357f-0e19-4131-883e-c484f6b1a247",
   "metadata": {},
   "outputs": [],
   "source": [
    "df_train_hist = pd.DataFrame({\"episode\":range(len(average_reward_hist)),\n",
    "                              \"avg_rwd\":average_reward_hist,\n",
    "                              \"avg_loss\": average_policy_loss_hist\n",
    "                             }).set_index(\"episode\")"
   ]
  },
  {
   "cell_type": "code",
   "execution_count": 16,
   "id": "b6d879b0-8c2e-4893-88f8-b66c5372bafb",
   "metadata": {},
   "outputs": [
    {
     "data": {
      "text/plain": [
       "<AxesSubplot: xlabel='episode'>"
      ]
     },
     "execution_count": 16,
     "metadata": {},
     "output_type": "execute_result"
    },
    {
     "data": {
      "image/png": "[encoded data removed]",
      "text/plain": [
       "<Figure size 640x480 with 1 Axes>"
      ]
     },
     "metadata": {},
     "output_type": "display_data"
    }
   ],
   "source": [
    "df_train_hist.plot()"
   ]
  },
  {
   "cell_type": "markdown",
   "id": "4ca67433-1e6e-4012-b115-96855c2f28f8",
   "metadata": {},
   "source": [
    "Try a backtest for good measure."
   ]
  },
  {
   "cell_type": "code",
   "execution_count": 17,
   "id": "08dd11bb-7acf-452c-93a7-85d01e6e15ab",
   "metadata": {},
   "outputs": [
    {
     "name": "stdout",
     "output_type": "stream",
     "text": [
      "=================================\n",
      "Initial portfolio value: 100000.0\n",
      "End portfolio value: [106294.86435435]\n",
      "Yearly Sharpe ratio at last period: 0.9962303660950688\n",
      "=================================\n",
      "Plotting portfolio values and weights for last 40 periods:\n"
     ]
    },
    {
     "data": {
      "image/png": "[encoded data removed]",
      "text/plain": [
       "<Figure size 640x480 with 2 Axes>"
      ]
     },
     "metadata": {},
     "output_type": "display_data"
    },
    {
     "name": "stdout",
     "output_type": "stream",
     "text": [
      "Finished running backtest. Storing results...\n"
     ]
    },
    {
     "name": "stderr",
     "output_type": "stream",
     "text": [
      "/usr/local/lib/python3.9/dist-packages/pyfolio/timeseries.py:730: FutureWarning: The default dtype for empty Series will be 'object' instead of 'float64' in a future version. Specify a dtype explicitly to silence this warning.\n",
      "  stats = pd.Series()\n"
     ]
    }
   ],
   "source": [
    "# Backtest\n",
    "backtest_result_dict = Agent.run_backtest(test_env = env_test)"
   ]
  },
  {
   "cell_type": "code",
   "execution_count": 18,
   "id": "85af846a-7779-4151-9358-fbe0ef269799",
   "metadata": {},
   "outputs": [
    {
     "data": {
      "text/plain": [
       "dict_keys(['value_hist', 'return_hist', 'weights_hist', 'agt_actions_hist', 'performance_stats'])"
      ]
     },
     "execution_count": 18,
     "metadata": {},
     "output_type": "execute_result"
    }
   ],
   "source": [
    "backtest_result_dict.keys()"
   ]
  },
  {
   "cell_type": "code",
   "execution_count": 19,
   "id": "5feca4c8-f179-4151-bab1-f900db20827c",
   "metadata": {},
   "outputs": [
    {
     "data": {
      "text/plain": [
       "pandas.core.frame.DataFrame"
      ]
     },
     "execution_count": 19,
     "metadata": {},
     "output_type": "execute_result"
    }
   ],
   "source": [
    "type(backtest_result_dict[\"value_hist\"])"
   ]
  },
  {
   "cell_type": "code",
   "execution_count": 20,
   "id": "37ea47c5-8911-41d6-a3e6-18fc87bd845d",
   "metadata": {},
   "outputs": [
    {
     "data": {
      "text/plain": [
       "<AxesSubplot: >"
      ]
     },
     "execution_count": 20,
     "metadata": {},
     "output_type": "execute_result"
    },
    {
     "data": {
      "image/png": "[encoded data removed]",
      "text/plain": [
       "<Figure size 640x480 with 1 Axes>"
      ]
     },
     "metadata": {},
     "output_type": "display_data"
    }
   ],
   "source": [
    "backtest_result_dict[\"value_hist\"].plot()"
   ]
  },
  {
   "cell_type": "code",
   "execution_count": 21,
   "id": "9abc38ab-e822-4792-a5f7-c59dcaf48a1e",
   "metadata": {},
   "outputs": [
    {
     "data": {
      "text/plain": [
       "<AxesSubplot: >"
      ]
     },
     "execution_count": 21,
     "metadata": {},
     "output_type": "execute_result"
    },
    {
     "data": {
      "image/png": "[encoded data removed]",
      "text/plain": [
       "<Figure size 640x480 with 1 Axes>"
      ]
     },
     "metadata": {},
     "output_type": "display_data"
    }
   ],
   "source": [
    "backtest_result_dict[\"agt_actions_hist\"].iloc[-50:].plot()"
   ]
  },
  {
   "cell_type": "code",
   "execution_count": null,
   "id": "0225f313-c663-4d64-b282-bde651e2fb89",
   "metadata": {},
   "outputs": [],
   "source": []
  }
 ],
 "metadata": {
  "colab": {
   "collapsed_sections": [
    "8dae894a-42fc-4365-b8bd-d3c46a3bb380",
    "ccbe6576-404d-4b64-a691-ad74fb5d4f40",
    "4Q2XVjm-iArZ"
   ],
   "provenance": []
  },
  "kernelspec": {
   "display_name": "Python 3 (ipykernel)",
   "language": "python",
   "name": "python3"
  },
  "language_info": {
   "codemirror_mode": {
    "name": "ipython",
    "version": 3
   },
   "file_extension": ".py",
   "mimetype": "text/x-python",
   "name": "python",
   "nbconvert_exporter": "python",
   "pygments_lexer": "ipython3",
   "version": "3.9.16"
  }
 },
 "nbformat": 4,
 "nbformat_minor": 5
}
